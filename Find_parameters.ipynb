{
 "cells": [
  {
   "cell_type": "code",
   "execution_count": 1,
   "metadata": {},
   "outputs": [],
   "source": [
    "import pandas as pd\n",
    "import numpy as np"
   ]
  },
  {
   "cell_type": "markdown",
   "metadata": {},
   "source": [
    "1. Import confirmed, recovered and deaths data set for a given country"
   ]
  },
  {
   "cell_type": "code",
   "execution_count": 169,
   "metadata": {},
   "outputs": [],
   "source": [
    "confirmed = pd.read_csv('DATA/COVID-19/csse_covid_19_data/csse_covid_19_time_series/time_series_covid19_confirmed_global.csv')\n",
    "recovered = pd.read_csv('DATA/COVID-19/csse_covid_19_data/csse_covid_19_time_series/time_series_covid19_recovered_global.csv')\n",
    "deaths = pd.read_csv('DATA/COVID-19/csse_covid_19_data/csse_covid_19_time_series/time_series_covid19_deaths_global.csv')"
   ]
  },
  {
   "cell_type": "markdown",
   "metadata": {},
   "source": [
    "2. Pre-process the datasets"
   ]
  },
  {
   "cell_type": "code",
   "execution_count": 170,
   "metadata": {},
   "outputs": [],
   "source": [
    "def reformat(df, country, col_name):\n",
    "    \n",
    "    df = df[df['Country/Region'] == country]\n",
    "    index = df.iloc[0].name\n",
    "\n",
    "    df = df.T\n",
    "    df = df.rename({index: col_name}, axis = 1)\n",
    "    # get rid of columns that do not represent the number of recovered/confirmed/deaths \n",
    "    df = df.iloc[4:,:]\n",
    "    \n",
    "    return df\n",
    "\n",
    "    #df = df[df[col_name] > 0]\n"
   ]
  },
  {
   "cell_type": "code",
   "execution_count": 171,
   "metadata": {},
   "outputs": [
    {
     "data": {
      "text/html": [
       "<div>\n",
       "<style scoped>\n",
       "    .dataframe tbody tr th:only-of-type {\n",
       "        vertical-align: middle;\n",
       "    }\n",
       "\n",
       "    .dataframe tbody tr th {\n",
       "        vertical-align: top;\n",
       "    }\n",
       "\n",
       "    .dataframe thead th {\n",
       "        text-align: right;\n",
       "    }\n",
       "</style>\n",
       "<table border=\"1\" class=\"dataframe\">\n",
       "  <thead>\n",
       "    <tr style=\"text-align: right;\">\n",
       "      <th></th>\n",
       "      <th>Recovered cases</th>\n",
       "    </tr>\n",
       "  </thead>\n",
       "  <tbody>\n",
       "    <tr>\n",
       "      <th>1/22/20</th>\n",
       "      <td>0</td>\n",
       "    </tr>\n",
       "    <tr>\n",
       "      <th>1/23/20</th>\n",
       "      <td>0</td>\n",
       "    </tr>\n",
       "    <tr>\n",
       "      <th>1/24/20</th>\n",
       "      <td>0</td>\n",
       "    </tr>\n",
       "    <tr>\n",
       "      <th>1/25/20</th>\n",
       "      <td>0</td>\n",
       "    </tr>\n",
       "    <tr>\n",
       "      <th>1/26/20</th>\n",
       "      <td>0</td>\n",
       "    </tr>\n",
       "  </tbody>\n",
       "</table>\n",
       "</div>"
      ],
      "text/plain": [
       "        Recovered cases\n",
       "1/22/20               0\n",
       "1/23/20               0\n",
       "1/24/20               0\n",
       "1/25/20               0\n",
       "1/26/20               0"
      ]
     },
     "execution_count": 171,
     "metadata": {},
     "output_type": "execute_result"
    }
   ],
   "source": [
    "recovered = reformat(recovered, 'Italy', 'Recovered cases')\n",
    "confirmed = reformat(confirmed, 'Italy', 'Confirmed cases')\n",
    "deaths = reformat(deaths, 'Italy', 'Deaths cases')\n",
    "\n",
    "recovered.head()"
   ]
  },
  {
   "cell_type": "markdown",
   "metadata": {},
   "source": [
    "3. Create new data frame recovered per day so we know how many people recovered from the epidemic on a given day\n"
   ]
  },
  {
   "cell_type": "markdown",
   "metadata": {},
   "source": [
    "**problem** : Here, I see that recovered_daily contains a negative value, therefore recovered is not fully incremental. ??? Change dataset?"
   ]
  },
  {
   "cell_type": "code",
   "execution_count": 172,
   "metadata": {},
   "outputs": [],
   "source": [
    "recovered_daily = recovered.diff()\n",
    "recovered_daily.iloc[0,:] = 0"
   ]
  },
  {
   "cell_type": "code",
   "execution_count": 173,
   "metadata": {},
   "outputs": [],
   "source": [
    "deaths_daily = deaths.diff()\n",
    "deaths_daily.iloc[0] = 0"
   ]
  },
  {
   "cell_type": "markdown",
   "metadata": {},
   "source": [
    "4. Generate dataset infected representing the number of infected individuals at a given time t (not the new number of infected, number of actively infected individuals)\n",
    "\n",
    "$$\\text{confirmed}(t)=\\text{confirmed}(t)-\\sum_{i=\\text{day}_0}^{t}\\text{recovered_daily(i)}-\\sum_{i=\\text{day}_0}^{t}\\text{deaths_daily}(i)$$"
   ]
  },
  {
   "cell_type": "code",
   "execution_count": 174,
   "metadata": {},
   "outputs": [],
   "source": [
    "infected_ = []\n",
    "days_ = []\n",
    "# i: date (time t)\n",
    "# row: row\n",
    "acc_deaths = 0\n",
    "acc_recovered = 0\n",
    "\n",
    "for i, row in confirmed.iterrows():\n",
    "    acc_recovered += recovered_daily.loc[i]['Recovered cases']\n",
    "    acc_deaths += deaths_daily.loc[i]['Deaths cases']\n",
    "    \n",
    "    diff = row['Confirmed cases'] - acc_recovered - acc_deaths\n",
    "    \n",
    "    infected_.append(diff)\n",
    "    days_.append(i)"
   ]
  },
  {
   "cell_type": "markdown",
   "metadata": {},
   "source": [
    "Careful, infected represents active number of infected, not new number of infected"
   ]
  },
  {
   "cell_type": "code",
   "execution_count": 175,
   "metadata": {},
   "outputs": [],
   "source": [
    "infected = pd.DataFrame({'Date': days_,'Infected Cases': infected_})"
   ]
  },
  {
   "cell_type": "code",
   "execution_count": 176,
   "metadata": {},
   "outputs": [],
   "source": [
    "recovered = recovered.reset_index().rename({'index':'Date'}, axis = 1)"
   ]
  },
  {
   "cell_type": "markdown",
   "metadata": {},
   "source": [
    "Now we can start working on predicting our gammas. \n",
    "Recovered is cumulative, as expected (absorbing state in our SIR model) and infected represents the number of infected individual at a certain date"
   ]
  },
  {
   "cell_type": "code",
   "execution_count": 177,
   "metadata": {},
   "outputs": [],
   "source": [
    "data = recovered.merge(infected, on='Date')"
   ]
  },
  {
   "cell_type": "code",
   "execution_count": 178,
   "metadata": {},
   "outputs": [],
   "source": [
    "data['Date'] = pd.to_datetime(data['Date'])\n",
    "#df['DOB'] = pd.to_datetime(df.DOB)\n"
   ]
  },
  {
   "cell_type": "code",
   "execution_count": 179,
   "metadata": {},
   "outputs": [],
   "source": [
    "dataframe = pd.concat([data['Date'],data['Recovered cases'], data['Infected Cases'].shift(7),\n",
    "                   data['Infected Cases'].shift(8),data['Infected Cases'].shift(9),\n",
    "                   data['Infected Cases'].shift(10),data['Infected Cases'].shift(11),\n",
    "                   data['Infected Cases'].shift(12),data['Infected Cases'].shift(13),\n",
    "                   data['Infected Cases'].shift(14),data['Infected Cases'].shift(15),\n",
    "                   data['Infected Cases'].shift(16),data['Infected Cases'].shift(17),\n",
    "                   data['Infected Cases'].shift(18),data['Infected Cases'].shift(19),\n",
    "                   data['Infected Cases'].shift(20),data['Infected Cases'].shift(21)], axis=1)"
   ]
  },
  {
   "cell_type": "markdown",
   "metadata": {},
   "source": [
    "To go on I think it would be better to have a larger data set"
   ]
  },
  {
   "cell_type": "code",
   "execution_count": 180,
   "metadata": {},
   "outputs": [],
   "source": [
    "# create lagged dataset\n",
    "dataframe.columns = ['Date', 'Recovered cases', 'Infected cases t-7','Infected cases t-8','Infected cases t-9',\n",
    "                    'Infected cases t-10','Infected cases t-11','Infected cases t-12','Infected cases t-13',\n",
    "                    'Infected cases t-14','Infected cases t-15','Infected cases t-16','Infected cases t-17',\n",
    "                    'Infected cases t-18','Infected cases t-19','Infected cases t-20','Infected cases t-21']\n",
    "\n",
    "# Keep data such that we have value t-21 at any given day t\n",
    "dataframe = dataframe[~np.isnan(dataframe['Infected cases t-21'])]\n",
    "\n"
   ]
  },
  {
   "cell_type": "code",
   "execution_count": 181,
   "metadata": {},
   "outputs": [],
   "source": [
    "dataframe = dataframe.set_index('Date')"
   ]
  },
  {
   "cell_type": "markdown",
   "metadata": {},
   "source": [
    "### Generate unsupervised data set (unused)"
   ]
  },
  {
   "cell_type": "markdown",
   "metadata": {},
   "source": [
    "Take $t-7$ as the last date in our dataset. Therefore, dates from $t-21$ to $t-7$ exist. Date $t$ is a date in the future. This means that $R(t)$ is a value that we do not know yet. So, for $t-7=\\text{today}$ to $t=\\text{today}+7\\text{ days}$, we will keep values $I(t-7)$ to $I(t)$ as features for unlabeled data. "
   ]
  },
  {
   "cell_type": "code",
   "execution_count": 15,
   "metadata": {},
   "outputs": [],
   "source": [
    "from datetime import datetime\n",
    "from datetime import timedelta\n",
    "\n",
    "#Select last date on our dataframe\n",
    "#t0 is the last date at which we have a label. for t>t0, we de not have R(t), as t is in the future\n",
    "# for t0 <= t <= t0+7, the value I(t-7) to I(t-21) exist.\n",
    "\n",
    "t0 = dataframe.index[-1]\n",
    "#t0 = datetime.strptime(t0,'%m/%d/%y')\n",
    "\n",
    "#t7 = t0 + timedelta(days=7)\n",
    "\n",
    "#the first date needs to be the next date after the last one at which we have a label\n",
    "t0 += timedelta(days = 1)\n"
   ]
  },
  {
   "cell_type": "code",
   "execution_count": 16,
   "metadata": {},
   "outputs": [],
   "source": [
    "#Same as labeled df, however without the number of recovered cases\n",
    "unsupervised_df = pd.DataFrame(columns=[['Date', 'Infected cases t-7','Infected cases t-8','Infected cases t-9',\n",
    "                    'Infected cases t-10','Infected cases t-11','Infected cases t-12','Infected cases t-13',\n",
    "                    'Infected cases t-14','Infected cases t-15','Infected cases t-16','Infected cases t-17',\n",
    "                    'Infected cases t-18','Infected cases t-19','Infected cases t-20','Infected cases t-21']])"
   ]
  },
  {
   "cell_type": "code",
   "execution_count": 17,
   "metadata": {},
   "outputs": [
    {
     "name": "stdout",
     "output_type": "stream",
     "text": [
      "[Timestamp('2020-04-11 00:00:00'), 88274, 85388, 83049, 80572, 77635, 75528, 73880, 70065, 66414, 62013, 57521, 54030, 50826, 46638, 42681]\n",
      "[Timestamp('2020-04-12 00:00:00'), 91246, 88274, 85388, 83049, 80572, 77635, 75528, 73880, 70065, 66414, 62013, 57521, 54030, 50826, 46638]\n",
      "[Timestamp('2020-04-13 00:00:00'), 93187, 91246, 88274, 85388, 83049, 80572, 77635, 75528, 73880, 70065, 66414, 62013, 57521, 54030, 50826]\n",
      "[Timestamp('2020-04-14 00:00:00'), 94067, 93187, 91246, 88274, 85388, 83049, 80572, 77635, 75528, 73880, 70065, 66414, 62013, 57521, 54030]\n",
      "[Timestamp('2020-04-15 00:00:00'), 95262, 94067, 93187, 91246, 88274, 85388, 83049, 80572, 77635, 75528, 73880, 70065, 66414, 62013, 57521]\n",
      "[Timestamp('2020-04-16 00:00:00'), 96877, 95262, 94067, 93187, 91246, 88274, 85388, 83049, 80572, 77635, 75528, 73880, 70065, 66414, 62013]\n",
      "[Timestamp('2020-04-17 00:00:00'), 98273, 96877, 95262, 94067, 93187, 91246, 88274, 85388, 83049, 80572, 77635, 75528, 73880, 70065, 66414]\n"
     ]
    }
   ],
   "source": [
    "for single_date in (t0 + timedelta(n) for n in range(7)):\n",
    "    \n",
    "    list_of_infected_per_delta = []\n",
    "    list_of_infected_per_delta.append(single_date)\n",
    "    \n",
    "    #for each day t in the span on our week, append I(t-7) ... I(t-21) to list_of_infected_per_delta\n",
    "    # this list will be a row to our new dataframe\n",
    "    for delta_t in range(7,22):\n",
    "        list_of_infected_per_delta.append(data[data['Date'] == single_date - timedelta(days = delta_t)]['Infected Cases'].iloc[0])\n",
    "    \n",
    "    print(list_of_infected_per_delta)\n",
    "    unsupervised_df.loc[len(unsupervised_df)] = list_of_infected_per_delta\n",
    "\n",
    "    #unsupervised_df = unsupervised_df.append(list_of_infected_per_delta)"
   ]
  },
  {
   "cell_type": "code",
   "execution_count": 18,
   "metadata": {},
   "outputs": [
    {
     "data": {
      "text/html": [
       "<div>\n",
       "<style scoped>\n",
       "    .dataframe tbody tr th:only-of-type {\n",
       "        vertical-align: middle;\n",
       "    }\n",
       "\n",
       "    .dataframe tbody tr th {\n",
       "        vertical-align: top;\n",
       "    }\n",
       "\n",
       "    .dataframe thead tr th {\n",
       "        text-align: left;\n",
       "    }\n",
       "</style>\n",
       "<table border=\"1\" class=\"dataframe\">\n",
       "  <thead>\n",
       "    <tr>\n",
       "      <th></th>\n",
       "      <th>Date</th>\n",
       "      <th>Infected cases t-7</th>\n",
       "      <th>Infected cases t-8</th>\n",
       "      <th>Infected cases t-9</th>\n",
       "      <th>Infected cases t-10</th>\n",
       "      <th>Infected cases t-11</th>\n",
       "      <th>Infected cases t-12</th>\n",
       "      <th>Infected cases t-13</th>\n",
       "      <th>Infected cases t-14</th>\n",
       "      <th>Infected cases t-15</th>\n",
       "      <th>Infected cases t-16</th>\n",
       "      <th>Infected cases t-17</th>\n",
       "      <th>Infected cases t-18</th>\n",
       "      <th>Infected cases t-19</th>\n",
       "      <th>Infected cases t-20</th>\n",
       "      <th>Infected cases t-21</th>\n",
       "    </tr>\n",
       "  </thead>\n",
       "  <tbody>\n",
       "    <tr>\n",
       "      <th>0</th>\n",
       "      <td>2020-04-11</td>\n",
       "      <td>88274</td>\n",
       "      <td>85388</td>\n",
       "      <td>83049</td>\n",
       "      <td>80572</td>\n",
       "      <td>77635</td>\n",
       "      <td>75528</td>\n",
       "      <td>73880</td>\n",
       "      <td>70065</td>\n",
       "      <td>66414</td>\n",
       "      <td>62013</td>\n",
       "      <td>57521</td>\n",
       "      <td>54030</td>\n",
       "      <td>50826</td>\n",
       "      <td>46638</td>\n",
       "      <td>42681</td>\n",
       "    </tr>\n",
       "    <tr>\n",
       "      <th>1</th>\n",
       "      <td>2020-04-12</td>\n",
       "      <td>91246</td>\n",
       "      <td>88274</td>\n",
       "      <td>85388</td>\n",
       "      <td>83049</td>\n",
       "      <td>80572</td>\n",
       "      <td>77635</td>\n",
       "      <td>75528</td>\n",
       "      <td>73880</td>\n",
       "      <td>70065</td>\n",
       "      <td>66414</td>\n",
       "      <td>62013</td>\n",
       "      <td>57521</td>\n",
       "      <td>54030</td>\n",
       "      <td>50826</td>\n",
       "      <td>46638</td>\n",
       "    </tr>\n",
       "    <tr>\n",
       "      <th>2</th>\n",
       "      <td>2020-04-13</td>\n",
       "      <td>93187</td>\n",
       "      <td>91246</td>\n",
       "      <td>88274</td>\n",
       "      <td>85388</td>\n",
       "      <td>83049</td>\n",
       "      <td>80572</td>\n",
       "      <td>77635</td>\n",
       "      <td>75528</td>\n",
       "      <td>73880</td>\n",
       "      <td>70065</td>\n",
       "      <td>66414</td>\n",
       "      <td>62013</td>\n",
       "      <td>57521</td>\n",
       "      <td>54030</td>\n",
       "      <td>50826</td>\n",
       "    </tr>\n",
       "    <tr>\n",
       "      <th>3</th>\n",
       "      <td>2020-04-14</td>\n",
       "      <td>94067</td>\n",
       "      <td>93187</td>\n",
       "      <td>91246</td>\n",
       "      <td>88274</td>\n",
       "      <td>85388</td>\n",
       "      <td>83049</td>\n",
       "      <td>80572</td>\n",
       "      <td>77635</td>\n",
       "      <td>75528</td>\n",
       "      <td>73880</td>\n",
       "      <td>70065</td>\n",
       "      <td>66414</td>\n",
       "      <td>62013</td>\n",
       "      <td>57521</td>\n",
       "      <td>54030</td>\n",
       "    </tr>\n",
       "    <tr>\n",
       "      <th>4</th>\n",
       "      <td>2020-04-15</td>\n",
       "      <td>95262</td>\n",
       "      <td>94067</td>\n",
       "      <td>93187</td>\n",
       "      <td>91246</td>\n",
       "      <td>88274</td>\n",
       "      <td>85388</td>\n",
       "      <td>83049</td>\n",
       "      <td>80572</td>\n",
       "      <td>77635</td>\n",
       "      <td>75528</td>\n",
       "      <td>73880</td>\n",
       "      <td>70065</td>\n",
       "      <td>66414</td>\n",
       "      <td>62013</td>\n",
       "      <td>57521</td>\n",
       "    </tr>\n",
       "    <tr>\n",
       "      <th>5</th>\n",
       "      <td>2020-04-16</td>\n",
       "      <td>96877</td>\n",
       "      <td>95262</td>\n",
       "      <td>94067</td>\n",
       "      <td>93187</td>\n",
       "      <td>91246</td>\n",
       "      <td>88274</td>\n",
       "      <td>85388</td>\n",
       "      <td>83049</td>\n",
       "      <td>80572</td>\n",
       "      <td>77635</td>\n",
       "      <td>75528</td>\n",
       "      <td>73880</td>\n",
       "      <td>70065</td>\n",
       "      <td>66414</td>\n",
       "      <td>62013</td>\n",
       "    </tr>\n",
       "    <tr>\n",
       "      <th>6</th>\n",
       "      <td>2020-04-17</td>\n",
       "      <td>98273</td>\n",
       "      <td>96877</td>\n",
       "      <td>95262</td>\n",
       "      <td>94067</td>\n",
       "      <td>93187</td>\n",
       "      <td>91246</td>\n",
       "      <td>88274</td>\n",
       "      <td>85388</td>\n",
       "      <td>83049</td>\n",
       "      <td>80572</td>\n",
       "      <td>77635</td>\n",
       "      <td>75528</td>\n",
       "      <td>73880</td>\n",
       "      <td>70065</td>\n",
       "      <td>66414</td>\n",
       "    </tr>\n",
       "  </tbody>\n",
       "</table>\n",
       "</div>"
      ],
      "text/plain": [
       "        Date Infected cases t-7 Infected cases t-8 Infected cases t-9  \\\n",
       "0 2020-04-11              88274              85388              83049   \n",
       "1 2020-04-12              91246              88274              85388   \n",
       "2 2020-04-13              93187              91246              88274   \n",
       "3 2020-04-14              94067              93187              91246   \n",
       "4 2020-04-15              95262              94067              93187   \n",
       "5 2020-04-16              96877              95262              94067   \n",
       "6 2020-04-17              98273              96877              95262   \n",
       "\n",
       "  Infected cases t-10 Infected cases t-11 Infected cases t-12  \\\n",
       "0               80572               77635               75528   \n",
       "1               83049               80572               77635   \n",
       "2               85388               83049               80572   \n",
       "3               88274               85388               83049   \n",
       "4               91246               88274               85388   \n",
       "5               93187               91246               88274   \n",
       "6               94067               93187               91246   \n",
       "\n",
       "  Infected cases t-13 Infected cases t-14 Infected cases t-15  \\\n",
       "0               73880               70065               66414   \n",
       "1               75528               73880               70065   \n",
       "2               77635               75528               73880   \n",
       "3               80572               77635               75528   \n",
       "4               83049               80572               77635   \n",
       "5               85388               83049               80572   \n",
       "6               88274               85388               83049   \n",
       "\n",
       "  Infected cases t-16 Infected cases t-17 Infected cases t-18  \\\n",
       "0               62013               57521               54030   \n",
       "1               66414               62013               57521   \n",
       "2               70065               66414               62013   \n",
       "3               73880               70065               66414   \n",
       "4               75528               73880               70065   \n",
       "5               77635               75528               73880   \n",
       "6               80572               77635               75528   \n",
       "\n",
       "  Infected cases t-19 Infected cases t-20 Infected cases t-21  \n",
       "0               50826               46638               42681  \n",
       "1               54030               50826               46638  \n",
       "2               57521               54030               50826  \n",
       "3               62013               57521               54030  \n",
       "4               66414               62013               57521  \n",
       "5               70065               66414               62013  \n",
       "6               73880               70065               66414  "
      ]
     },
     "execution_count": 18,
     "metadata": {},
     "output_type": "execute_result"
    }
   ],
   "source": [
    "unsupervised_df"
   ]
  },
  {
   "cell_type": "markdown",
   "metadata": {},
   "source": [
    "### Persistence model"
   ]
  },
  {
   "cell_type": "code",
   "execution_count": 25,
   "metadata": {},
   "outputs": [],
   "source": [
    "y = dataframe.values[:,0]\n",
    "X = dataframe.values[:,1:]"
   ]
  },
  {
   "cell_type": "code",
   "execution_count": 26,
   "metadata": {},
   "outputs": [],
   "source": [
    "# split into train and test sets\n",
    "train, test = X[:len(X)-10], X[len(X)-10:]\n",
    "train_y, train_X = train[:,0], train[:,1:]\n",
    "test_y, test_X = test[:,0], test[:,1:]"
   ]
  },
  {
   "cell_type": "markdown",
   "metadata": {},
   "source": [
    "One of the simplest methods for predicting the future behavior of a time series is the so-called persistence model. Persistence implies that future values of the time series are calculated on the assumption that conditions remain unchanged between “current” time  and future time $t + T_H$. For a stationary time series—one whose mean and variance do not change over time—a straightforward implementation of the persistence model is simply\n",
    "\n",
    "$$\\hat{y}(t+T_H) = y(t)$$\n",
    "\n",
    "which may be referred as “dull persistence.”"
   ]
  },
  {
   "cell_type": "code",
   "execution_count": 28,
   "metadata": {},
   "outputs": [
    {
     "name": "stdout",
     "output_type": "stream",
     "text": [
      "Test MSE: 732527695.788\n"
     ]
    },
    {
     "data": {
      "image/png": "[encoded data removed]",
      "text/plain": [
       "<Figure size 432x288 with 1 Axes>"
      ]
     },
     "metadata": {
      "needs_background": "light"
     },
     "output_type": "display_data"
    }
   ],
   "source": [
    "from sklearn.metrics import mean_squared_error\n",
    "from matplotlib import pyplot\n",
    "\n",
    "def model_persistence(x):\n",
    "    return x\n",
    " \n",
    "# walk-forward validation\n",
    "predictions = list()\n",
    "for x in test_X:\n",
    "    # I added a slight change, by using the mean of the 14 observations in order to have one dimension input to the\n",
    "    # persistence model\n",
    "    yhat = model_persistence(np.mean(x))\n",
    "    predictions.append(yhat)\n",
    "test_score = mean_squared_error(test_y, predictions)\n",
    "print('Test MSE: %.3f' % test_score)\n",
    "# plot predictions vs expected\n",
    "pyplot.plot(test_y)\n",
    "pyplot.plot(predictions, color='red')\n",
    "pyplot.show()"
   ]
  },
  {
   "cell_type": "markdown",
   "metadata": {},
   "source": [
    "The expected number of recovered individuals for the next ten days are plotted (blue) compared to the predictions from the model (red)."
   ]
  },
  {
   "cell_type": "code",
   "execution_count": 526,
   "metadata": {},
   "outputs": [],
   "source": [
    "# if we try to predict the next seven days we have MSE Test MSE: 193348.358\n",
    "# if we try to predict the next ten days we have MSE Test MSE: 143632.721"
   ]
  },
  {
   "cell_type": "markdown",
   "metadata": {},
   "source": [
    "#  Linear regression model"
   ]
  },
  {
   "cell_type": "code",
   "execution_count": 182,
   "metadata": {},
   "outputs": [],
   "source": [
    "import pandas as pd  \n",
    "import numpy as np  \n",
    "import matplotlib.pyplot as plt  \n",
    "import seaborn as seabornInstance \n",
    "from sklearn.model_selection import train_test_split \n",
    "from sklearn.linear_model import LinearRegression\n",
    "from sklearn import metrics\n",
    "%matplotlib inline"
   ]
  },
  {
   "cell_type": "markdown",
   "metadata": {},
   "source": [
    "If we take out the first 15 days due to noise, unstability of covid-19 progress"
   ]
  },
  {
   "cell_type": "code",
   "execution_count": 183,
   "metadata": {},
   "outputs": [],
   "source": [
    "dataframe_new = dataframe.iloc[15:,:].copy()"
   ]
  },
  {
   "cell_type": "code",
   "execution_count": 184,
   "metadata": {},
   "outputs": [],
   "source": [
    "y = dataframe_new['Recovered cases'].values\n",
    "X = dataframe_new.iloc[:,1:].values"
   ]
  },
  {
   "cell_type": "code",
   "execution_count": 186,
   "metadata": {},
   "outputs": [],
   "source": [
    "dataframe.loc[:,'Recovered cases'] = dataframe_new.loc[:,'Recovered cases'].apply(pd.to_numeric)\n"
   ]
  },
  {
   "cell_type": "code",
   "execution_count": 187,
   "metadata": {},
   "outputs": [],
   "source": [
    "dataframe_new['Recovered cases'] = dataframe_new['Recovered cases'].apply(pd.to_numeric)\n"
   ]
  },
  {
   "cell_type": "code",
   "execution_count": 188,
   "metadata": {},
   "outputs": [
    {
     "name": "stderr",
     "output_type": "stream",
     "text": [
      "/usr/local/anaconda3/lib/python3.7/site-packages/scipy/stats/stats.py:1713: FutureWarning: Using a non-tuple sequence for multidimensional indexing is deprecated; use `arr[tuple(seq)]` instead of `arr[seq]`. In the future this will be interpreted as an array index, `arr[np.array(seq)]`, which will result either in an error or a different result.\n",
      "  return np.add.reduce(sorted[indexer] * weights, axis=axis) / sumval\n"
     ]
    },
    {
     "data": {
      "text/plain": [
       "<matplotlib.axes._subplots.AxesSubplot at 0x1a20affbe0>"
      ]
     },
     "execution_count": 188,
     "metadata": {},
     "output_type": "execute_result"
    },
    {
     "data": {
      "image/png": "[encoded data removed]",
      "text/plain": [
       "<Figure size 1080x720 with 1 Axes>"
      ]
     },
     "metadata": {
      "needs_background": "light"
     },
     "output_type": "display_data"
    }
   ],
   "source": [
    "from scipy.stats import norm\n",
    "\n",
    "plt.figure(figsize=(15,10))\n",
    "plt.tight_layout()\n",
    "seabornInstance.distplot(dataframe_new['Recovered cases'], fit=norm)"
   ]
  },
  {
   "cell_type": "code",
   "execution_count": 191,
   "metadata": {},
   "outputs": [
    {
     "name": "stdout",
     "output_type": "stream",
     "text": [
      "40\n"
     ]
    }
   ],
   "source": [
    "# split into train and test sets\n",
    "\n",
    "pct_90 = int(np.ceil(90*len(X)/100))\n",
    "\n",
    "print(pct_90)\n",
    "\n",
    "#predict las 10%\n",
    "\n",
    "train, test = dataframe_new.values[:pct_90], dataframe_new.values[pct_90:]\n",
    "y_train, X_train = train[:,0], train[:,1:]\n",
    "y_test, X_test = test[:,0], test[:,1:]"
   ]
  },
  {
   "cell_type": "code",
   "execution_count": 192,
   "metadata": {},
   "outputs": [],
   "source": [
    "#X_train, X_test, y_train, y_test = train_test_split(X, y, test_size=0.2, random_state=0)"
   ]
  },
  {
   "cell_type": "code",
   "execution_count": 193,
   "metadata": {},
   "outputs": [
    {
     "data": {
      "text/plain": [
       "LinearRegression(copy_X=True, fit_intercept=True, n_jobs=None, normalize=True)"
      ]
     },
     "execution_count": 193,
     "metadata": {},
     "output_type": "execute_result"
    }
   ],
   "source": [
    "regressor = LinearRegression(normalize=True)  \n",
    "regressor.fit(X_train, y_train) #training the algorithm"
   ]
  },
  {
   "cell_type": "code",
   "execution_count": 194,
   "metadata": {},
   "outputs": [],
   "source": [
    "y_pred = regressor.predict(X_test)\n"
   ]
  },
  {
   "cell_type": "code",
   "execution_count": 195,
   "metadata": {},
   "outputs": [
    {
     "data": {
      "text/html": [
       "<div>\n",
       "<style scoped>\n",
       "    .dataframe tbody tr th:only-of-type {\n",
       "        vertical-align: middle;\n",
       "    }\n",
       "\n",
       "    .dataframe tbody tr th {\n",
       "        vertical-align: top;\n",
       "    }\n",
       "\n",
       "    .dataframe thead th {\n",
       "        text-align: right;\n",
       "    }\n",
       "</style>\n",
       "<table border=\"1\" class=\"dataframe\">\n",
       "  <thead>\n",
       "    <tr style=\"text-align: right;\">\n",
       "      <th></th>\n",
       "      <th>Actual</th>\n",
       "      <th>Predicted</th>\n",
       "    </tr>\n",
       "  </thead>\n",
       "  <tbody>\n",
       "    <tr>\n",
       "      <th>0</th>\n",
       "      <td>24392.0</td>\n",
       "      <td>25135.294924</td>\n",
       "    </tr>\n",
       "    <tr>\n",
       "      <th>1</th>\n",
       "      <td>26491.0</td>\n",
       "      <td>28148.190732</td>\n",
       "    </tr>\n",
       "    <tr>\n",
       "      <th>2</th>\n",
       "      <td>28470.0</td>\n",
       "      <td>30846.493963</td>\n",
       "    </tr>\n",
       "    <tr>\n",
       "      <th>3</th>\n",
       "      <td>30455.0</td>\n",
       "      <td>32390.945776</td>\n",
       "    </tr>\n",
       "  </tbody>\n",
       "</table>\n",
       "</div>"
      ],
      "text/plain": [
       "    Actual     Predicted\n",
       "0  24392.0  25135.294924\n",
       "1  26491.0  28148.190732\n",
       "2  28470.0  30846.493963\n",
       "3  30455.0  32390.945776"
      ]
     },
     "execution_count": 195,
     "metadata": {},
     "output_type": "execute_result"
    }
   ],
   "source": [
    "df = pd.DataFrame({'Actual': y_test.flatten(), 'Predicted': y_pred.flatten()})\n",
    "df"
   ]
  },
  {
   "cell_type": "code",
   "execution_count": 196,
   "metadata": {},
   "outputs": [
    {
     "name": "stdout",
     "output_type": "stream",
     "text": [
      "Mean Absolute Error: 1678.23\n",
      "Mean Squared Error: 3173594.52\n",
      "Root Mean Squared Error: 1781.46\n"
     ]
    }
   ],
   "source": [
    "print('Mean Absolute Error:',  \"%.2f\" % (metrics.mean_absolute_error(y_test, y_pred),))  \n",
    "print('Mean Squared Error:', \"%.2f\" % (metrics.mean_squared_error(y_test, y_pred),) )  \n",
    "print('Root Mean Squared Error:', \"%.2f\" % (np.sqrt(metrics.mean_squared_error(y_test, y_pred),)))"
   ]
  },
  {
   "cell_type": "code",
   "execution_count": 197,
   "metadata": {},
   "outputs": [
    {
     "data": {
      "text/plain": [
       "array([ 2.39409765e-01,  3.79037366e-01, -1.22527853e-01, -1.00420676e-01,\n",
       "        2.49715461e-01, -9.54644043e-02, -4.10800809e-01, -4.97027829e-01,\n",
       "        8.60260974e-03, -9.55686903e-03,  1.95494393e-04,  8.81584554e-02,\n",
       "        5.55152603e-01,  4.20262125e-01, -9.59310982e-03])"
      ]
     },
     "execution_count": 197,
     "metadata": {},
     "output_type": "execute_result"
    }
   ],
   "source": [
    "regressor.coef_"
   ]
  },
  {
   "cell_type": "code",
   "execution_count": 198,
   "metadata": {},
   "outputs": [
    {
     "name": "stdout",
     "output_type": "stream",
     "text": [
      "R^2 Score:  0.376\n"
     ]
    }
   ],
   "source": [
    "print(\"R^2 Score: \",\"%.3f\" % (regressor.score(X_test, y_test),) )"
   ]
  },
  {
   "cell_type": "code",
   "execution_count": 200,
   "metadata": {},
   "outputs": [
    {
     "data": {
      "text/html": [
       "<div>\n",
       "<style scoped>\n",
       "    .dataframe tbody tr th:only-of-type {\n",
       "        vertical-align: middle;\n",
       "    }\n",
       "\n",
       "    .dataframe tbody tr th {\n",
       "        vertical-align: top;\n",
       "    }\n",
       "\n",
       "    .dataframe thead th {\n",
       "        text-align: right;\n",
       "    }\n",
       "</style>\n",
       "<table border=\"1\" class=\"dataframe\">\n",
       "  <thead>\n",
       "    <tr style=\"text-align: right;\">\n",
       "      <th></th>\n",
       "      <th>Coefficient</th>\n",
       "    </tr>\n",
       "  </thead>\n",
       "  <tbody>\n",
       "    <tr>\n",
       "      <th>Infected cases t-7</th>\n",
       "      <td>0.239410</td>\n",
       "    </tr>\n",
       "    <tr>\n",
       "      <th>Infected cases t-8</th>\n",
       "      <td>0.379037</td>\n",
       "    </tr>\n",
       "    <tr>\n",
       "      <th>Infected cases t-9</th>\n",
       "      <td>-0.122528</td>\n",
       "    </tr>\n",
       "    <tr>\n",
       "      <th>Infected cases t-10</th>\n",
       "      <td>-0.100421</td>\n",
       "    </tr>\n",
       "    <tr>\n",
       "      <th>Infected cases t-11</th>\n",
       "      <td>0.249715</td>\n",
       "    </tr>\n",
       "    <tr>\n",
       "      <th>Infected cases t-12</th>\n",
       "      <td>-0.095464</td>\n",
       "    </tr>\n",
       "    <tr>\n",
       "      <th>Infected cases t-13</th>\n",
       "      <td>-0.410801</td>\n",
       "    </tr>\n",
       "    <tr>\n",
       "      <th>Infected cases t-14</th>\n",
       "      <td>-0.497028</td>\n",
       "    </tr>\n",
       "    <tr>\n",
       "      <th>Infected cases t-15</th>\n",
       "      <td>0.008603</td>\n",
       "    </tr>\n",
       "    <tr>\n",
       "      <th>Infected cases t-16</th>\n",
       "      <td>-0.009557</td>\n",
       "    </tr>\n",
       "    <tr>\n",
       "      <th>Infected cases t-17</th>\n",
       "      <td>0.000195</td>\n",
       "    </tr>\n",
       "    <tr>\n",
       "      <th>Infected cases t-18</th>\n",
       "      <td>0.088158</td>\n",
       "    </tr>\n",
       "    <tr>\n",
       "      <th>Infected cases t-19</th>\n",
       "      <td>0.555153</td>\n",
       "    </tr>\n",
       "    <tr>\n",
       "      <th>Infected cases t-20</th>\n",
       "      <td>0.420262</td>\n",
       "    </tr>\n",
       "    <tr>\n",
       "      <th>Infected cases t-21</th>\n",
       "      <td>-0.009593</td>\n",
       "    </tr>\n",
       "  </tbody>\n",
       "</table>\n",
       "</div>"
      ],
      "text/plain": [
       "                     Coefficient\n",
       "Infected cases t-7      0.239410\n",
       "Infected cases t-8      0.379037\n",
       "Infected cases t-9     -0.122528\n",
       "Infected cases t-10    -0.100421\n",
       "Infected cases t-11     0.249715\n",
       "Infected cases t-12    -0.095464\n",
       "Infected cases t-13    -0.410801\n",
       "Infected cases t-14    -0.497028\n",
       "Infected cases t-15     0.008603\n",
       "Infected cases t-16    -0.009557\n",
       "Infected cases t-17     0.000195\n",
       "Infected cases t-18     0.088158\n",
       "Infected cases t-19     0.555153\n",
       "Infected cases t-20     0.420262\n",
       "Infected cases t-21    -0.009593"
      ]
     },
     "execution_count": 200,
     "metadata": {},
     "output_type": "execute_result"
    }
   ],
   "source": [
    "coeff_df = pd.DataFrame(regressor.coef_, dataframe.iloc[:,1:].columns, columns=['Coefficient'])  \n",
    "coeff_df"
   ]
  },
  {
   "cell_type": "markdown",
   "metadata": {},
   "source": [
    "### Plot coefficients (distribution of gamma)"
   ]
  },
  {
   "cell_type": "code",
   "execution_count": 201,
   "metadata": {},
   "outputs": [
    {
     "name": "stderr",
     "output_type": "stream",
     "text": [
      "/usr/local/anaconda3/lib/python3.7/site-packages/scipy/stats/stats.py:1713: FutureWarning: Using a non-tuple sequence for multidimensional indexing is deprecated; use `arr[tuple(seq)]` instead of `arr[seq]`. In the future this will be interpreted as an array index, `arr[np.array(seq)]`, which will result either in an error or a different result.\n",
      "  return np.add.reduce(sorted[indexer] * weights, axis=axis) / sumval\n"
     ]
    },
    {
     "data": {
      "text/plain": [
       "<matplotlib.axes._subplots.AxesSubplot at 0x10d98eeb8>"
      ]
     },
     "execution_count": 201,
     "metadata": {},
     "output_type": "execute_result"
    },
    {
     "data": {
      "image/png": "[encoded data removed]",
      "text/plain": [
       "<Figure size 1080x720 with 1 Axes>"
      ]
     },
     "metadata": {
      "needs_background": "light"
     },
     "output_type": "display_data"
    }
   ],
   "source": [
    "plt.figure(figsize=(15,10))\n",
    "plt.tight_layout()\n",
    "seabornInstance.distplot(coeff_df, fit=norm)"
   ]
  },
  {
   "cell_type": "markdown",
   "metadata": {},
   "source": [
    "**Update this**"
   ]
  },
  {
   "cell_type": "markdown",
   "metadata": {},
   "source": [
    "For a unit increase in the number of recovered individuals at time t, that means there is:\n",
    "- An increase of 21 infected at day t-20\n",
    "- A decrease of 13 infected at day t-18\n",
    "\n",
    "We see that the closer we are to the recovery date, the lower the number of infected cases has an impact on the number od recovered cases "
   ]
  },
  {
   "cell_type": "markdown",
   "metadata": {},
   "source": [
    "### Plot Actual values (y test) versus predicted values"
   ]
  },
  {
   "cell_type": "code",
   "execution_count": 202,
   "metadata": {},
   "outputs": [
    {
     "data": {
      "image/png": "[encoded data removed]",
      "text/plain": [
       "<Figure size 720x576 with 1 Axes>"
      ]
     },
     "metadata": {
      "needs_background": "light"
     },
     "output_type": "display_data"
    }
   ],
   "source": [
    "df.plot(kind='bar',figsize=(10,8))\n",
    "plt.grid(which='major', linestyle='-', linewidth='0.5', color='green')\n",
    "plt.grid(which='minor', linestyle=':', linewidth='0.5', color='black')\n",
    "plt.show()"
   ]
  },
  {
   "cell_type": "markdown",
   "metadata": {},
   "source": [
    "There are many factors that may have contributed to this inaccuracy, for example :\n",
    "\n",
    "- **Need more data**: We need to have a huge amount of data to get the best possible prediction.\n",
    "- **Bad assumptions**: We made the assumption that this data has a linear relationship, but that might not be the case. Visualizing the data may help us determine that.\n",
    "- **Poor features**: The features we used may not have had a high enough correlation to the values we were trying to predict."
   ]
  },
  {
   "cell_type": "markdown",
   "metadata": {},
   "source": [
    "#  ridge regression (L2)"
   ]
  },
  {
   "cell_type": "code",
   "execution_count": 203,
   "metadata": {},
   "outputs": [],
   "source": [
    "from sklearn.linear_model import Ridge\n",
    "from sklearn import linear_model\n",
    "import numpy as np\n",
    "from sklearn.linear_model import RidgeCV\n",
    "from sklearn.preprocessing import StandardScaler\n",
    "import matplotlib.pyplot as plt\n",
    "\n",
    "rng = np.random.RandomState(0)\n"
   ]
  },
  {
   "cell_type": "code",
   "execution_count": 204,
   "metadata": {},
   "outputs": [
    {
     "name": "stdout",
     "output_type": "stream",
     "text": [
      "40\n"
     ]
    }
   ],
   "source": [
    "#y = dataframe_new['Recovered cases'].values\n",
    "#X = dataframe_new.iloc[:,1:].values\n",
    "\n",
    "#X_train, X_test, y_train, y_test = train_test_split(X, y, test_size=0.2, random_state=1)\n",
    "\n",
    "# split into train and test sets\n",
    "\n",
    "pct_90 = int(np.ceil(90*len(X)/100))\n",
    "\n",
    "print(pct_90)\n",
    "\n",
    "#predict las 10%\n",
    "\n",
    "train, test = dataframe_new.values[:pct_90], dataframe_new.values[pct_90:]\n",
    "y_train, X_train = train[:,0], train[:,1:]\n",
    "y_test, X_test = test[:,0], test[:,1:]"
   ]
  },
  {
   "cell_type": "code",
   "execution_count": 207,
   "metadata": {},
   "outputs": [],
   "source": [
    "# Create ridge regression with three possible alpha values\n",
    "\n",
    "clf = Ridge(alpha=1, normalize=True)\n",
    "# Fit the linear regression\n",
    "model = clf.fit(X_train, y_train)\n",
    "\n",
    "#y_pred = clf.predict(X_test)\n",
    "y_pred = clf.predict(X_test)"
   ]
  },
  {
   "cell_type": "code",
   "execution_count": 208,
   "metadata": {},
   "outputs": [
    {
     "data": {
      "text/plain": [
       "0.6760816613466603"
      ]
     },
     "execution_count": 208,
     "metadata": {},
     "output_type": "execute_result"
    }
   ],
   "source": [
    "clf.score(X_test, y_test)"
   ]
  },
  {
   "cell_type": "code",
   "execution_count": 209,
   "metadata": {},
   "outputs": [
    {
     "name": "stdout",
     "output_type": "stream",
     "text": [
      "Mean Absolute Error: 1248.084655448818\n",
      "Mean Squared Error: 1647242.496368333\n",
      "Root Mean Squared Error: 1283.449452206176\n"
     ]
    }
   ],
   "source": [
    "print('Mean Absolute Error:', metrics.mean_absolute_error(y_test, y_pred))  \n",
    "print('Mean Squared Error:', metrics.mean_squared_error(y_test, y_pred))  \n",
    "print('Root Mean Squared Error:', np.sqrt(metrics.mean_squared_error(y_test, y_pred)))"
   ]
  },
  {
   "cell_type": "code",
   "execution_count": 210,
   "metadata": {},
   "outputs": [
    {
     "data": {
      "image/png": "[encoded data removed]",
      "text/plain": [
       "<Figure size 720x576 with 1 Axes>"
      ]
     },
     "metadata": {
      "needs_background": "light"
     },
     "output_type": "display_data"
    }
   ],
   "source": [
    "df = pd.DataFrame({'Actual': y_test.flatten(), 'Predicted': y_pred.flatten()})\n",
    "df.plot(kind='bar',figsize=(10,8))\n",
    "plt.grid(which='major', linestyle='-', linewidth='0.5', color='green')\n",
    "plt.grid(which='minor', linestyle=':', linewidth='0.5', color='black')\n",
    "plt.show()"
   ]
  },
  {
   "cell_type": "markdown",
   "metadata": {},
   "source": [
    "#  Lasso Regression (L1)"
   ]
  },
  {
   "cell_type": "code",
   "execution_count": 211,
   "metadata": {},
   "outputs": [
    {
     "name": "stderr",
     "output_type": "stream",
     "text": [
      "/usr/local/anaconda3/lib/python3.7/site-packages/sklearn/linear_model/coordinate_descent.py:492: ConvergenceWarning: Objective did not converge. You might want to increase the number of iterations. Fitting data with very small alpha may cause precision problems.\n",
      "  ConvergenceWarning)\n"
     ]
    }
   ],
   "source": [
    "#y = dataframe_new['Recovered cases'].values\n",
    "#X = dataframe_new.iloc[:,1:].values\n",
    "\n",
    "#X_train, X_test, y_train, y_test = train_test_split(X, y, test_size=0.2, random_state=1)\n",
    "\n",
    "# split into train and test sets\n",
    "\n",
    "pct_90 = int(np.ceil(90*len(X)/100))\n",
    "\n",
    "#predict las 10%\n",
    "\n",
    "train, test = dataframe_new.values[:pct_90], dataframe_new.values[pct_90:]\n",
    "y_train, X_train = train[:,0], train[:,1:]\n",
    "y_test, X_test = test[:,0], test[:,1:]\n",
    "\n",
    "\n",
    "clf = linear_model.Lasso(alpha=0.1)\n",
    "\n",
    "clf.fit(X_train, y_train)\n",
    "\n",
    "y_pred = clf.predict(X_test)"
   ]
  },
  {
   "cell_type": "code",
   "execution_count": 212,
   "metadata": {},
   "outputs": [
    {
     "data": {
      "image/png": "[encoded data removed]",
      "text/plain": [
       "<Figure size 720x576 with 1 Axes>"
      ]
     },
     "metadata": {
      "needs_background": "light"
     },
     "output_type": "display_data"
    }
   ],
   "source": [
    "df = pd.DataFrame({'Actual': y_test.flatten(), 'Predicted': y_pred.flatten()})\n",
    "df.plot(kind='bar',figsize=(10,8))\n",
    "plt.grid(which='major', linestyle='-', linewidth='0.5', color='green')\n",
    "plt.grid(which='minor', linestyle=':', linewidth='0.5', color='black')\n",
    "plt.show()\n"
   ]
  },
  {
   "cell_type": "code",
   "execution_count": 213,
   "metadata": {},
   "outputs": [
    {
     "data": {
      "text/plain": [
       "-0.8986636622150304"
      ]
     },
     "execution_count": 213,
     "metadata": {},
     "output_type": "execute_result"
    }
   ],
   "source": [
    "clf.score(X_test, y_test)"
   ]
  },
  {
   "cell_type": "markdown",
   "metadata": {},
   "source": [
    "# Linear Elastic Net regression \n",
    "(Linear regression with combined L1 and L2 priors as regularizer)"
   ]
  },
  {
   "cell_type": "markdown",
   "metadata": {},
   "source": [
    "The elastic net method overcomes the limitations of the LASSO (least absolute shrinkage and selection operator) method which uses a penalty function based on\n",
    "\n",
    "$$||\\beta||_1=\\sum_{j=1}^p{|\\beta_j|}$$\n",
    "\n",
    "The parameters for the elastic net method are defined by\n",
    "\n",
    "$$\\hat{\\beta}\\equiv \\text{argmin}_{\\beta}(||y-X\\beta||^2+\\lambda_2||\\beta||^2+\\lambda_1||\\beta||_1)$$\n",
    "\n",
    "In our case here, $\\lambda_1=\\lambda_2=\\alpha$"
   ]
  },
  {
   "cell_type": "code",
   "execution_count": 214,
   "metadata": {},
   "outputs": [
    {
     "name": "stdout",
     "output_type": "stream",
     "text": [
      "40\n"
     ]
    },
    {
     "name": "stderr",
     "output_type": "stream",
     "text": [
      "/usr/local/anaconda3/lib/python3.7/site-packages/sklearn/linear_model/coordinate_descent.py:492: ConvergenceWarning: Objective did not converge. You might want to increase the number of iterations. Fitting data with very small alpha may cause precision problems.\n",
      "  ConvergenceWarning)\n"
     ]
    }
   ],
   "source": [
    "y = dataframe_new['Recovered cases'].values\n",
    "X = dataframe_new.iloc[:,1:].values\n",
    "\n",
    "#-----#\n",
    "\n",
    "#X_train, X_test, y_train, y_test = train_test_split(X, y, test_size=0.2, random_state=1)\n",
    "\n",
    "# split into train and test sets\n",
    "\n",
    "pct_90 = int(np.ceil(90*len(X)/100))\n",
    "\n",
    "#predict las 10%\n",
    "\n",
    "train, test = X[:pct_90], X[pct_90:]\n",
    "y_train, X_train = train[:,0], train[:,1:]\n",
    "y_test, X_test = test[:,0], test[:,1:]\n",
    "\n",
    "\n",
    "#-----#\n",
    "\n",
    "clf = linear_model.ElasticNet(alpha=0.1)\n",
    "\n",
    "clf.fit(X_train, y_train)\n",
    "\n",
    "y_pred = clf.predict(X_test)"
   ]
  },
  {
   "cell_type": "code",
   "execution_count": 216,
   "metadata": {},
   "outputs": [
    {
     "data": {
      "text/html": [
       "<div>\n",
       "<style scoped>\n",
       "    .dataframe tbody tr th:only-of-type {\n",
       "        vertical-align: middle;\n",
       "    }\n",
       "\n",
       "    .dataframe tbody tr th {\n",
       "        vertical-align: top;\n",
       "    }\n",
       "\n",
       "    .dataframe thead th {\n",
       "        text-align: right;\n",
       "    }\n",
       "</style>\n",
       "<table border=\"1\" class=\"dataframe\">\n",
       "  <thead>\n",
       "    <tr style=\"text-align: right;\">\n",
       "      <th></th>\n",
       "      <th>Actual</th>\n",
       "      <th>Predicted</th>\n",
       "    </tr>\n",
       "  </thead>\n",
       "  <tbody>\n",
       "    <tr>\n",
       "      <th>0</th>\n",
       "      <td>77635.0</td>\n",
       "      <td>77517.676165</td>\n",
       "    </tr>\n",
       "    <tr>\n",
       "      <th>1</th>\n",
       "      <td>80572.0</td>\n",
       "      <td>81218.651716</td>\n",
       "    </tr>\n",
       "    <tr>\n",
       "      <th>2</th>\n",
       "      <td>83049.0</td>\n",
       "      <td>84594.121602</td>\n",
       "    </tr>\n",
       "    <tr>\n",
       "      <th>3</th>\n",
       "      <td>85388.0</td>\n",
       "      <td>86353.384345</td>\n",
       "    </tr>\n",
       "  </tbody>\n",
       "</table>\n",
       "</div>"
      ],
      "text/plain": [
       "    Actual     Predicted\n",
       "0  77635.0  77517.676165\n",
       "1  80572.0  81218.651716\n",
       "2  83049.0  84594.121602\n",
       "3  85388.0  86353.384345"
      ]
     },
     "execution_count": 216,
     "metadata": {},
     "output_type": "execute_result"
    }
   ],
   "source": [
    "df = pd.DataFrame({'Actual': y_test.flatten(), 'Predicted': y_pred.flatten()})\n",
    "df\n"
   ]
  },
  {
   "cell_type": "code",
   "execution_count": 217,
   "metadata": {},
   "outputs": [
    {
     "data": {
      "text/plain": [
       "0.8870490095413568"
      ]
     },
     "execution_count": 217,
     "metadata": {},
     "output_type": "execute_result"
    }
   ],
   "source": [
    "clf.score(X_test, y_test)"
   ]
  },
  {
   "cell_type": "code",
   "execution_count": 218,
   "metadata": {},
   "outputs": [
    {
     "name": "stdout",
     "output_type": "stream",
     "text": [
      "Mean Absolute Error: 818.6203743612787\n",
      "Mean Squared Error: 937822.7553214013\n",
      "Root Mean Squared Error: 968.4124923406355\n"
     ]
    }
   ],
   "source": [
    "print('Mean Absolute Error:', metrics.mean_absolute_error(y_test, y_pred))  \n",
    "print('Mean Squared Error:', metrics.mean_squared_error(y_test, y_pred))  \n",
    "print('Root Mean Squared Error:', np.sqrt(metrics.mean_squared_error(y_test, y_pred)))"
   ]
  },
  {
   "cell_type": "code",
   "execution_count": 221,
   "metadata": {},
   "outputs": [
    {
     "data": {
      "text/html": [
       "<div>\n",
       "<style scoped>\n",
       "    .dataframe tbody tr th:only-of-type {\n",
       "        vertical-align: middle;\n",
       "    }\n",
       "\n",
       "    .dataframe tbody tr th {\n",
       "        vertical-align: top;\n",
       "    }\n",
       "\n",
       "    .dataframe thead th {\n",
       "        text-align: right;\n",
       "    }\n",
       "</style>\n",
       "<table border=\"1\" class=\"dataframe\">\n",
       "  <thead>\n",
       "    <tr style=\"text-align: right;\">\n",
       "      <th></th>\n",
       "      <th>Coefficient</th>\n",
       "    </tr>\n",
       "  </thead>\n",
       "  <tbody>\n",
       "    <tr>\n",
       "      <th>Infected cases t-7</th>\n",
       "      <td>0.239410</td>\n",
       "    </tr>\n",
       "    <tr>\n",
       "      <th>Infected cases t-8</th>\n",
       "      <td>0.379037</td>\n",
       "    </tr>\n",
       "    <tr>\n",
       "      <th>Infected cases t-9</th>\n",
       "      <td>-0.122528</td>\n",
       "    </tr>\n",
       "    <tr>\n",
       "      <th>Infected cases t-10</th>\n",
       "      <td>-0.100421</td>\n",
       "    </tr>\n",
       "    <tr>\n",
       "      <th>Infected cases t-11</th>\n",
       "      <td>0.249715</td>\n",
       "    </tr>\n",
       "    <tr>\n",
       "      <th>Infected cases t-12</th>\n",
       "      <td>-0.095464</td>\n",
       "    </tr>\n",
       "    <tr>\n",
       "      <th>Infected cases t-13</th>\n",
       "      <td>-0.410801</td>\n",
       "    </tr>\n",
       "    <tr>\n",
       "      <th>Infected cases t-14</th>\n",
       "      <td>-0.497028</td>\n",
       "    </tr>\n",
       "    <tr>\n",
       "      <th>Infected cases t-15</th>\n",
       "      <td>0.008603</td>\n",
       "    </tr>\n",
       "    <tr>\n",
       "      <th>Infected cases t-16</th>\n",
       "      <td>-0.009557</td>\n",
       "    </tr>\n",
       "    <tr>\n",
       "      <th>Infected cases t-17</th>\n",
       "      <td>0.000195</td>\n",
       "    </tr>\n",
       "    <tr>\n",
       "      <th>Infected cases t-18</th>\n",
       "      <td>0.088158</td>\n",
       "    </tr>\n",
       "    <tr>\n",
       "      <th>Infected cases t-19</th>\n",
       "      <td>0.555153</td>\n",
       "    </tr>\n",
       "    <tr>\n",
       "      <th>Infected cases t-20</th>\n",
       "      <td>0.420262</td>\n",
       "    </tr>\n",
       "    <tr>\n",
       "      <th>Infected cases t-21</th>\n",
       "      <td>-0.009593</td>\n",
       "    </tr>\n",
       "  </tbody>\n",
       "</table>\n",
       "</div>"
      ],
      "text/plain": [
       "                     Coefficient\n",
       "Infected cases t-7      0.239410\n",
       "Infected cases t-8      0.379037\n",
       "Infected cases t-9     -0.122528\n",
       "Infected cases t-10    -0.100421\n",
       "Infected cases t-11     0.249715\n",
       "Infected cases t-12    -0.095464\n",
       "Infected cases t-13    -0.410801\n",
       "Infected cases t-14    -0.497028\n",
       "Infected cases t-15     0.008603\n",
       "Infected cases t-16    -0.009557\n",
       "Infected cases t-17     0.000195\n",
       "Infected cases t-18     0.088158\n",
       "Infected cases t-19     0.555153\n",
       "Infected cases t-20     0.420262\n",
       "Infected cases t-21    -0.009593"
      ]
     },
     "execution_count": 221,
     "metadata": {},
     "output_type": "execute_result"
    }
   ],
   "source": [
    "coeff_df = pd.DataFrame(regressor.coef_, dataframe.iloc[:,1:].columns, columns=['Coefficient'])  \n",
    "coeff_df"
   ]
  },
  {
   "cell_type": "code",
   "execution_count": 222,
   "metadata": {},
   "outputs": [
    {
     "name": "stderr",
     "output_type": "stream",
     "text": [
      "/usr/local/anaconda3/lib/python3.7/site-packages/scipy/stats/stats.py:1713: FutureWarning: Using a non-tuple sequence for multidimensional indexing is deprecated; use `arr[tuple(seq)]` instead of `arr[seq]`. In the future this will be interpreted as an array index, `arr[np.array(seq)]`, which will result either in an error or a different result.\n",
      "  return np.add.reduce(sorted[indexer] * weights, axis=axis) / sumval\n"
     ]
    },
    {
     "data": {
      "text/plain": [
       "<matplotlib.axes._subplots.AxesSubplot at 0x1a2050ff60>"
      ]
     },
     "execution_count": 222,
     "metadata": {},
     "output_type": "execute_result"
    },
    {
     "data": {
      "image/png": "[encoded data removed]",
      "text/plain": [
       "<Figure size 1080x720 with 1 Axes>"
      ]
     },
     "metadata": {
      "needs_background": "light"
     },
     "output_type": "display_data"
    }
   ],
   "source": [
    "plt.figure(figsize=(15,10))\n",
    "plt.tight_layout()\n",
    "seabornInstance.distplot(coeff_df, fit=norm)"
   ]
  },
  {
   "cell_type": "code",
   "execution_count": 223,
   "metadata": {},
   "outputs": [
    {
     "data": {
      "image/png": "[encoded data removed]",
      "text/plain": [
       "<Figure size 720x576 with 1 Axes>"
      ]
     },
     "metadata": {
      "needs_background": "light"
     },
     "output_type": "display_data"
    }
   ],
   "source": [
    "df.plot(kind='bar',figsize=(10,8))\n",
    "plt.grid(which='major', linestyle='-', linewidth='0.5', color='green')\n",
    "plt.grid(which='minor', linestyle=':', linewidth='0.5', color='black')\n",
    "plt.show()"
   ]
  },
  {
   "cell_type": "markdown",
   "metadata": {},
   "source": [
    "## Laplacian"
   ]
  },
  {
   "cell_type": "markdown",
   "metadata": {},
   "source": [
    "### Labeled Data"
   ]
  },
  {
   "cell_type": "code",
   "execution_count": 429,
   "metadata": {},
   "outputs": [],
   "source": [
    "dataframe_new = dataframe.iloc[15:,:]"
   ]
  },
  {
   "cell_type": "code",
   "execution_count": 430,
   "metadata": {},
   "outputs": [],
   "source": [
    "yl = dataframe_new['Recovered cases'].values\n",
    "Xl = dataframe_new.iloc[:,1:].values"
   ]
  },
  {
   "cell_type": "markdown",
   "metadata": {},
   "source": [
    "### Unlabeled Data"
   ]
  },
  {
   "cell_type": "code",
   "execution_count": 438,
   "metadata": {},
   "outputs": [],
   "source": [
    "Xu = unsupervised_df.iloc[:,1:].values"
   ]
  },
  {
   "cell_type": "code",
   "execution_count": 447,
   "metadata": {},
   "outputs": [],
   "source": [
    "X = dataframe_new + unsupervised_df"
   ]
  },
  {
   "cell_type": "code",
   "execution_count": 451,
   "metadata": {},
   "outputs": [],
   "source": [
    "unsupervised_df = unsupervised_df.set_index('Date')"
   ]
  },
  {
   "cell_type": "code",
   "execution_count": 460,
   "metadata": {},
   "outputs": [],
   "source": [
    "one = pd.DataFrame(Xu)\n",
    "two = pd.DataFrame(Xl)"
   ]
  },
  {
   "cell_type": "code",
   "execution_count": 464,
   "metadata": {},
   "outputs": [],
   "source": [
    "X = pd.concat([two, one], axis=0, join='outer', ignore_index=True, keys=None,\n",
    "          levels=None, names=None, verify_integrity=False, copy=True)"
   ]
  },
  {
   "cell_type": "markdown",
   "metadata": {},
   "source": [
    "### Algorithm"
   ]
  },
  {
   "cell_type": "code",
   "execution_count": 440,
   "metadata": {},
   "outputs": [],
   "source": [
    "import numpy as np\n",
    "import matplotlib.pyplot as plt\n",
    "from numpy import linalg,random\n",
    "from sklearn.base import BaseEstimator\n",
    "from sklearn import datasets,metrics\n",
    "\n",
    "class LRRidge(BaseEstimator):\n",
    "    def __init__(self,alpha=1.,beta=1.,gamma=10.,k=10):\n",
    "        self.alpha=alpha\n",
    "        self.beta=beta\n",
    "        self.gamma=gamma\n",
    "        self.k=k\n",
    "\n",
    "    def fit(self,Xl,yl,Xu):\n",
    "        self.X=np.r_[Xl,Xu]\n",
    "        #self.X=self.X[random.permutation(len(self.X))]\n",
    "        self.X2=np.c_[np.sum(self.X**2,1)]\n",
    "        Xl2=np.c_[np.sum(Xl**2,1)]\n",
    "        Xu2=np.c_[np.sum(Xu**2,1)]\n",
    "        Phil=np.exp(-self.gamma*(Xl2+self.X2.T-2*Xl.dot(self.X.T)))\n",
    "        Phiu=np.exp(-self.gamma*(Xu2+self.X2.T-2*Xu.dot(self.X.T)))\n",
    "\n",
    "        Phiu2=np.c_[np.sum(Phiu**2,1)]\n",
    "        d=Phiu2+Phiu2.T-2*Phiu.dot(Phiu.T)\n",
    "        p=np.c_[np.sort(d,axis=1)[:,self.k+1]]\n",
    "        W=d<=p\n",
    "        W=(W+W.T)!=0\n",
    "        D=np.diag(np.sum(W,axis=1))\n",
    "        L=D-W\n",
    "        \n",
    "        n_features=Phil.shape[1]\n",
    "        self.theta=linalg.pinv(Phil.T.dot(Phil)+self.alpha*np.identity(n_features)+self.beta*Phiu.T.dot(L).dot(Phiu)).dot(Phil.T).dot(yl)\n",
    "\n",
    "        return self\n",
    "\n",
    "    def predict(self,X):\n",
    "        X2=np.c_[np.sum(X**2,1)]\n",
    "        Phi=np.exp(-self.gamma*(X2+self.X2.T-2*X.dot(self.X.T)))\n",
    "        return (Phi.dot(self.theta)>=0)*2-1\n",
    "\n"
   ]
  },
  {
   "cell_type": "code",
   "execution_count": 446,
   "metadata": {},
   "outputs": [
    {
     "ename": "ValueError",
     "evalue": "operands could not be broadcast together with shapes (14,15) (44,15) ",
     "output_type": "error",
     "traceback": [
      "\u001b[0;31m---------------------------------------------------------------------------\u001b[0m",
      "\u001b[0;31mValueError\u001b[0m                                Traceback (most recent call last)",
      "\u001b[0;32m<ipython-input-446-f8f0925daec7>\u001b[0m in \u001b[0;36m<module>\u001b[0;34m\u001b[0m\n\u001b[0;32m----> 1\u001b[0;31m \u001b[0mXu\u001b[0m \u001b[0;34m+\u001b[0m \u001b[0mXl\u001b[0m\u001b[0;34m\u001b[0m\u001b[0;34m\u001b[0m\u001b[0m\n\u001b[0m",
      "\u001b[0;31mValueError\u001b[0m: operands could not be broadcast together with shapes (14,15) (44,15) "
     ]
    }
   ],
   "source": [
    "Xu + Xl"
   ]
  },
  {
   "cell_type": "code",
   "execution_count": 443,
   "metadata": {},
   "outputs": [
    {
     "data": {
      "text/plain": [
       "(44, 15)"
      ]
     },
     "execution_count": 443,
     "metadata": {},
     "output_type": "execute_result"
    }
   ],
   "source": [
    "Xl.shape"
   ]
  },
  {
   "cell_type": "markdown",
   "metadata": {},
   "source": [
    "### Implementation"
   ]
  },
  {
   "cell_type": "code",
   "execution_count": 469,
   "metadata": {},
   "outputs": [
    {
     "ename": "TypeError",
     "evalue": "loop of ufunc does not support argument 0 of type float which has no callable exp method",
     "output_type": "error",
     "traceback": [
      "\u001b[0;31m---------------------------------------------------------------------------\u001b[0m",
      "\u001b[0;31mAttributeError\u001b[0m                            Traceback (most recent call last)",
      "\u001b[0;31mAttributeError\u001b[0m: 'float' object has no attribute 'exp'",
      "\nThe above exception was the direct cause of the following exception:\n",
      "\u001b[0;31mTypeError\u001b[0m                                 Traceback (most recent call last)",
      "\u001b[0;32m<ipython-input-469-f42a47c8b77d>\u001b[0m in \u001b[0;36m<module>\u001b[0;34m\u001b[0m\n\u001b[0;32m----> 1\u001b[0;31m \u001b[0mclf\u001b[0m\u001b[0;34m=\u001b[0m\u001b[0mLRRidge\u001b[0m\u001b[0;34m(\u001b[0m\u001b[0;34m)\u001b[0m\u001b[0;34m.\u001b[0m\u001b[0mfit\u001b[0m\u001b[0;34m(\u001b[0m\u001b[0mXl\u001b[0m\u001b[0;34m,\u001b[0m\u001b[0myl\u001b[0m\u001b[0;34m,\u001b[0m\u001b[0mXu\u001b[0m\u001b[0;34m)\u001b[0m\u001b[0;34m\u001b[0m\u001b[0;34m\u001b[0m\u001b[0m\n\u001b[0m\u001b[1;32m      2\u001b[0m \u001b[0mypred\u001b[0m\u001b[0;34m=\u001b[0m\u001b[0mclf\u001b[0m\u001b[0;34m.\u001b[0m\u001b[0mpredict\u001b[0m\u001b[0;34m(\u001b[0m\u001b[0mX\u001b[0m\u001b[0;34m)\u001b[0m\u001b[0;34m\u001b[0m\u001b[0;34m\u001b[0m\u001b[0m\n\u001b[1;32m      3\u001b[0m \u001b[0myupred\u001b[0m\u001b[0;34m=\u001b[0m\u001b[0mclf\u001b[0m\u001b[0;34m.\u001b[0m\u001b[0mpredict\u001b[0m\u001b[0;34m(\u001b[0m\u001b[0mXu\u001b[0m\u001b[0;34m)\u001b[0m\u001b[0;34m\u001b[0m\u001b[0;34m\u001b[0m\u001b[0m\n\u001b[1;32m      4\u001b[0m \u001b[0;34m\u001b[0m\u001b[0m\n\u001b[1;32m      5\u001b[0m \u001b[0mprint\u001b[0m\u001b[0;34m(\u001b[0m\u001b[0;34m\"Accuracy (LRRidge):\"\u001b[0m \u001b[0;34m+\u001b[0m \u001b[0mmetrics\u001b[0m\u001b[0;34m.\u001b[0m\u001b[0maccuracy_score\u001b[0m\u001b[0;34m(\u001b[0m\u001b[0myu\u001b[0m\u001b[0;34m,\u001b[0m\u001b[0myupred\u001b[0m\u001b[0;34m)\u001b[0m\u001b[0;34m)\u001b[0m\u001b[0;34m\u001b[0m\u001b[0;34m\u001b[0m\u001b[0m\n",
      "\u001b[0;32m<ipython-input-440-e7a489fbcd85>\u001b[0m in \u001b[0;36mfit\u001b[0;34m(self, Xl, yl, Xu)\u001b[0m\n\u001b[1;32m     18\u001b[0m         \u001b[0mXl2\u001b[0m\u001b[0;34m=\u001b[0m\u001b[0mnp\u001b[0m\u001b[0;34m.\u001b[0m\u001b[0mc_\u001b[0m\u001b[0;34m[\u001b[0m\u001b[0mnp\u001b[0m\u001b[0;34m.\u001b[0m\u001b[0msum\u001b[0m\u001b[0;34m(\u001b[0m\u001b[0mXl\u001b[0m\u001b[0;34m**\u001b[0m\u001b[0;36m2\u001b[0m\u001b[0;34m,\u001b[0m\u001b[0;36m1\u001b[0m\u001b[0;34m)\u001b[0m\u001b[0;34m]\u001b[0m\u001b[0;34m\u001b[0m\u001b[0;34m\u001b[0m\u001b[0m\n\u001b[1;32m     19\u001b[0m         \u001b[0mXu2\u001b[0m\u001b[0;34m=\u001b[0m\u001b[0mnp\u001b[0m\u001b[0;34m.\u001b[0m\u001b[0mc_\u001b[0m\u001b[0;34m[\u001b[0m\u001b[0mnp\u001b[0m\u001b[0;34m.\u001b[0m\u001b[0msum\u001b[0m\u001b[0;34m(\u001b[0m\u001b[0mXu\u001b[0m\u001b[0;34m**\u001b[0m\u001b[0;36m2\u001b[0m\u001b[0;34m,\u001b[0m\u001b[0;36m1\u001b[0m\u001b[0;34m)\u001b[0m\u001b[0;34m]\u001b[0m\u001b[0;34m\u001b[0m\u001b[0;34m\u001b[0m\u001b[0m\n\u001b[0;32m---> 20\u001b[0;31m         \u001b[0mPhil\u001b[0m\u001b[0;34m=\u001b[0m\u001b[0mnp\u001b[0m\u001b[0;34m.\u001b[0m\u001b[0mexp\u001b[0m\u001b[0;34m(\u001b[0m\u001b[0;34m-\u001b[0m\u001b[0mself\u001b[0m\u001b[0;34m.\u001b[0m\u001b[0mgamma\u001b[0m\u001b[0;34m*\u001b[0m\u001b[0;34m(\u001b[0m\u001b[0mXl2\u001b[0m\u001b[0;34m+\u001b[0m\u001b[0mself\u001b[0m\u001b[0;34m.\u001b[0m\u001b[0mX2\u001b[0m\u001b[0;34m.\u001b[0m\u001b[0mT\u001b[0m\u001b[0;34m-\u001b[0m\u001b[0;36m2\u001b[0m\u001b[0;34m*\u001b[0m\u001b[0mXl\u001b[0m\u001b[0;34m.\u001b[0m\u001b[0mdot\u001b[0m\u001b[0;34m(\u001b[0m\u001b[0mself\u001b[0m\u001b[0;34m.\u001b[0m\u001b[0mX\u001b[0m\u001b[0;34m.\u001b[0m\u001b[0mT\u001b[0m\u001b[0;34m)\u001b[0m\u001b[0;34m)\u001b[0m\u001b[0;34m)\u001b[0m\u001b[0;34m\u001b[0m\u001b[0;34m\u001b[0m\u001b[0m\n\u001b[0m\u001b[1;32m     21\u001b[0m         \u001b[0mPhiu\u001b[0m\u001b[0;34m=\u001b[0m\u001b[0mnp\u001b[0m\u001b[0;34m.\u001b[0m\u001b[0mexp\u001b[0m\u001b[0;34m(\u001b[0m\u001b[0;34m-\u001b[0m\u001b[0mself\u001b[0m\u001b[0;34m.\u001b[0m\u001b[0mgamma\u001b[0m\u001b[0;34m*\u001b[0m\u001b[0;34m(\u001b[0m\u001b[0mXu2\u001b[0m\u001b[0;34m+\u001b[0m\u001b[0mself\u001b[0m\u001b[0;34m.\u001b[0m\u001b[0mX2\u001b[0m\u001b[0;34m.\u001b[0m\u001b[0mT\u001b[0m\u001b[0;34m-\u001b[0m\u001b[0;36m2\u001b[0m\u001b[0;34m*\u001b[0m\u001b[0mXu\u001b[0m\u001b[0;34m.\u001b[0m\u001b[0mdot\u001b[0m\u001b[0;34m(\u001b[0m\u001b[0mself\u001b[0m\u001b[0;34m.\u001b[0m\u001b[0mX\u001b[0m\u001b[0;34m.\u001b[0m\u001b[0mT\u001b[0m\u001b[0;34m)\u001b[0m\u001b[0;34m)\u001b[0m\u001b[0;34m)\u001b[0m\u001b[0;34m\u001b[0m\u001b[0;34m\u001b[0m\u001b[0m\n\u001b[1;32m     22\u001b[0m \u001b[0;34m\u001b[0m\u001b[0m\n",
      "\u001b[0;31mTypeError\u001b[0m: loop of ufunc does not support argument 0 of type float which has no callable exp method"
     ]
    }
   ],
   "source": [
    "clf=LRRidge().fit(Xl,yl,Xu)\n",
    "ypred=clf.predict(X)\n",
    "yupred=clf.predict(Xu)\n",
    "\n",
    "print(\"Accuracy (LRRidge):\" + metrics.accuracy_score(yu,yupred))\n",
    "\n",
    "from sklearn.linear_model import RidgeClassifierCV\n",
    "gamma=10.\n",
    "X2=np.c_[np.sum(X**2,1)]\n",
    "Phi=np.exp(-gamma*(X2+X2.T-2*X.dot(X.T)))\n",
    "clf=RidgeClassifierCV().fit(Phi[il],yl)\n",
    "yupred2=clf.predict(Phi[iu])\n",
    "print(\"Accuracy (Ridge):\" + metrics.accuracy_score(yu,yupred2))\n",
    "\n",
    "colors=np.array([\"r\",\"b\"])\n",
    "plt.figure(figsize=(12,6))\n",
    "plt.subplot(121)\n",
    "plt.scatter(Xu[:,0],Xu[:,1],c=\"w\",s=20)\n",
    "plt.scatter(Xl[:,0],Xl[:,1],color=colors[(1+yl)/2],s=100)\n",
    "plt.subplot(122)\n",
    "plt.scatter(X[:,0],X[:,1],color=colors[(1+ypred)/2])\n",
    "plt.tight_layout()\n",
    "plt.show()\n"
   ]
  },
  {
   "cell_type": "markdown",
   "metadata": {},
   "source": [
    "- try log values\n",
    "- didn't try laplacian bc w ridge parameters achieve gaussian distribution which is what we want"
   ]
  }
 ],
 "metadata": {
  "kernelspec": {
   "display_name": "Python 3",
   "language": "python",
   "name": "python3"
  },
  "language_info": {
   "codemirror_mode": {
    "name": "ipython",
    "version": 3
   },
   "file_extension": ".py",
   "mimetype": "text/x-python",
   "name": "python",
   "nbconvert_exporter": "python",
   "pygments_lexer": "ipython3",
   "version": "3.7.3"
  }
 },
 "nbformat": 4,
 "nbformat_minor": 2
}
