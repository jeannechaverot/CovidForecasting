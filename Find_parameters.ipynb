{
 "cells": [
  {
   "cell_type": "code",
   "execution_count": 31,
   "metadata": {},
   "outputs": [],
   "source": [
    "import pandas as pd\n",
    "import numpy as np"
   ]
  },
  {
   "cell_type": "markdown",
   "metadata": {},
   "source": [
    "1. Import confirmed, recovered and deaths data set for a given country"
   ]
  },
  {
   "cell_type": "code",
   "execution_count": 32,
   "metadata": {},
   "outputs": [],
   "source": [
    "confirmed = pd.read_csv('DATA/COVID-19/csse_covid_19_data/csse_covid_19_time_series/time_series_covid19_confirmed_global.csv')\n",
    "recovered = pd.read_csv('DATA/COVID-19/csse_covid_19_data/csse_covid_19_time_series/time_series_covid19_recovered_global.csv')\n",
    "deaths = pd.read_csv('DATA/COVID-19/csse_covid_19_data/csse_covid_19_time_series/time_series_covid19_deaths_global.csv')"
   ]
  },
  {
   "cell_type": "markdown",
   "metadata": {},
   "source": [
    "2. Pre-process the datasets"
   ]
  },
  {
   "cell_type": "code",
   "execution_count": 33,
   "metadata": {},
   "outputs": [],
   "source": [
    "def reformat(df, country, col_name):\n",
    "    \n",
    "    df = df[df['Country/Region'] == country]\n",
    "    index = df.iloc[0].name\n",
    "\n",
    "    df = df.T\n",
    "    df = df.rename({index: col_name}, axis = 1)\n",
    "    # get rid of columns that do not represent the number of recovered/confirmed/deaths \n",
    "    df = df.iloc[4:,:]\n",
    "    \n",
    "    return df\n",
    "\n",
    "    #df = df[df[col_name] > 0]\n"
   ]
  },
  {
   "cell_type": "code",
   "execution_count": 34,
   "metadata": {},
   "outputs": [
    {
     "data": {
      "text/html": [
       "<div>\n",
       "<style scoped>\n",
       "    .dataframe tbody tr th:only-of-type {\n",
       "        vertical-align: middle;\n",
       "    }\n",
       "\n",
       "    .dataframe tbody tr th {\n",
       "        vertical-align: top;\n",
       "    }\n",
       "\n",
       "    .dataframe thead th {\n",
       "        text-align: right;\n",
       "    }\n",
       "</style>\n",
       "<table border=\"1\" class=\"dataframe\">\n",
       "  <thead>\n",
       "    <tr style=\"text-align: right;\">\n",
       "      <th></th>\n",
       "      <th>Recovered cases</th>\n",
       "    </tr>\n",
       "  </thead>\n",
       "  <tbody>\n",
       "    <tr>\n",
       "      <th>1/22/20</th>\n",
       "      <td>0</td>\n",
       "    </tr>\n",
       "    <tr>\n",
       "      <th>1/23/20</th>\n",
       "      <td>0</td>\n",
       "    </tr>\n",
       "    <tr>\n",
       "      <th>1/24/20</th>\n",
       "      <td>0</td>\n",
       "    </tr>\n",
       "    <tr>\n",
       "      <th>1/25/20</th>\n",
       "      <td>0</td>\n",
       "    </tr>\n",
       "    <tr>\n",
       "      <th>1/26/20</th>\n",
       "      <td>0</td>\n",
       "    </tr>\n",
       "  </tbody>\n",
       "</table>\n",
       "</div>"
      ],
      "text/plain": [
       "        Recovered cases\n",
       "1/22/20               0\n",
       "1/23/20               0\n",
       "1/24/20               0\n",
       "1/25/20               0\n",
       "1/26/20               0"
      ]
     },
     "execution_count": 34,
     "metadata": {},
     "output_type": "execute_result"
    }
   ],
   "source": [
    "recovered = reformat(recovered, 'Italy', 'Recovered cases')\n",
    "confirmed = reformat(confirmed, 'Italy', 'Confirmed cases')\n",
    "deaths = reformat(deaths, 'Italy', 'Deaths cases')\n",
    "\n",
    "recovered.head()"
   ]
  },
  {
   "cell_type": "markdown",
   "metadata": {},
   "source": [
    "3. Create new data frame recovered per day so we know how many people recovered from the epidemic on a given day\n"
   ]
  },
  {
   "cell_type": "markdown",
   "metadata": {},
   "source": [
    "**problem** : Here, I see that recovered_daily contains a negative value, therefore recovered is not fully incremental. ??? Change dataset?"
   ]
  },
  {
   "cell_type": "code",
   "execution_count": 35,
   "metadata": {},
   "outputs": [],
   "source": [
    "recovered_daily = recovered.diff()\n",
    "recovered_daily.iloc[0,:] = 0"
   ]
  },
  {
   "cell_type": "code",
   "execution_count": 36,
   "metadata": {},
   "outputs": [],
   "source": [
    "deaths_daily = deaths.diff()\n",
    "deaths_daily.iloc[0] = 0"
   ]
  },
  {
   "cell_type": "markdown",
   "metadata": {},
   "source": [
    "4. Generate dataset infected representing the number of infected individuals at a given time t (not the new number of infected, number of actively infected individuals)\n",
    "\n",
    "$$\\text{confirmed}(t)=\\text{confirmed}(t)-\\sum_{i=\\text{day}_0}^{t}\\text{recovered_daily(i)}-\\sum_{i=\\text{day}_0}^{t}\\text{deaths_daily}(i)$$"
   ]
  },
  {
   "cell_type": "code",
   "execution_count": 37,
   "metadata": {},
   "outputs": [],
   "source": [
    "infected_ = []\n",
    "days_ = []\n",
    "# i: date (time t)\n",
    "# row: row\n",
    "acc_deaths = 0\n",
    "acc_recovered = 0\n",
    "\n",
    "for i, row in confirmed.iterrows():\n",
    "    acc_recovered += recovered_daily.loc[i]['Recovered cases']\n",
    "    acc_deaths += deaths_daily.loc[i]['Deaths cases']\n",
    "    \n",
    "    diff = row['Confirmed cases'] - acc_recovered - acc_deaths\n",
    "    \n",
    "    infected_.append(diff)\n",
    "    days_.append(i)"
   ]
  },
  {
   "cell_type": "markdown",
   "metadata": {},
   "source": [
    "Careful, infected represents active number of infected, not new number of infected"
   ]
  },
  {
   "cell_type": "code",
   "execution_count": 38,
   "metadata": {},
   "outputs": [],
   "source": [
    "infected = pd.DataFrame({'Date': days_,'Infected Cases': infected_})"
   ]
  },
  {
   "cell_type": "code",
   "execution_count": 39,
   "metadata": {},
   "outputs": [],
   "source": [
    "recovered = recovered.reset_index().rename({'index':'Date'}, axis = 1)"
   ]
  },
  {
   "cell_type": "markdown",
   "metadata": {},
   "source": [
    "Now we can start working on predicting our gammas. \n",
    "Recovered is cumulative, as expected (absorbing state in our SIR model) and infected represents the number of infected individual at a certain date"
   ]
  },
  {
   "cell_type": "code",
   "execution_count": 40,
   "metadata": {},
   "outputs": [],
   "source": [
    "data = recovered.merge(infected, on='Date')"
   ]
  },
  {
   "cell_type": "code",
   "execution_count": 41,
   "metadata": {},
   "outputs": [],
   "source": [
    "data['Date'] = pd.to_datetime(data['Date'])\n",
    "#df['DOB'] = pd.to_datetime(df.DOB)\n"
   ]
  },
  {
   "cell_type": "code",
   "execution_count": 43,
   "metadata": {},
   "outputs": [
    {
     "data": {
      "text/html": [
       "<div>\n",
       "<style scoped>\n",
       "    .dataframe tbody tr th:only-of-type {\n",
       "        vertical-align: middle;\n",
       "    }\n",
       "\n",
       "    .dataframe tbody tr th {\n",
       "        vertical-align: top;\n",
       "    }\n",
       "\n",
       "    .dataframe thead th {\n",
       "        text-align: right;\n",
       "    }\n",
       "</style>\n",
       "<table border=\"1\" class=\"dataframe\">\n",
       "  <thead>\n",
       "    <tr style=\"text-align: right;\">\n",
       "      <th></th>\n",
       "      <th>Recovered cases</th>\n",
       "      <th>Infected Cases</th>\n",
       "      <th>Recovered Daily</th>\n",
       "    </tr>\n",
       "    <tr>\n",
       "      <th>Date</th>\n",
       "      <th></th>\n",
       "      <th></th>\n",
       "      <th></th>\n",
       "    </tr>\n",
       "  </thead>\n",
       "  <tbody>\n",
       "    <tr>\n",
       "      <th>2020-01-22</th>\n",
       "      <td>0</td>\n",
       "      <td>0</td>\n",
       "      <td>0</td>\n",
       "    </tr>\n",
       "    <tr>\n",
       "      <th>2020-01-23</th>\n",
       "      <td>0</td>\n",
       "      <td>0</td>\n",
       "      <td>0</td>\n",
       "    </tr>\n",
       "    <tr>\n",
       "      <th>2020-01-24</th>\n",
       "      <td>0</td>\n",
       "      <td>0</td>\n",
       "      <td>0</td>\n",
       "    </tr>\n",
       "    <tr>\n",
       "      <th>2020-01-25</th>\n",
       "      <td>0</td>\n",
       "      <td>0</td>\n",
       "      <td>0</td>\n",
       "    </tr>\n",
       "    <tr>\n",
       "      <th>2020-01-26</th>\n",
       "      <td>0</td>\n",
       "      <td>0</td>\n",
       "      <td>0</td>\n",
       "    </tr>\n",
       "  </tbody>\n",
       "</table>\n",
       "</div>"
      ],
      "text/plain": [
       "           Recovered cases  Infected Cases  Recovered Daily\n",
       "Date                                                       \n",
       "2020-01-22               0               0                0\n",
       "2020-01-23               0               0                0\n",
       "2020-01-24               0               0                0\n",
       "2020-01-25               0               0                0\n",
       "2020-01-26               0               0                0"
      ]
     },
     "execution_count": 43,
     "metadata": {},
     "output_type": "execute_result"
    }
   ],
   "source": [
    "data = data.set_index('Date')\n",
    "data['Recovered Daily'] = recovered_daily\n",
    "data.head()"
   ]
  },
  {
   "cell_type": "code",
   "execution_count": 45,
   "metadata": {},
   "outputs": [
    {
     "data": {
      "text/html": [
       "<div>\n",
       "<style scoped>\n",
       "    .dataframe tbody tr th:only-of-type {\n",
       "        vertical-align: middle;\n",
       "    }\n",
       "\n",
       "    .dataframe tbody tr th {\n",
       "        vertical-align: top;\n",
       "    }\n",
       "\n",
       "    .dataframe thead th {\n",
       "        text-align: right;\n",
       "    }\n",
       "</style>\n",
       "<table border=\"1\" class=\"dataframe\">\n",
       "  <thead>\n",
       "    <tr style=\"text-align: right;\">\n",
       "      <th></th>\n",
       "      <th>Date</th>\n",
       "      <th>Recovered cases</th>\n",
       "      <th>Infected Cases</th>\n",
       "      <th>Recovered Daily</th>\n",
       "    </tr>\n",
       "  </thead>\n",
       "  <tbody>\n",
       "    <tr>\n",
       "      <th>75</th>\n",
       "      <td>2020-04-06</td>\n",
       "      <td>22837</td>\n",
       "      <td>93187</td>\n",
       "      <td>1022</td>\n",
       "    </tr>\n",
       "    <tr>\n",
       "      <th>76</th>\n",
       "      <td>2020-04-07</td>\n",
       "      <td>24392</td>\n",
       "      <td>94067</td>\n",
       "      <td>1555</td>\n",
       "    </tr>\n",
       "    <tr>\n",
       "      <th>77</th>\n",
       "      <td>2020-04-08</td>\n",
       "      <td>26491</td>\n",
       "      <td>95262</td>\n",
       "      <td>2099</td>\n",
       "    </tr>\n",
       "    <tr>\n",
       "      <th>78</th>\n",
       "      <td>2020-04-09</td>\n",
       "      <td>28470</td>\n",
       "      <td>96877</td>\n",
       "      <td>1979</td>\n",
       "    </tr>\n",
       "    <tr>\n",
       "      <th>79</th>\n",
       "      <td>2020-04-10</td>\n",
       "      <td>30455</td>\n",
       "      <td>98273</td>\n",
       "      <td>1985</td>\n",
       "    </tr>\n",
       "  </tbody>\n",
       "</table>\n",
       "</div>"
      ],
      "text/plain": [
       "         Date Recovered cases  Infected Cases  Recovered Daily\n",
       "75 2020-04-06           22837           93187             1022\n",
       "76 2020-04-07           24392           94067             1555\n",
       "77 2020-04-08           26491           95262             2099\n",
       "78 2020-04-09           28470           96877             1979\n",
       "79 2020-04-10           30455           98273             1985"
      ]
     },
     "execution_count": 45,
     "metadata": {},
     "output_type": "execute_result"
    }
   ],
   "source": [
    "data = data.reset_index()\n",
    "data.tail()"
   ]
  },
  {
   "cell_type": "code",
   "execution_count": 54,
   "metadata": {},
   "outputs": [],
   "source": [
    "dataframe = pd.concat([data['Date'],data['Recovered Daily'], data['Infected Cases'].shift(7),\n",
    "                   data['Infected Cases'].shift(8),data['Infected Cases'].shift(9),\n",
    "                   data['Infected Cases'].shift(10),data['Infected Cases'].shift(11),\n",
    "                   data['Infected Cases'].shift(12),data['Infected Cases'].shift(13),\n",
    "                   data['Infected Cases'].shift(14),data['Infected Cases'].shift(15),\n",
    "                   data['Infected Cases'].shift(16),data['Infected Cases'].shift(17),\n",
    "                   data['Infected Cases'].shift(18),data['Infected Cases'].shift(19),\n",
    "                   data['Infected Cases'].shift(20),data['Infected Cases'].shift(21)], axis=1)"
   ]
  },
  {
   "cell_type": "markdown",
   "metadata": {},
   "source": [
    "To go on I think it would be better to have a larger data set"
   ]
  },
  {
   "cell_type": "code",
   "execution_count": 55,
   "metadata": {},
   "outputs": [],
   "source": [
    "# create lagged dataset\n",
    "dataframe.columns = ['Date', 'Recovered Daily', 'Infected cases t-7','Infected cases t-8','Infected cases t-9',\n",
    "                    'Infected cases t-10','Infected cases t-11','Infected cases t-12','Infected cases t-13',\n",
    "                    'Infected cases t-14','Infected cases t-15','Infected cases t-16','Infected cases t-17',\n",
    "                    'Infected cases t-18','Infected cases t-19','Infected cases t-20','Infected cases t-21']\n",
    "\n",
    "# Keep data such that we have value t-21 at any given day t\n",
    "dataframe = dataframe[~np.isnan(dataframe['Infected cases t-21'])]\n",
    "\n"
   ]
  },
  {
   "cell_type": "code",
   "execution_count": 56,
   "metadata": {},
   "outputs": [],
   "source": [
    "dataframe = dataframe.set_index('Date')"
   ]
  },
  {
   "cell_type": "markdown",
   "metadata": {},
   "source": [
    "#  Linear regression model"
   ]
  },
  {
   "cell_type": "code",
   "execution_count": 49,
   "metadata": {},
   "outputs": [],
   "source": [
    "import pandas as pd  \n",
    "import numpy as np  \n",
    "import matplotlib.pyplot as plt  \n",
    "import seaborn as seabornInstance \n",
    "from sklearn.model_selection import train_test_split \n",
    "from sklearn.linear_model import LinearRegression\n",
    "from sklearn import metrics\n",
    "%matplotlib inline"
   ]
  },
  {
   "cell_type": "markdown",
   "metadata": {},
   "source": [
    "If we take out the first 15 days due to noise, unstability of covid-19 progress"
   ]
  },
  {
   "cell_type": "code",
   "execution_count": 57,
   "metadata": {},
   "outputs": [],
   "source": [
    "dataframe_new = dataframe.iloc[15:,:].copy()"
   ]
  },
  {
   "cell_type": "code",
   "execution_count": 61,
   "metadata": {},
   "outputs": [],
   "source": [
    "y = dataframe_new['Recovered Daily'].values\n",
    "X = dataframe_new.iloc[:,1:].values"
   ]
  },
  {
   "cell_type": "code",
   "execution_count": 63,
   "metadata": {},
   "outputs": [],
   "source": [
    "dataframe.loc[:,'Recovered Daily'] = dataframe_new.loc[:,'Recovered Daily'].apply(pd.to_numeric)\n"
   ]
  },
  {
   "cell_type": "code",
   "execution_count": 64,
   "metadata": {},
   "outputs": [],
   "source": [
    "dataframe_new['Recovered Daily'] = dataframe_new['Recovered Daily'].apply(pd.to_numeric)\n"
   ]
  },
  {
   "cell_type": "code",
   "execution_count": 65,
   "metadata": {},
   "outputs": [
    {
     "name": "stderr",
     "output_type": "stream",
     "text": [
      "/usr/local/anaconda3/lib/python3.7/site-packages/scipy/stats/stats.py:1713: FutureWarning: Using a non-tuple sequence for multidimensional indexing is deprecated; use `arr[tuple(seq)]` instead of `arr[seq]`. In the future this will be interpreted as an array index, `arr[np.array(seq)]`, which will result either in an error or a different result.\n",
      "  return np.add.reduce(sorted[indexer] * weights, axis=axis) / sumval\n"
     ]
    },
    {
     "data": {
      "text/plain": [
       "<matplotlib.axes._subplots.AxesSubplot at 0x1a12e01438>"
      ]
     },
     "execution_count": 65,
     "metadata": {},
     "output_type": "execute_result"
    },
    {
     "data": {
      "image/png": "[encoded data removed]",
      "text/plain": [
       "<Figure size 1080x720 with 1 Axes>"
      ]
     },
     "metadata": {
      "needs_background": "light"
     },
     "output_type": "display_data"
    }
   ],
   "source": [
    "from scipy.stats import norm\n",
    "\n",
    "plt.figure(figsize=(15,10))\n",
    "plt.tight_layout()\n",
    "seabornInstance.distplot(dataframe_new['Recovered Daily'], fit=norm)"
   ]
  },
  {
   "cell_type": "code",
   "execution_count": 66,
   "metadata": {},
   "outputs": [
    {
     "name": "stdout",
     "output_type": "stream",
     "text": [
      "40\n"
     ]
    }
   ],
   "source": [
    "# split into train and test sets\n",
    "\n",
    "pct_90 = int(np.ceil(90*len(X)/100))\n",
    "\n",
    "print(pct_90)\n",
    "\n",
    "#predict las 10%\n",
    "\n",
    "train, test = dataframe_new.values[:pct_90], dataframe_new.values[pct_90:]\n",
    "y_train, X_train = train[:,0], train[:,1:]\n",
    "y_test, X_test = test[:,0], test[:,1:]"
   ]
  },
  {
   "cell_type": "code",
   "execution_count": 67,
   "metadata": {},
   "outputs": [],
   "source": [
    "#X_train, X_test, y_train, y_test = train_test_split(X, y, test_size=0.2, random_state=0)"
   ]
  },
  {
   "cell_type": "code",
   "execution_count": 68,
   "metadata": {},
   "outputs": [
    {
     "data": {
      "text/plain": [
       "LinearRegression(copy_X=True, fit_intercept=True, n_jobs=None, normalize=True)"
      ]
     },
     "execution_count": 68,
     "metadata": {},
     "output_type": "execute_result"
    }
   ],
   "source": [
    "regressor = LinearRegression(normalize=True)  \n",
    "regressor.fit(X_train, y_train) #training the algorithm"
   ]
  },
  {
   "cell_type": "code",
   "execution_count": 69,
   "metadata": {},
   "outputs": [],
   "source": [
    "y_pred = regressor.predict(X_test)\n"
   ]
  },
  {
   "cell_type": "code",
   "execution_count": 70,
   "metadata": {},
   "outputs": [
    {
     "data": {
      "text/html": [
       "<div>\n",
       "<style scoped>\n",
       "    .dataframe tbody tr th:only-of-type {\n",
       "        vertical-align: middle;\n",
       "    }\n",
       "\n",
       "    .dataframe tbody tr th {\n",
       "        vertical-align: top;\n",
       "    }\n",
       "\n",
       "    .dataframe thead th {\n",
       "        text-align: right;\n",
       "    }\n",
       "</style>\n",
       "<table border=\"1\" class=\"dataframe\">\n",
       "  <thead>\n",
       "    <tr style=\"text-align: right;\">\n",
       "      <th></th>\n",
       "      <th>Actual</th>\n",
       "      <th>Predicted</th>\n",
       "    </tr>\n",
       "  </thead>\n",
       "  <tbody>\n",
       "    <tr>\n",
       "      <th>0</th>\n",
       "      <td>1555.0</td>\n",
       "      <td>449.102410</td>\n",
       "    </tr>\n",
       "    <tr>\n",
       "      <th>1</th>\n",
       "      <td>2099.0</td>\n",
       "      <td>932.865203</td>\n",
       "    </tr>\n",
       "    <tr>\n",
       "      <th>2</th>\n",
       "      <td>1979.0</td>\n",
       "      <td>617.979779</td>\n",
       "    </tr>\n",
       "    <tr>\n",
       "      <th>3</th>\n",
       "      <td>1985.0</td>\n",
       "      <td>-1071.591475</td>\n",
       "    </tr>\n",
       "  </tbody>\n",
       "</table>\n",
       "</div>"
      ],
      "text/plain": [
       "   Actual    Predicted\n",
       "0  1555.0   449.102410\n",
       "1  2099.0   932.865203\n",
       "2  1979.0   617.979779\n",
       "3  1985.0 -1071.591475"
      ]
     },
     "execution_count": 70,
     "metadata": {},
     "output_type": "execute_result"
    }
   ],
   "source": [
    "df = pd.DataFrame({'Actual': y_test.flatten(), 'Predicted': y_pred.flatten()})\n",
    "df"
   ]
  },
  {
   "cell_type": "code",
   "execution_count": 71,
   "metadata": {},
   "outputs": [
    {
     "name": "stdout",
     "output_type": "stream",
     "text": [
      "Mean Absolute Error: 1672.41\n",
      "Mean Squared Error: 3444501.83\n",
      "Root Mean Squared Error: 1855.94\n"
     ]
    }
   ],
   "source": [
    "print('Mean Absolute Error:',  \"%.2f\" % (metrics.mean_absolute_error(y_test, y_pred),))  \n",
    "print('Mean Squared Error:', \"%.2f\" % (metrics.mean_squared_error(y_test, y_pred),) )  \n",
    "print('Root Mean Squared Error:', \"%.2f\" % (np.sqrt(metrics.mean_squared_error(y_test, y_pred),)))"
   ]
  },
  {
   "cell_type": "code",
   "execution_count": 72,
   "metadata": {},
   "outputs": [
    {
     "data": {
      "text/plain": [
       "array([ 0.05183111,  0.29749919, -0.48764366, -0.05059601,  0.37824929,\n",
       "       -0.23236454, -0.1047322 , -0.09057763,  0.36265339,  0.06604587,\n",
       "        0.03319187, -0.21103011,  0.31654272, -0.05264126, -0.38850025])"
      ]
     },
     "execution_count": 72,
     "metadata": {},
     "output_type": "execute_result"
    }
   ],
   "source": [
    "regressor.coef_"
   ]
  },
  {
   "cell_type": "code",
   "execution_count": 73,
   "metadata": {},
   "outputs": [
    {
     "name": "stdout",
     "output_type": "stream",
     "text": [
      "R^2 Score:  -79.100\n"
     ]
    }
   ],
   "source": [
    "print(\"R^2 Score: \",\"%.3f\" % (regressor.score(X_test, y_test),) )"
   ]
  },
  {
   "cell_type": "code",
   "execution_count": 74,
   "metadata": {},
   "outputs": [
    {
     "data": {
      "text/html": [
       "<div>\n",
       "<style scoped>\n",
       "    .dataframe tbody tr th:only-of-type {\n",
       "        vertical-align: middle;\n",
       "    }\n",
       "\n",
       "    .dataframe tbody tr th {\n",
       "        vertical-align: top;\n",
       "    }\n",
       "\n",
       "    .dataframe thead th {\n",
       "        text-align: right;\n",
       "    }\n",
       "</style>\n",
       "<table border=\"1\" class=\"dataframe\">\n",
       "  <thead>\n",
       "    <tr style=\"text-align: right;\">\n",
       "      <th></th>\n",
       "      <th>Coefficient</th>\n",
       "    </tr>\n",
       "  </thead>\n",
       "  <tbody>\n",
       "    <tr>\n",
       "      <th>Infected cases t-7</th>\n",
       "      <td>0.051831</td>\n",
       "    </tr>\n",
       "    <tr>\n",
       "      <th>Infected cases t-8</th>\n",
       "      <td>0.297499</td>\n",
       "    </tr>\n",
       "    <tr>\n",
       "      <th>Infected cases t-9</th>\n",
       "      <td>-0.487644</td>\n",
       "    </tr>\n",
       "    <tr>\n",
       "      <th>Infected cases t-10</th>\n",
       "      <td>-0.050596</td>\n",
       "    </tr>\n",
       "    <tr>\n",
       "      <th>Infected cases t-11</th>\n",
       "      <td>0.378249</td>\n",
       "    </tr>\n",
       "    <tr>\n",
       "      <th>Infected cases t-12</th>\n",
       "      <td>-0.232365</td>\n",
       "    </tr>\n",
       "    <tr>\n",
       "      <th>Infected cases t-13</th>\n",
       "      <td>-0.104732</td>\n",
       "    </tr>\n",
       "    <tr>\n",
       "      <th>Infected cases t-14</th>\n",
       "      <td>-0.090578</td>\n",
       "    </tr>\n",
       "    <tr>\n",
       "      <th>Infected cases t-15</th>\n",
       "      <td>0.362653</td>\n",
       "    </tr>\n",
       "    <tr>\n",
       "      <th>Infected cases t-16</th>\n",
       "      <td>0.066046</td>\n",
       "    </tr>\n",
       "    <tr>\n",
       "      <th>Infected cases t-17</th>\n",
       "      <td>0.033192</td>\n",
       "    </tr>\n",
       "    <tr>\n",
       "      <th>Infected cases t-18</th>\n",
       "      <td>-0.211030</td>\n",
       "    </tr>\n",
       "    <tr>\n",
       "      <th>Infected cases t-19</th>\n",
       "      <td>0.316543</td>\n",
       "    </tr>\n",
       "    <tr>\n",
       "      <th>Infected cases t-20</th>\n",
       "      <td>-0.052641</td>\n",
       "    </tr>\n",
       "    <tr>\n",
       "      <th>Infected cases t-21</th>\n",
       "      <td>-0.388500</td>\n",
       "    </tr>\n",
       "  </tbody>\n",
       "</table>\n",
       "</div>"
      ],
      "text/plain": [
       "                     Coefficient\n",
       "Infected cases t-7      0.051831\n",
       "Infected cases t-8      0.297499\n",
       "Infected cases t-9     -0.487644\n",
       "Infected cases t-10    -0.050596\n",
       "Infected cases t-11     0.378249\n",
       "Infected cases t-12    -0.232365\n",
       "Infected cases t-13    -0.104732\n",
       "Infected cases t-14    -0.090578\n",
       "Infected cases t-15     0.362653\n",
       "Infected cases t-16     0.066046\n",
       "Infected cases t-17     0.033192\n",
       "Infected cases t-18    -0.211030\n",
       "Infected cases t-19     0.316543\n",
       "Infected cases t-20    -0.052641\n",
       "Infected cases t-21    -0.388500"
      ]
     },
     "execution_count": 74,
     "metadata": {},
     "output_type": "execute_result"
    }
   ],
   "source": [
    "coeff_df = pd.DataFrame(regressor.coef_, dataframe.iloc[:,1:].columns, columns=['Coefficient'])  \n",
    "coeff_df"
   ]
  },
  {
   "cell_type": "markdown",
   "metadata": {},
   "source": [
    "### Plot coefficients (distribution of gamma)"
   ]
  },
  {
   "cell_type": "code",
   "execution_count": 75,
   "metadata": {},
   "outputs": [
    {
     "name": "stderr",
     "output_type": "stream",
     "text": [
      "/usr/local/anaconda3/lib/python3.7/site-packages/scipy/stats/stats.py:1713: FutureWarning: Using a non-tuple sequence for multidimensional indexing is deprecated; use `arr[tuple(seq)]` instead of `arr[seq]`. In the future this will be interpreted as an array index, `arr[np.array(seq)]`, which will result either in an error or a different result.\n",
      "  return np.add.reduce(sorted[indexer] * weights, axis=axis) / sumval\n"
     ]
    },
    {
     "data": {
      "text/plain": [
       "<matplotlib.axes._subplots.AxesSubplot at 0x1a13281ba8>"
      ]
     },
     "execution_count": 75,
     "metadata": {},
     "output_type": "execute_result"
    },
    {
     "data": {
      "image/png": "[encoded data removed]",
      "text/plain": [
       "<Figure size 1080x720 with 1 Axes>"
      ]
     },
     "metadata": {
      "needs_background": "light"
     },
     "output_type": "display_data"
    }
   ],
   "source": [
    "plt.figure(figsize=(15,10))\n",
    "plt.tight_layout()\n",
    "seabornInstance.distplot(coeff_df, fit=norm)"
   ]
  },
  {
   "cell_type": "markdown",
   "metadata": {},
   "source": [
    "**Update this**"
   ]
  },
  {
   "cell_type": "markdown",
   "metadata": {},
   "source": [
    "For a unit increase in the number of recovered individuals at time t, that means there is:\n",
    "- An increase of 21 infected at day t-20\n",
    "- A decrease of 13 infected at day t-18\n",
    "\n",
    "We see that the closer we are to the recovery date, the lower the number of infected cases has an impact on the number od recovered cases "
   ]
  },
  {
   "cell_type": "markdown",
   "metadata": {},
   "source": [
    "### Plot Actual values (y test) versus predicted values"
   ]
  },
  {
   "cell_type": "code",
   "execution_count": 76,
   "metadata": {},
   "outputs": [
    {
     "data": {
      "image/png": "[encoded data removed]",
      "text/plain": [
       "<Figure size 720x576 with 1 Axes>"
      ]
     },
     "metadata": {
      "needs_background": "light"
     },
     "output_type": "display_data"
    }
   ],
   "source": [
    "df.plot(kind='bar',figsize=(10,8))\n",
    "plt.grid(which='major', linestyle='-', linewidth='0.5', color='green')\n",
    "plt.grid(which='minor', linestyle=':', linewidth='0.5', color='black')\n",
    "plt.show()"
   ]
  },
  {
   "cell_type": "markdown",
   "metadata": {},
   "source": [
    "There are many factors that may have contributed to this inaccuracy, for example :\n",
    "\n",
    "- **Need more data**: We need to have a huge amount of data to get the best possible prediction.\n",
    "- **Bad assumptions**: We made the assumption that this data has a linear relationship, but that might not be the case. Visualizing the data may help us determine that.\n",
    "- **Poor features**: The features we used may not have had a high enough correlation to the values we were trying to predict."
   ]
  },
  {
   "cell_type": "markdown",
   "metadata": {},
   "source": [
    "#  ridge regression (L2)"
   ]
  },
  {
   "cell_type": "code",
   "execution_count": 77,
   "metadata": {},
   "outputs": [],
   "source": [
    "from sklearn.linear_model import Ridge\n",
    "from sklearn import linear_model\n",
    "import numpy as np\n",
    "from sklearn.linear_model import RidgeCV\n",
    "from sklearn.preprocessing import StandardScaler\n",
    "import matplotlib.pyplot as plt\n",
    "\n",
    "rng = np.random.RandomState(0)\n"
   ]
  },
  {
   "cell_type": "code",
   "execution_count": 78,
   "metadata": {},
   "outputs": [
    {
     "name": "stdout",
     "output_type": "stream",
     "text": [
      "40\n"
     ]
    }
   ],
   "source": [
    "#y = dataframe_new['Recovered cases'].values\n",
    "#X = dataframe_new.iloc[:,1:].values\n",
    "\n",
    "#X_train, X_test, y_train, y_test = train_test_split(X, y, test_size=0.2, random_state=1)\n",
    "\n",
    "# split into train and test sets\n",
    "\n",
    "pct_90 = int(np.ceil(90*len(X)/100))\n",
    "\n",
    "print(pct_90)\n",
    "\n",
    "#predict las 10%\n",
    "\n",
    "train, test = dataframe_new.values[:pct_90], dataframe_new.values[pct_90:]\n",
    "y_train, X_train = train[:,0], train[:,1:]\n",
    "y_test, X_test = test[:,0], test[:,1:]"
   ]
  },
  {
   "cell_type": "code",
   "execution_count": 79,
   "metadata": {},
   "outputs": [],
   "source": [
    "# Create ridge regression with three possible alpha values\n",
    "\n",
    "clf = Ridge(alpha=1, normalize=True)\n",
    "# Fit the linear regression\n",
    "model = clf.fit(X_train, y_train)\n",
    "\n",
    "#y_pred = clf.predict(X_test)\n",
    "y_pred = clf.predict(X_test)"
   ]
  },
  {
   "cell_type": "code",
   "execution_count": 80,
   "metadata": {},
   "outputs": [
    {
     "data": {
      "text/plain": [
       "-2.447908261941411"
      ]
     },
     "execution_count": 80,
     "metadata": {},
     "output_type": "execute_result"
    }
   ],
   "source": [
    "clf.score(X_test, y_test)"
   ]
  },
  {
   "cell_type": "code",
   "execution_count": 81,
   "metadata": {},
   "outputs": [
    {
     "name": "stdout",
     "output_type": "stream",
     "text": [
      "Mean Absolute Error: 342.7108957957342\n",
      "Mean Squared Error: 148269.53701120103\n",
      "Root Mean Squared Error: 385.0578359301379\n"
     ]
    }
   ],
   "source": [
    "print('Mean Absolute Error:', metrics.mean_absolute_error(y_test, y_pred))  \n",
    "print('Mean Squared Error:', metrics.mean_squared_error(y_test, y_pred))  \n",
    "print('Root Mean Squared Error:', np.sqrt(metrics.mean_squared_error(y_test, y_pred)))"
   ]
  },
  {
   "cell_type": "code",
   "execution_count": 82,
   "metadata": {},
   "outputs": [
    {
     "data": {
      "image/png": "[encoded data removed]",
      "text/plain": [
       "<Figure size 720x576 with 1 Axes>"
      ]
     },
     "metadata": {
      "needs_background": "light"
     },
     "output_type": "display_data"
    }
   ],
   "source": [
    "df = pd.DataFrame({'Actual': y_test.flatten(), 'Predicted': y_pred.flatten()})\n",
    "df.plot(kind='bar',figsize=(10,8))\n",
    "plt.grid(which='major', linestyle='-', linewidth='0.5', color='green')\n",
    "plt.grid(which='minor', linestyle=':', linewidth='0.5', color='black')\n",
    "plt.show()"
   ]
  },
  {
   "cell_type": "markdown",
   "metadata": {},
   "source": [
    "#  Lasso Regression (L1)"
   ]
  },
  {
   "cell_type": "code",
   "execution_count": 83,
   "metadata": {},
   "outputs": [
    {
     "name": "stderr",
     "output_type": "stream",
     "text": [
      "/usr/local/anaconda3/lib/python3.7/site-packages/sklearn/linear_model/coordinate_descent.py:492: ConvergenceWarning: Objective did not converge. You might want to increase the number of iterations. Fitting data with very small alpha may cause precision problems.\n",
      "  ConvergenceWarning)\n"
     ]
    }
   ],
   "source": [
    "#y = dataframe_new['Recovered cases'].values\n",
    "#X = dataframe_new.iloc[:,1:].values\n",
    "\n",
    "#X_train, X_test, y_train, y_test = train_test_split(X, y, test_size=0.2, random_state=1)\n",
    "\n",
    "# split into train and test sets\n",
    "\n",
    "pct_90 = int(np.ceil(90*len(X)/100))\n",
    "\n",
    "#predict las 10%\n",
    "\n",
    "train, test = dataframe_new.values[:pct_90], dataframe_new.values[pct_90:]\n",
    "y_train, X_train = train[:,0], train[:,1:]\n",
    "y_test, X_test = test[:,0], test[:,1:]\n",
    "\n",
    "\n",
    "clf = linear_model.Lasso(alpha=0.1)\n",
    "\n",
    "clf.fit(X_train, y_train)\n",
    "\n",
    "y_pred = clf.predict(X_test)"
   ]
  },
  {
   "cell_type": "code",
   "execution_count": 84,
   "metadata": {},
   "outputs": [
    {
     "data": {
      "image/png": "[encoded data removed]",
      "text/plain": [
       "<Figure size 720x576 with 1 Axes>"
      ]
     },
     "metadata": {
      "needs_background": "light"
     },
     "output_type": "display_data"
    }
   ],
   "source": [
    "df = pd.DataFrame({'Actual': y_test.flatten(), 'Predicted': y_pred.flatten()})\n",
    "df.plot(kind='bar',figsize=(10,8))\n",
    "plt.grid(which='major', linestyle='-', linewidth='0.5', color='green')\n",
    "plt.grid(which='minor', linestyle=':', linewidth='0.5', color='black')\n",
    "plt.show()\n"
   ]
  },
  {
   "cell_type": "code",
   "execution_count": 85,
   "metadata": {},
   "outputs": [
    {
     "data": {
      "text/plain": [
       "-46.608531401245756"
      ]
     },
     "execution_count": 85,
     "metadata": {},
     "output_type": "execute_result"
    }
   ],
   "source": [
    "clf.score(X_test, y_test)"
   ]
  },
  {
   "cell_type": "markdown",
   "metadata": {},
   "source": [
    "# Linear Elastic Net regression \n",
    "(Linear regression with combined L1 and L2 priors as regularizer)"
   ]
  },
  {
   "cell_type": "markdown",
   "metadata": {},
   "source": [
    "The elastic net method overcomes the limitations of the LASSO (least absolute shrinkage and selection operator) method which uses a penalty function based on\n",
    "\n",
    "$$||\\beta||_1=\\sum_{j=1}^p{|\\beta_j|}$$\n",
    "\n",
    "The parameters for the elastic net method are defined by\n",
    "\n",
    "$$\\hat{\\beta}\\equiv \\text{argmin}_{\\beta}(||y-X\\beta||^2+\\lambda_2||\\beta||^2+\\lambda_1||\\beta||_1)$$\n",
    "\n",
    "In our case here, $\\lambda_1=\\lambda_2=\\alpha$"
   ]
  },
  {
   "cell_type": "code",
   "execution_count": 98,
   "metadata": {},
   "outputs": [
    {
     "name": "stderr",
     "output_type": "stream",
     "text": [
      "/usr/local/anaconda3/lib/python3.7/site-packages/sklearn/linear_model/coordinate_descent.py:492: ConvergenceWarning: Objective did not converge. You might want to increase the number of iterations. Fitting data with very small alpha may cause precision problems.\n",
      "  ConvergenceWarning)\n"
     ]
    }
   ],
   "source": [
    "y = dataframe_new['Recovered Daily'].values\n",
    "X = dataframe_new.iloc[:,1:].values\n",
    "\n",
    "#-----#\n",
    "\n",
    "#X_train, X_test, y_train, y_test = train_test_split(X, y, test_size=0.2, random_state=1)\n",
    "\n",
    "# split into train and test sets\n",
    "\n",
    "pct_90 = int(np.ceil(90*len(X)/100))\n",
    "\n",
    "#predict las 10%\n",
    "\n",
    "X_train, X_test = X[:pct_90], X[pct_90:]\n",
    "y_train, y_test =y[:pct_90], y[pct_90:]\n",
    "\n",
    "\n",
    "#-----#\n",
    "\n",
    "clf = linear_model.ElasticNet(alpha=0.1)\n",
    "\n",
    "clf.fit(X_train, y_train)\n",
    "\n",
    "y_pred = clf.predict(X_test)"
   ]
  },
  {
   "cell_type": "code",
   "execution_count": 99,
   "metadata": {},
   "outputs": [
    {
     "data": {
      "text/html": [
       "<div>\n",
       "<style scoped>\n",
       "    .dataframe tbody tr th:only-of-type {\n",
       "        vertical-align: middle;\n",
       "    }\n",
       "\n",
       "    .dataframe tbody tr th {\n",
       "        vertical-align: top;\n",
       "    }\n",
       "\n",
       "    .dataframe thead th {\n",
       "        text-align: right;\n",
       "    }\n",
       "</style>\n",
       "<table border=\"1\" class=\"dataframe\">\n",
       "  <thead>\n",
       "    <tr style=\"text-align: right;\">\n",
       "      <th></th>\n",
       "      <th>Actual</th>\n",
       "      <th>Predicted</th>\n",
       "    </tr>\n",
       "  </thead>\n",
       "  <tbody>\n",
       "    <tr>\n",
       "      <th>0</th>\n",
       "      <td>1555</td>\n",
       "      <td>566.353778</td>\n",
       "    </tr>\n",
       "    <tr>\n",
       "      <th>1</th>\n",
       "      <td>2099</td>\n",
       "      <td>738.551914</td>\n",
       "    </tr>\n",
       "    <tr>\n",
       "      <th>2</th>\n",
       "      <td>1979</td>\n",
       "      <td>756.599871</td>\n",
       "    </tr>\n",
       "    <tr>\n",
       "      <th>3</th>\n",
       "      <td>1985</td>\n",
       "      <td>18.606392</td>\n",
       "    </tr>\n",
       "  </tbody>\n",
       "</table>\n",
       "</div>"
      ],
      "text/plain": [
       "   Actual   Predicted\n",
       "0    1555  566.353778\n",
       "1    2099  738.551914\n",
       "2    1979  756.599871\n",
       "3    1985   18.606392"
      ]
     },
     "execution_count": 99,
     "metadata": {},
     "output_type": "execute_result"
    }
   ],
   "source": [
    "df = pd.DataFrame({'Actual': y_test.flatten(), 'Predicted': y_pred.flatten()})\n",
    "df\n"
   ]
  },
  {
   "cell_type": "code",
   "execution_count": 100,
   "metadata": {},
   "outputs": [
    {
     "data": {
      "text/plain": [
       "-46.60861947928985"
      ]
     },
     "execution_count": 100,
     "metadata": {},
     "output_type": "execute_result"
    }
   ],
   "source": [
    "clf.score(X_test, y_test)"
   ]
  },
  {
   "cell_type": "code",
   "execution_count": 101,
   "metadata": {},
   "outputs": [
    {
     "name": "stdout",
     "output_type": "stream",
     "text": [
      "Mean Absolute Error: 1384.4720114140803\n",
      "Mean Squared Error: 2047301.5613130317\n",
      "Root Mean Squared Error: 1430.8394603564132\n"
     ]
    }
   ],
   "source": [
    "print('Mean Absolute Error:', metrics.mean_absolute_error(y_test, y_pred))  \n",
    "print('Mean Squared Error:', metrics.mean_squared_error(y_test, y_pred))  \n",
    "print('Root Mean Squared Error:', np.sqrt(metrics.mean_squared_error(y_test, y_pred)))"
   ]
  },
  {
   "cell_type": "code",
   "execution_count": 102,
   "metadata": {},
   "outputs": [
    {
     "data": {
      "text/html": [
       "<div>\n",
       "<style scoped>\n",
       "    .dataframe tbody tr th:only-of-type {\n",
       "        vertical-align: middle;\n",
       "    }\n",
       "\n",
       "    .dataframe tbody tr th {\n",
       "        vertical-align: top;\n",
       "    }\n",
       "\n",
       "    .dataframe thead th {\n",
       "        text-align: right;\n",
       "    }\n",
       "</style>\n",
       "<table border=\"1\" class=\"dataframe\">\n",
       "  <thead>\n",
       "    <tr style=\"text-align: right;\">\n",
       "      <th></th>\n",
       "      <th>Coefficient</th>\n",
       "    </tr>\n",
       "  </thead>\n",
       "  <tbody>\n",
       "    <tr>\n",
       "      <th>Infected cases t-7</th>\n",
       "      <td>0.051831</td>\n",
       "    </tr>\n",
       "    <tr>\n",
       "      <th>Infected cases t-8</th>\n",
       "      <td>0.297499</td>\n",
       "    </tr>\n",
       "    <tr>\n",
       "      <th>Infected cases t-9</th>\n",
       "      <td>-0.487644</td>\n",
       "    </tr>\n",
       "    <tr>\n",
       "      <th>Infected cases t-10</th>\n",
       "      <td>-0.050596</td>\n",
       "    </tr>\n",
       "    <tr>\n",
       "      <th>Infected cases t-11</th>\n",
       "      <td>0.378249</td>\n",
       "    </tr>\n",
       "    <tr>\n",
       "      <th>Infected cases t-12</th>\n",
       "      <td>-0.232365</td>\n",
       "    </tr>\n",
       "    <tr>\n",
       "      <th>Infected cases t-13</th>\n",
       "      <td>-0.104732</td>\n",
       "    </tr>\n",
       "    <tr>\n",
       "      <th>Infected cases t-14</th>\n",
       "      <td>-0.090578</td>\n",
       "    </tr>\n",
       "    <tr>\n",
       "      <th>Infected cases t-15</th>\n",
       "      <td>0.362653</td>\n",
       "    </tr>\n",
       "    <tr>\n",
       "      <th>Infected cases t-16</th>\n",
       "      <td>0.066046</td>\n",
       "    </tr>\n",
       "    <tr>\n",
       "      <th>Infected cases t-17</th>\n",
       "      <td>0.033192</td>\n",
       "    </tr>\n",
       "    <tr>\n",
       "      <th>Infected cases t-18</th>\n",
       "      <td>-0.211030</td>\n",
       "    </tr>\n",
       "    <tr>\n",
       "      <th>Infected cases t-19</th>\n",
       "      <td>0.316543</td>\n",
       "    </tr>\n",
       "    <tr>\n",
       "      <th>Infected cases t-20</th>\n",
       "      <td>-0.052641</td>\n",
       "    </tr>\n",
       "    <tr>\n",
       "      <th>Infected cases t-21</th>\n",
       "      <td>-0.388500</td>\n",
       "    </tr>\n",
       "  </tbody>\n",
       "</table>\n",
       "</div>"
      ],
      "text/plain": [
       "                     Coefficient\n",
       "Infected cases t-7      0.051831\n",
       "Infected cases t-8      0.297499\n",
       "Infected cases t-9     -0.487644\n",
       "Infected cases t-10    -0.050596\n",
       "Infected cases t-11     0.378249\n",
       "Infected cases t-12    -0.232365\n",
       "Infected cases t-13    -0.104732\n",
       "Infected cases t-14    -0.090578\n",
       "Infected cases t-15     0.362653\n",
       "Infected cases t-16     0.066046\n",
       "Infected cases t-17     0.033192\n",
       "Infected cases t-18    -0.211030\n",
       "Infected cases t-19     0.316543\n",
       "Infected cases t-20    -0.052641\n",
       "Infected cases t-21    -0.388500"
      ]
     },
     "execution_count": 102,
     "metadata": {},
     "output_type": "execute_result"
    }
   ],
   "source": [
    "coeff_df = pd.DataFrame(regressor.coef_, dataframe.iloc[:,1:].columns, columns=['Coefficient'])  \n",
    "coeff_df"
   ]
  },
  {
   "cell_type": "code",
   "execution_count": 103,
   "metadata": {},
   "outputs": [
    {
     "name": "stderr",
     "output_type": "stream",
     "text": [
      "/usr/local/anaconda3/lib/python3.7/site-packages/scipy/stats/stats.py:1713: FutureWarning: Using a non-tuple sequence for multidimensional indexing is deprecated; use `arr[tuple(seq)]` instead of `arr[seq]`. In the future this will be interpreted as an array index, `arr[np.array(seq)]`, which will result either in an error or a different result.\n",
      "  return np.add.reduce(sorted[indexer] * weights, axis=axis) / sumval\n"
     ]
    },
    {
     "data": {
      "text/plain": [
       "<matplotlib.axes._subplots.AxesSubplot at 0x1a12aed0f0>"
      ]
     },
     "execution_count": 103,
     "metadata": {},
     "output_type": "execute_result"
    },
    {
     "data": {
      "image/png": "[encoded data removed]",
      "text/plain": [
       "<Figure size 1080x720 with 1 Axes>"
      ]
     },
     "metadata": {
      "needs_background": "light"
     },
     "output_type": "display_data"
    }
   ],
   "source": [
    "plt.figure(figsize=(15,10))\n",
    "plt.tight_layout()\n",
    "seabornInstance.distplot(coeff_df, fit=norm)"
   ]
  },
  {
   "cell_type": "code",
   "execution_count": 104,
   "metadata": {},
   "outputs": [
    {
     "data": {
      "image/png": "[encoded data removed]",
      "text/plain": [
       "<Figure size 720x576 with 1 Axes>"
      ]
     },
     "metadata": {
      "needs_background": "light"
     },
     "output_type": "display_data"
    }
   ],
   "source": [
    "df.plot(kind='bar',figsize=(10,8))\n",
    "plt.grid(which='major', linestyle='-', linewidth='0.5', color='green')\n",
    "plt.grid(which='minor', linestyle=':', linewidth='0.5', color='black')\n",
    "plt.show()"
   ]
  },
  {
   "cell_type": "markdown",
   "metadata": {},
   "source": [
    "## Laplacian"
   ]
  },
  {
   "cell_type": "markdown",
   "metadata": {},
   "source": [
    "### Labeled Data"
   ]
  },
  {
   "cell_type": "code",
   "execution_count": 429,
   "metadata": {},
   "outputs": [],
   "source": [
    "dataframe_new = dataframe.iloc[15:,:]"
   ]
  },
  {
   "cell_type": "code",
   "execution_count": 430,
   "metadata": {},
   "outputs": [],
   "source": [
    "yl = dataframe_new['Recovered cases'].values\n",
    "Xl = dataframe_new.iloc[:,1:].values"
   ]
  },
  {
   "cell_type": "markdown",
   "metadata": {},
   "source": [
    "### Unlabeled Data"
   ]
  },
  {
   "cell_type": "code",
   "execution_count": 438,
   "metadata": {},
   "outputs": [],
   "source": [
    "Xu = unsupervised_df.iloc[:,1:].values"
   ]
  },
  {
   "cell_type": "code",
   "execution_count": 447,
   "metadata": {},
   "outputs": [],
   "source": [
    "X = dataframe_new + unsupervised_df"
   ]
  },
  {
   "cell_type": "code",
   "execution_count": 451,
   "metadata": {},
   "outputs": [],
   "source": [
    "unsupervised_df = unsupervised_df.set_index('Date')"
   ]
  },
  {
   "cell_type": "code",
   "execution_count": 460,
   "metadata": {},
   "outputs": [],
   "source": [
    "one = pd.DataFrame(Xu)\n",
    "two = pd.DataFrame(Xl)"
   ]
  },
  {
   "cell_type": "code",
   "execution_count": 464,
   "metadata": {},
   "outputs": [],
   "source": [
    "X = pd.concat([two, one], axis=0, join='outer', ignore_index=True, keys=None,\n",
    "          levels=None, names=None, verify_integrity=False, copy=True)"
   ]
  },
  {
   "cell_type": "markdown",
   "metadata": {},
   "source": [
    "### Algorithm"
   ]
  },
  {
   "cell_type": "code",
   "execution_count": 440,
   "metadata": {},
   "outputs": [],
   "source": [
    "import numpy as np\n",
    "import matplotlib.pyplot as plt\n",
    "from numpy import linalg,random\n",
    "from sklearn.base import BaseEstimator\n",
    "from sklearn import datasets,metrics\n",
    "\n",
    "class LRRidge(BaseEstimator):\n",
    "    def __init__(self,alpha=1.,beta=1.,gamma=10.,k=10):\n",
    "        self.alpha=alpha\n",
    "        self.beta=beta\n",
    "        self.gamma=gamma\n",
    "        self.k=k\n",
    "\n",
    "    def fit(self,Xl,yl,Xu):\n",
    "        self.X=np.r_[Xl,Xu]\n",
    "        #self.X=self.X[random.permutation(len(self.X))]\n",
    "        self.X2=np.c_[np.sum(self.X**2,1)]\n",
    "        Xl2=np.c_[np.sum(Xl**2,1)]\n",
    "        Xu2=np.c_[np.sum(Xu**2,1)]\n",
    "        Phil=np.exp(-self.gamma*(Xl2+self.X2.T-2*Xl.dot(self.X.T)))\n",
    "        Phiu=np.exp(-self.gamma*(Xu2+self.X2.T-2*Xu.dot(self.X.T)))\n",
    "\n",
    "        Phiu2=np.c_[np.sum(Phiu**2,1)]\n",
    "        d=Phiu2+Phiu2.T-2*Phiu.dot(Phiu.T)\n",
    "        p=np.c_[np.sort(d,axis=1)[:,self.k+1]]\n",
    "        W=d<=p\n",
    "        W=(W+W.T)!=0\n",
    "        D=np.diag(np.sum(W,axis=1))\n",
    "        L=D-W\n",
    "        \n",
    "        n_features=Phil.shape[1]\n",
    "        self.theta=linalg.pinv(Phil.T.dot(Phil)+self.alpha*np.identity(n_features)+self.beta*Phiu.T.dot(L).dot(Phiu)).dot(Phil.T).dot(yl)\n",
    "\n",
    "        return self\n",
    "\n",
    "    def predict(self,X):\n",
    "        X2=np.c_[np.sum(X**2,1)]\n",
    "        Phi=np.exp(-self.gamma*(X2+self.X2.T-2*X.dot(self.X.T)))\n",
    "        return (Phi.dot(self.theta)>=0)*2-1\n",
    "\n"
   ]
  },
  {
   "cell_type": "code",
   "execution_count": 446,
   "metadata": {},
   "outputs": [
    {
     "ename": "ValueError",
     "evalue": "operands could not be broadcast together with shapes (14,15) (44,15) ",
     "output_type": "error",
     "traceback": [
      "\u001b[0;31m---------------------------------------------------------------------------\u001b[0m",
      "\u001b[0;31mValueError\u001b[0m                                Traceback (most recent call last)",
      "\u001b[0;32m<ipython-input-446-f8f0925daec7>\u001b[0m in \u001b[0;36m<module>\u001b[0;34m\u001b[0m\n\u001b[0;32m----> 1\u001b[0;31m \u001b[0mXu\u001b[0m \u001b[0;34m+\u001b[0m \u001b[0mXl\u001b[0m\u001b[0;34m\u001b[0m\u001b[0;34m\u001b[0m\u001b[0m\n\u001b[0m",
      "\u001b[0;31mValueError\u001b[0m: operands could not be broadcast together with shapes (14,15) (44,15) "
     ]
    }
   ],
   "source": [
    "Xu + Xl"
   ]
  },
  {
   "cell_type": "code",
   "execution_count": 443,
   "metadata": {},
   "outputs": [
    {
     "data": {
      "text/plain": [
       "(44, 15)"
      ]
     },
     "execution_count": 443,
     "metadata": {},
     "output_type": "execute_result"
    }
   ],
   "source": [
    "Xl.shape"
   ]
  },
  {
   "cell_type": "markdown",
   "metadata": {},
   "source": [
    "### Implementation"
   ]
  },
  {
   "cell_type": "code",
   "execution_count": 469,
   "metadata": {},
   "outputs": [
    {
     "ename": "TypeError",
     "evalue": "loop of ufunc does not support argument 0 of type float which has no callable exp method",
     "output_type": "error",
     "traceback": [
      "\u001b[0;31m---------------------------------------------------------------------------\u001b[0m",
      "\u001b[0;31mAttributeError\u001b[0m                            Traceback (most recent call last)",
      "\u001b[0;31mAttributeError\u001b[0m: 'float' object has no attribute 'exp'",
      "\nThe above exception was the direct cause of the following exception:\n",
      "\u001b[0;31mTypeError\u001b[0m                                 Traceback (most recent call last)",
      "\u001b[0;32m<ipython-input-469-f42a47c8b77d>\u001b[0m in \u001b[0;36m<module>\u001b[0;34m\u001b[0m\n\u001b[0;32m----> 1\u001b[0;31m \u001b[0mclf\u001b[0m\u001b[0;34m=\u001b[0m\u001b[0mLRRidge\u001b[0m\u001b[0;34m(\u001b[0m\u001b[0;34m)\u001b[0m\u001b[0;34m.\u001b[0m\u001b[0mfit\u001b[0m\u001b[0;34m(\u001b[0m\u001b[0mXl\u001b[0m\u001b[0;34m,\u001b[0m\u001b[0myl\u001b[0m\u001b[0;34m,\u001b[0m\u001b[0mXu\u001b[0m\u001b[0;34m)\u001b[0m\u001b[0;34m\u001b[0m\u001b[0;34m\u001b[0m\u001b[0m\n\u001b[0m\u001b[1;32m      2\u001b[0m \u001b[0mypred\u001b[0m\u001b[0;34m=\u001b[0m\u001b[0mclf\u001b[0m\u001b[0;34m.\u001b[0m\u001b[0mpredict\u001b[0m\u001b[0;34m(\u001b[0m\u001b[0mX\u001b[0m\u001b[0;34m)\u001b[0m\u001b[0;34m\u001b[0m\u001b[0;34m\u001b[0m\u001b[0m\n\u001b[1;32m      3\u001b[0m \u001b[0myupred\u001b[0m\u001b[0;34m=\u001b[0m\u001b[0mclf\u001b[0m\u001b[0;34m.\u001b[0m\u001b[0mpredict\u001b[0m\u001b[0;34m(\u001b[0m\u001b[0mXu\u001b[0m\u001b[0;34m)\u001b[0m\u001b[0;34m\u001b[0m\u001b[0;34m\u001b[0m\u001b[0m\n\u001b[1;32m      4\u001b[0m \u001b[0;34m\u001b[0m\u001b[0m\n\u001b[1;32m      5\u001b[0m \u001b[0mprint\u001b[0m\u001b[0;34m(\u001b[0m\u001b[0;34m\"Accuracy (LRRidge):\"\u001b[0m \u001b[0;34m+\u001b[0m \u001b[0mmetrics\u001b[0m\u001b[0;34m.\u001b[0m\u001b[0maccuracy_score\u001b[0m\u001b[0;34m(\u001b[0m\u001b[0myu\u001b[0m\u001b[0;34m,\u001b[0m\u001b[0myupred\u001b[0m\u001b[0;34m)\u001b[0m\u001b[0;34m)\u001b[0m\u001b[0;34m\u001b[0m\u001b[0;34m\u001b[0m\u001b[0m\n",
      "\u001b[0;32m<ipython-input-440-e7a489fbcd85>\u001b[0m in \u001b[0;36mfit\u001b[0;34m(self, Xl, yl, Xu)\u001b[0m\n\u001b[1;32m     18\u001b[0m         \u001b[0mXl2\u001b[0m\u001b[0;34m=\u001b[0m\u001b[0mnp\u001b[0m\u001b[0;34m.\u001b[0m\u001b[0mc_\u001b[0m\u001b[0;34m[\u001b[0m\u001b[0mnp\u001b[0m\u001b[0;34m.\u001b[0m\u001b[0msum\u001b[0m\u001b[0;34m(\u001b[0m\u001b[0mXl\u001b[0m\u001b[0;34m**\u001b[0m\u001b[0;36m2\u001b[0m\u001b[0;34m,\u001b[0m\u001b[0;36m1\u001b[0m\u001b[0;34m)\u001b[0m\u001b[0;34m]\u001b[0m\u001b[0;34m\u001b[0m\u001b[0;34m\u001b[0m\u001b[0m\n\u001b[1;32m     19\u001b[0m         \u001b[0mXu2\u001b[0m\u001b[0;34m=\u001b[0m\u001b[0mnp\u001b[0m\u001b[0;34m.\u001b[0m\u001b[0mc_\u001b[0m\u001b[0;34m[\u001b[0m\u001b[0mnp\u001b[0m\u001b[0;34m.\u001b[0m\u001b[0msum\u001b[0m\u001b[0;34m(\u001b[0m\u001b[0mXu\u001b[0m\u001b[0;34m**\u001b[0m\u001b[0;36m2\u001b[0m\u001b[0;34m,\u001b[0m\u001b[0;36m1\u001b[0m\u001b[0;34m)\u001b[0m\u001b[0;34m]\u001b[0m\u001b[0;34m\u001b[0m\u001b[0;34m\u001b[0m\u001b[0m\n\u001b[0;32m---> 20\u001b[0;31m         \u001b[0mPhil\u001b[0m\u001b[0;34m=\u001b[0m\u001b[0mnp\u001b[0m\u001b[0;34m.\u001b[0m\u001b[0mexp\u001b[0m\u001b[0;34m(\u001b[0m\u001b[0;34m-\u001b[0m\u001b[0mself\u001b[0m\u001b[0;34m.\u001b[0m\u001b[0mgamma\u001b[0m\u001b[0;34m*\u001b[0m\u001b[0;34m(\u001b[0m\u001b[0mXl2\u001b[0m\u001b[0;34m+\u001b[0m\u001b[0mself\u001b[0m\u001b[0;34m.\u001b[0m\u001b[0mX2\u001b[0m\u001b[0;34m.\u001b[0m\u001b[0mT\u001b[0m\u001b[0;34m-\u001b[0m\u001b[0;36m2\u001b[0m\u001b[0;34m*\u001b[0m\u001b[0mXl\u001b[0m\u001b[0;34m.\u001b[0m\u001b[0mdot\u001b[0m\u001b[0;34m(\u001b[0m\u001b[0mself\u001b[0m\u001b[0;34m.\u001b[0m\u001b[0mX\u001b[0m\u001b[0;34m.\u001b[0m\u001b[0mT\u001b[0m\u001b[0;34m)\u001b[0m\u001b[0;34m)\u001b[0m\u001b[0;34m)\u001b[0m\u001b[0;34m\u001b[0m\u001b[0;34m\u001b[0m\u001b[0m\n\u001b[0m\u001b[1;32m     21\u001b[0m         \u001b[0mPhiu\u001b[0m\u001b[0;34m=\u001b[0m\u001b[0mnp\u001b[0m\u001b[0;34m.\u001b[0m\u001b[0mexp\u001b[0m\u001b[0;34m(\u001b[0m\u001b[0;34m-\u001b[0m\u001b[0mself\u001b[0m\u001b[0;34m.\u001b[0m\u001b[0mgamma\u001b[0m\u001b[0;34m*\u001b[0m\u001b[0;34m(\u001b[0m\u001b[0mXu2\u001b[0m\u001b[0;34m+\u001b[0m\u001b[0mself\u001b[0m\u001b[0;34m.\u001b[0m\u001b[0mX2\u001b[0m\u001b[0;34m.\u001b[0m\u001b[0mT\u001b[0m\u001b[0;34m-\u001b[0m\u001b[0;36m2\u001b[0m\u001b[0;34m*\u001b[0m\u001b[0mXu\u001b[0m\u001b[0;34m.\u001b[0m\u001b[0mdot\u001b[0m\u001b[0;34m(\u001b[0m\u001b[0mself\u001b[0m\u001b[0;34m.\u001b[0m\u001b[0mX\u001b[0m\u001b[0;34m.\u001b[0m\u001b[0mT\u001b[0m\u001b[0;34m)\u001b[0m\u001b[0;34m)\u001b[0m\u001b[0;34m)\u001b[0m\u001b[0;34m\u001b[0m\u001b[0;34m\u001b[0m\u001b[0m\n\u001b[1;32m     22\u001b[0m \u001b[0;34m\u001b[0m\u001b[0m\n",
      "\u001b[0;31mTypeError\u001b[0m: loop of ufunc does not support argument 0 of type float which has no callable exp method"
     ]
    }
   ],
   "source": [
    "clf=LRRidge().fit(Xl,yl,Xu)\n",
    "ypred=clf.predict(X)\n",
    "yupred=clf.predict(Xu)\n",
    "\n",
    "print(\"Accuracy (LRRidge):\" + metrics.accuracy_score(yu,yupred))\n",
    "\n",
    "from sklearn.linear_model import RidgeClassifierCV\n",
    "gamma=10.\n",
    "X2=np.c_[np.sum(X**2,1)]\n",
    "Phi=np.exp(-gamma*(X2+X2.T-2*X.dot(X.T)))\n",
    "clf=RidgeClassifierCV().fit(Phi[il],yl)\n",
    "yupred2=clf.predict(Phi[iu])\n",
    "print(\"Accuracy (Ridge):\" + metrics.accuracy_score(yu,yupred2))\n",
    "\n",
    "colors=np.array([\"r\",\"b\"])\n",
    "plt.figure(figsize=(12,6))\n",
    "plt.subplot(121)\n",
    "plt.scatter(Xu[:,0],Xu[:,1],c=\"w\",s=20)\n",
    "plt.scatter(Xl[:,0],Xl[:,1],color=colors[(1+yl)/2],s=100)\n",
    "plt.subplot(122)\n",
    "plt.scatter(X[:,0],X[:,1],color=colors[(1+ypred)/2])\n",
    "plt.tight_layout()\n",
    "plt.show()\n"
   ]
  },
  {
   "cell_type": "markdown",
   "metadata": {},
   "source": [
    "- try log values\n",
    "- didn't try laplacian bc w ridge parameters achieve gaussian distribution which is what we want"
   ]
  }
 ],
 "metadata": {
  "kernelspec": {
   "display_name": "Python 3",
   "language": "python",
   "name": "python3"
  },
  "language_info": {
   "codemirror_mode": {
    "name": "ipython",
    "version": 3
   },
   "file_extension": ".py",
   "mimetype": "text/x-python",
   "name": "python",
   "nbconvert_exporter": "python",
   "pygments_lexer": "ipython3",
   "version": "3.7.3"
  }
 },
 "nbformat": 4,
 "nbformat_minor": 2
}
