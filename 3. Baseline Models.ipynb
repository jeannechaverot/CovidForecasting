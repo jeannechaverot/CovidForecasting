{
 "cells": [
  {
   "cell_type": "code",
   "execution_count": 2,
   "metadata": {},
   "outputs": [],
   "source": [
    "import numpy as np\n",
    "import pandas as pd\n",
    "import matplotlib.pyplot as plt\n",
    "from matplotlib.pyplot import *\n",
    "from funcs import *"
   ]
  },
  {
   "cell_type": "code",
   "execution_count": 87,
   "metadata": {},
   "outputs": [],
   "source": [
    "#Number of infected for past two weeks\n",
    "X = pd.read_csv('data.csv').iloc[:,1:-2].values\n",
    "\n",
    "#Number of recovered\n",
    "y_recovered = pd.read_csv('data.csv').iloc[:,-1].values\n",
    "\n",
    "#Number of deaths\n",
    "y_deaths = pd.read_csv('data.csv').iloc[:,-2].values\n",
    "\n",
    "pct_90 = int(np.ceil(90*len(X)/100))\n",
    "pct_80 = int(np.ceil(80*len(X)/100))\n",
    "pct_70 = int(np.ceil(70*len(X)/100))\n",
    "pct_50 = int(np.ceil(50*len(X)/100))\n",
    "pct_40 = int(np.ceil(40*len(X)/100))\n",
    "\n"
   ]
  },
  {
   "cell_type": "code",
   "execution_count": 88,
   "metadata": {},
   "outputs": [],
   "source": [
    "y_deaths = y_deaths[:-1]\n",
    "X = X[:-1,:]\n"
   ]
  },
  {
   "cell_type": "code",
   "execution_count": 89,
   "metadata": {},
   "outputs": [
    {
     "data": {
      "text/plain": [
       "array([ 0.000e+00,  0.000e+00,  0.000e+00,  0.000e+00,  1.000e+00,\n",
       "        1.000e+00,  0.000e+00,  2.000e+00,  3.000e+00,  2.000e+00,\n",
       "        8.000e+00,  0.000e+00,  1.400e+01,  1.500e+01,  0.000e+00,\n",
       "        3.100e+01,  1.200e+01,  0.000e+00,  5.800e+01,  0.000e+00,\n",
       "        0.000e+00,  9.500e+01,  2.070e+02,  1.120e+02,  1.130e+02,\n",
       "        1.860e+02,  2.400e+02,  2.310e+02,  3.650e+02,  2.990e+02,\n",
       "        3.200e+02,  2.940e+02,  4.190e+02,  5.020e+02,  8.820e+02,\n",
       "        9.840e+02,  1.122e+03,  1.054e+03,  5.190e+02,  8.330e+02,\n",
       "        1.417e+03,  5.440e+02,  1.341e+03,  9.870e+02,  6.360e+02,\n",
       "        5.610e+02,  5.740e+02,  7.450e+02,  1.438e+03,  7.530e+02,\n",
       "        7.610e+02,  6.420e+02,  3.950e+02,  5.470e+02,  5.310e+02,\n",
       "        5.440e+02,  5.160e+02,  3.900e+02,  3.690e+02,  2.420e+02,\n",
       "        4.370e+02,  3.670e+02,  4.270e+02,  2.890e+02,  2.180e+02,\n",
       "        1.660e+02,  1.370e+02,  3.040e+02,  3.330e+02,  2.750e+02,\n",
       "        1.780e+02,  2.430e+02,  8.000e+01,  7.000e+01,  2.630e+02,\n",
       "        3.480e+02,  8.300e+01,  3.510e+02,  1.040e+02,  2.900e+02,\n",
       "        2.900e+02,  1.310e+02, -2.170e+02,  1.100e+02,  8.300e+01,\n",
       "        7.400e+01,  4.300e+01,  3.500e+01,  9.000e+01,  7.300e+01,\n",
       "        6.600e+01,  6.600e+01])"
      ]
     },
     "execution_count": 89,
     "metadata": {},
     "output_type": "execute_result"
    }
   ],
   "source": [
    "y_deaths"
   ]
  },
  {
   "cell_type": "code",
   "execution_count": 90,
   "metadata": {},
   "outputs": [],
   "source": [
    "pct = pct_80\n",
    "\n",
    "X_train, X_test = X[:pct], X[pct:]\n",
    "y_train, y_test =y_deaths[:pct], y_deaths[pct:]"
   ]
  },
  {
   "cell_type": "code",
   "execution_count": 91,
   "metadata": {},
   "outputs": [
    {
     "data": {
      "text/plain": [
       "array([ 348.,   83.,  351.,  104.,  290.,  290.,  131., -217.,  110.,\n",
       "         83.,   74.,   43.,   35.,   90.,   73.,   66.,   66.])"
      ]
     },
     "execution_count": 91,
     "metadata": {},
     "output_type": "execute_result"
    }
   ],
   "source": [
    "y_test"
   ]
  },
  {
   "cell_type": "markdown",
   "metadata": {},
   "source": [
    "# Smoothing"
   ]
  },
  {
   "cell_type": "code",
   "execution_count": 92,
   "metadata": {},
   "outputs": [
    {
     "data": {
      "text/plain": [
       "(0, 0.4788031739729356)"
      ]
     },
     "execution_count": 92,
     "metadata": {},
     "output_type": "execute_result"
    }
   ],
   "source": [
    "find_best_K(X, y_deaths, 'even', model='baseline')"
   ]
  },
  {
   "cell_type": "code",
   "execution_count": 93,
   "metadata": {},
   "outputs": [
    {
     "data": {
      "text/plain": [
       "(0, 0.4788031739729356)"
      ]
     },
     "execution_count": 93,
     "metadata": {},
     "output_type": "execute_result"
    }
   ],
   "source": [
    "find_best_K(X, y_deaths, 'odd', model='baseline')"
   ]
  },
  {
   "cell_type": "code",
   "execution_count": 94,
   "metadata": {},
   "outputs": [],
   "source": [
    "X = apply_smoothing(X, 0, 'odd')"
   ]
  },
  {
   "cell_type": "code",
   "execution_count": 95,
   "metadata": {},
   "outputs": [
    {
     "data": {
      "text/plain": [
       "3"
      ]
     },
     "execution_count": 95,
     "metadata": {},
     "output_type": "execute_result"
    }
   ],
   "source": [
    "k = find_optimum_k(X_train, X_test, y_train, y_test)[3][0]\n",
    "k"
   ]
  },
  {
   "cell_type": "code",
   "execution_count": 96,
   "metadata": {},
   "outputs": [],
   "source": [
    "y_pred = baseline_model_k(X_train, X_test, y_train, y_test, k)[1]"
   ]
  },
  {
   "cell_type": "code",
   "execution_count": 97,
   "metadata": {},
   "outputs": [
    {
     "data": {
      "text/plain": [
       "0.879566528821229"
      ]
     },
     "execution_count": 97,
     "metadata": {},
     "output_type": "execute_result"
    }
   ],
   "source": [
    "# best: 5, 7, \n",
    "mape(y_test, y_pred)"
   ]
  },
  {
   "cell_type": "code",
   "execution_count": 98,
   "metadata": {},
   "outputs": [
    {
     "data": {
      "text/plain": [
       "array([ 348.,   83.,  351.,  104.,  290.,  290.,  131., -217.,  110.,\n",
       "         83.,   74.,   43.,   35.,   90.,   73.,   66.,   66.])"
      ]
     },
     "execution_count": 98,
     "metadata": {},
     "output_type": "execute_result"
    }
   ],
   "source": [
    "y_test"
   ]
  },
  {
   "cell_type": "code",
   "execution_count": 99,
   "metadata": {},
   "outputs": [
    {
     "data": {
      "image/png": "[encoded data removed]",
      "text/plain": [
       "<Figure size 432x288 with 1 Axes>"
      ]
     },
     "metadata": {
      "needs_background": "light"
     },
     "output_type": "display_data"
    }
   ],
   "source": [
    "plot_baseline(X_train, X_test, y_train, y_test, y_deaths, k, pct, 'France')"
   ]
  },
  {
   "cell_type": "code",
   "execution_count": null,
   "metadata": {},
   "outputs": [],
   "source": []
  },
  {
   "cell_type": "code",
   "execution_count": null,
   "metadata": {},
   "outputs": [],
   "source": []
  }
 ],
 "metadata": {
  "kernelspec": {
   "display_name": "Python 3",
   "language": "python",
   "name": "python3"
  },
  "language_info": {
   "codemirror_mode": {
    "name": "ipython",
    "version": 3
   },
   "file_extension": ".py",
   "mimetype": "text/x-python",
   "name": "python",
   "nbconvert_exporter": "python",
   "pygments_lexer": "ipython3",
   "version": "3.7.3"
  }
 },
 "nbformat": 4,
 "nbformat_minor": 2
}
