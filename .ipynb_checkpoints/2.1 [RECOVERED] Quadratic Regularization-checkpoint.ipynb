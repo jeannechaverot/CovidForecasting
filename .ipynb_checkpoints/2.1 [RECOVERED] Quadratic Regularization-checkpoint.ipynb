{
 "cells": [
  {
   "cell_type": "code",
   "execution_count": 182,
   "metadata": {},
   "outputs": [],
   "source": [
    "import pandas as pd\n",
    "import numpy as np"
   ]
  },
  {
   "cell_type": "markdown",
   "metadata": {},
   "source": [
    "### Import data"
   ]
  },
  {
   "cell_type": "code",
   "execution_count": 335,
   "metadata": {},
   "outputs": [],
   "source": [
    "#Number of infected for past two weeks\n",
    "X = pd.read_csv('data.csv').iloc[:,1:-2].values\n",
    "\n",
    "#Number of recovered\n",
    "y = pd.read_csv('data.csv').iloc[:,-2].values\n",
    "\n",
    "#Number of recovered with transformation to smooth data\n",
    "y_smoothed = pd.read_csv('data.csv').iloc[:,-1].values"
   ]
  },
  {
   "cell_type": "markdown",
   "metadata": {},
   "source": [
    "#  Linear regression model"
   ]
  },
  {
   "cell_type": "code",
   "execution_count": 336,
   "metadata": {},
   "outputs": [],
   "source": [
    "import pandas as pd  \n",
    "import numpy as np  \n",
    "import matplotlib.pyplot as plt  \n",
    "import seaborn as seabornInstance \n",
    "from sklearn.model_selection import train_test_split \n",
    "from sklearn.linear_model import LinearRegression\n",
    "from sklearn import metrics\n",
    "%matplotlib inline"
   ]
  },
  {
   "cell_type": "code",
   "execution_count": 257,
   "metadata": {},
   "outputs": [],
   "source": [
    "# split into train and test sets\n",
    "\n",
    "pct_90 = int(np.ceil(90*len(X)/100))\n",
    "\n",
    "#predict las 10%\n",
    "\n",
    "y_train, y_test = y_smoothed[:pct_90], y_smoothed[pct_90:]\n",
    "X_train, X_test = X[:pct_90], X[pct_90:]"
   ]
  },
  {
   "cell_type": "code",
   "execution_count": 855,
   "metadata": {},
   "outputs": [
    {
     "data": {
      "text/plain": [
       "LinearRegression(copy_X=True, fit_intercept=True, n_jobs=None, normalize=True)"
      ]
     },
     "execution_count": 855,
     "metadata": {},
     "output_type": "execute_result"
    }
   ],
   "source": [
    "regressor = LinearRegression(normalize=True)  \n",
    "regressor.fit(X_train, y_train) #training the algorithm"
   ]
  },
  {
   "cell_type": "code",
   "execution_count": 856,
   "metadata": {},
   "outputs": [],
   "source": [
    "y_pred = regressor.predict(X_test)\n"
   ]
  },
  {
   "cell_type": "code",
   "execution_count": 857,
   "metadata": {},
   "outputs": [
    {
     "data": {
      "text/html": [
       "<div>\n",
       "<style scoped>\n",
       "    .dataframe tbody tr th:only-of-type {\n",
       "        vertical-align: middle;\n",
       "    }\n",
       "\n",
       "    .dataframe tbody tr th {\n",
       "        vertical-align: top;\n",
       "    }\n",
       "\n",
       "    .dataframe thead th {\n",
       "        text-align: right;\n",
       "    }\n",
       "</style>\n",
       "<table border=\"1\" class=\"dataframe\">\n",
       "  <thead>\n",
       "    <tr style=\"text-align: right;\">\n",
       "      <th></th>\n",
       "      <th>Actual</th>\n",
       "      <th>Predicted</th>\n",
       "    </tr>\n",
       "  </thead>\n",
       "  <tbody>\n",
       "    <tr>\n",
       "      <th>0</th>\n",
       "      <td>300.0</td>\n",
       "      <td>812.546456</td>\n",
       "    </tr>\n",
       "    <tr>\n",
       "      <th>1</th>\n",
       "      <td>500.0</td>\n",
       "      <td>20.550017</td>\n",
       "    </tr>\n",
       "    <tr>\n",
       "      <th>2</th>\n",
       "      <td>400.0</td>\n",
       "      <td>317.369969</td>\n",
       "    </tr>\n",
       "    <tr>\n",
       "      <th>3</th>\n",
       "      <td>400.0</td>\n",
       "      <td>479.466686</td>\n",
       "    </tr>\n",
       "    <tr>\n",
       "      <th>4</th>\n",
       "      <td>400.0</td>\n",
       "      <td>277.370949</td>\n",
       "    </tr>\n",
       "    <tr>\n",
       "      <th>5</th>\n",
       "      <td>400.0</td>\n",
       "      <td>648.836375</td>\n",
       "    </tr>\n",
       "  </tbody>\n",
       "</table>\n",
       "</div>"
      ],
      "text/plain": [
       "   Actual   Predicted\n",
       "0   300.0  812.546456\n",
       "1   500.0   20.550017\n",
       "2   400.0  317.369969\n",
       "3   400.0  479.466686\n",
       "4   400.0  277.370949\n",
       "5   400.0  648.836375"
      ]
     },
     "execution_count": 857,
     "metadata": {},
     "output_type": "execute_result"
    }
   ],
   "source": [
    "df = pd.DataFrame({'Actual': y_test.flatten(), 'Predicted': y_pred.flatten()})\n",
    "df"
   ]
  },
  {
   "cell_type": "code",
   "execution_count": 858,
   "metadata": {},
   "outputs": [
    {
     "name": "stdout",
     "output_type": "stream",
     "text": [
      "Mean Absolute Error: 254.26\n",
      "Mean Squared Error: 97112.71\n",
      "Root Mean Squared Error: 311.63\n"
     ]
    }
   ],
   "source": [
    "print('Mean Absolute Error:',  \"%.2f\" % (metrics.mean_absolute_error(y_test, y_pred),))  \n",
    "print('Mean Squared Error:', \"%.2f\" % (metrics.mean_squared_error(y_test, y_pred),) )  \n",
    "print('Root Mean Squared Error:', \"%.2f\" % (np.sqrt(metrics.mean_squared_error(y_test, y_pred),)))"
   ]
  },
  {
   "cell_type": "code",
   "execution_count": 859,
   "metadata": {},
   "outputs": [
    {
     "data": {
      "text/plain": [
       "array([ 0.06986268, -0.08369076, -0.06956719,  0.08705796,  0.22234065,\n",
       "       -0.10884554,  0.03023897,  0.1078159 , -0.19794925,  0.04850429,\n",
       "       -0.23710497,  0.07930176, -0.03724605,  0.35571477, -0.2068654 ])"
      ]
     },
     "execution_count": 859,
     "metadata": {},
     "output_type": "execute_result"
    }
   ],
   "source": [
    "regressor.coef_"
   ]
  },
  {
   "cell_type": "code",
   "execution_count": 860,
   "metadata": {},
   "outputs": [
    {
     "name": "stdout",
     "output_type": "stream",
     "text": [
      "R^2 Score:  -28.134\n"
     ]
    }
   ],
   "source": [
    "print(\"R^2 Score: \",\"%.3f\" % (regressor.score(X_test, y_test),) )"
   ]
  },
  {
   "cell_type": "code",
   "execution_count": 861,
   "metadata": {},
   "outputs": [
    {
     "data": {
      "text/html": [
       "<div>\n",
       "<style scoped>\n",
       "    .dataframe tbody tr th:only-of-type {\n",
       "        vertical-align: middle;\n",
       "    }\n",
       "\n",
       "    .dataframe tbody tr th {\n",
       "        vertical-align: top;\n",
       "    }\n",
       "\n",
       "    .dataframe thead th {\n",
       "        text-align: right;\n",
       "    }\n",
       "</style>\n",
       "<table border=\"1\" class=\"dataframe\">\n",
       "  <thead>\n",
       "    <tr style=\"text-align: right;\">\n",
       "      <th></th>\n",
       "      <th>Coefficient</th>\n",
       "    </tr>\n",
       "  </thead>\n",
       "  <tbody>\n",
       "    <tr>\n",
       "      <th>Infected cases t-7</th>\n",
       "      <td>0.069863</td>\n",
       "    </tr>\n",
       "    <tr>\n",
       "      <th>Infected cases t-8</th>\n",
       "      <td>-0.083691</td>\n",
       "    </tr>\n",
       "    <tr>\n",
       "      <th>Infected cases t-9</th>\n",
       "      <td>-0.069567</td>\n",
       "    </tr>\n",
       "    <tr>\n",
       "      <th>Infected cases t-10</th>\n",
       "      <td>0.087058</td>\n",
       "    </tr>\n",
       "    <tr>\n",
       "      <th>Infected cases t-11</th>\n",
       "      <td>0.222341</td>\n",
       "    </tr>\n",
       "    <tr>\n",
       "      <th>Infected cases t-12</th>\n",
       "      <td>-0.108846</td>\n",
       "    </tr>\n",
       "    <tr>\n",
       "      <th>Infected cases t-13</th>\n",
       "      <td>0.030239</td>\n",
       "    </tr>\n",
       "    <tr>\n",
       "      <th>Infected cases t-14</th>\n",
       "      <td>0.107816</td>\n",
       "    </tr>\n",
       "    <tr>\n",
       "      <th>Infected cases t-15</th>\n",
       "      <td>-0.197949</td>\n",
       "    </tr>\n",
       "    <tr>\n",
       "      <th>Infected cases t-16</th>\n",
       "      <td>0.048504</td>\n",
       "    </tr>\n",
       "    <tr>\n",
       "      <th>Infected cases t-17</th>\n",
       "      <td>-0.237105</td>\n",
       "    </tr>\n",
       "    <tr>\n",
       "      <th>Infected cases t-18</th>\n",
       "      <td>0.079302</td>\n",
       "    </tr>\n",
       "    <tr>\n",
       "      <th>Infected cases t-19</th>\n",
       "      <td>-0.037246</td>\n",
       "    </tr>\n",
       "    <tr>\n",
       "      <th>Infected cases t-20</th>\n",
       "      <td>0.355715</td>\n",
       "    </tr>\n",
       "    <tr>\n",
       "      <th>Infected cases t-21</th>\n",
       "      <td>-0.206865</td>\n",
       "    </tr>\n",
       "  </tbody>\n",
       "</table>\n",
       "</div>"
      ],
      "text/plain": [
       "                     Coefficient\n",
       "Infected cases t-7      0.069863\n",
       "Infected cases t-8     -0.083691\n",
       "Infected cases t-9     -0.069567\n",
       "Infected cases t-10     0.087058\n",
       "Infected cases t-11     0.222341\n",
       "Infected cases t-12    -0.108846\n",
       "Infected cases t-13     0.030239\n",
       "Infected cases t-14     0.107816\n",
       "Infected cases t-15    -0.197949\n",
       "Infected cases t-16     0.048504\n",
       "Infected cases t-17    -0.237105\n",
       "Infected cases t-18     0.079302\n",
       "Infected cases t-19    -0.037246\n",
       "Infected cases t-20     0.355715\n",
       "Infected cases t-21    -0.206865"
      ]
     },
     "execution_count": 861,
     "metadata": {},
     "output_type": "execute_result"
    }
   ],
   "source": [
    "coeff_df = pd.DataFrame(regressor.coef_, dataframe.iloc[:,1:].columns, columns=['Coefficient'])  \n",
    "coeff_df"
   ]
  },
  {
   "cell_type": "markdown",
   "metadata": {},
   "source": [
    "### Plot coefficients (distribution of gamma)"
   ]
  },
  {
   "cell_type": "code",
   "execution_count": 862,
   "metadata": {},
   "outputs": [
    {
     "name": "stderr",
     "output_type": "stream",
     "text": [
      "/usr/local/anaconda3/lib/python3.7/site-packages/scipy/stats/stats.py:1713: FutureWarning: Using a non-tuple sequence for multidimensional indexing is deprecated; use `arr[tuple(seq)]` instead of `arr[seq]`. In the future this will be interpreted as an array index, `arr[np.array(seq)]`, which will result either in an error or a different result.\n",
      "  return np.add.reduce(sorted[indexer] * weights, axis=axis) / sumval\n"
     ]
    },
    {
     "data": {
      "text/plain": [
       "<matplotlib.axes._subplots.AxesSubplot at 0x1a35e80a20>"
      ]
     },
     "execution_count": 862,
     "metadata": {},
     "output_type": "execute_result"
    },
    {
     "data": {
      "image/png": "[encoded data removed]",
      "text/plain": [
       "<Figure size 1080x720 with 1 Axes>"
      ]
     },
     "metadata": {
      "needs_background": "light"
     },
     "output_type": "display_data"
    }
   ],
   "source": [
    "plt.figure(figsize=(15,10))\n",
    "plt.tight_layout()\n",
    "seabornInstance.distplot(coeff_df, fit=norm)"
   ]
  },
  {
   "cell_type": "markdown",
   "metadata": {},
   "source": [
    "**Update this**"
   ]
  },
  {
   "cell_type": "markdown",
   "metadata": {},
   "source": [
    "For a unit increase in the number of recovered individuals at time t, that means there is:\n",
    "- An increase of 21 infected at day t-20\n",
    "- A decrease of 13 infected at day t-18\n",
    "\n",
    "We see that the closer we are to the recovery date, the lower the number of infected cases has an impact on the number od recovered cases "
   ]
  },
  {
   "cell_type": "markdown",
   "metadata": {},
   "source": [
    "### Plot Actual values (y test) versus predicted values"
   ]
  },
  {
   "cell_type": "code",
   "execution_count": 863,
   "metadata": {},
   "outputs": [
    {
     "data": {
      "image/png": "[encoded data removed]",
      "text/plain": [
       "<Figure size 720x576 with 1 Axes>"
      ]
     },
     "metadata": {
      "needs_background": "light"
     },
     "output_type": "display_data"
    }
   ],
   "source": [
    "df.plot(kind='bar',figsize=(10,8))\n",
    "plt.grid(which='major', linestyle='-', linewidth='0.5', color='green')\n",
    "plt.grid(which='minor', linestyle=':', linewidth='0.5', color='black')\n",
    "plt.show()"
   ]
  },
  {
   "cell_type": "markdown",
   "metadata": {},
   "source": [
    "There are many factors that may have contributed to this inaccuracy, for example :\n",
    "\n",
    "- **Need more data**: We need to have a huge amount of data to get the best possible prediction.\n",
    "- **Bad assumptions**: We made the assumption that this data has a linear relationship, but that might not be the case. Visualizing the data may help us determine that.\n",
    "- **Poor features**: The features we used may not have had a high enough correlation to the values we were trying to predict."
   ]
  },
  {
   "cell_type": "markdown",
   "metadata": {},
   "source": [
    "#  ridge regression (L2)"
   ]
  },
  {
   "cell_type": "code",
   "execution_count": 864,
   "metadata": {},
   "outputs": [],
   "source": [
    "from sklearn.linear_model import Ridge\n",
    "from sklearn import linear_model\n",
    "import numpy as np\n",
    "from sklearn.linear_model import RidgeCV\n",
    "from sklearn.preprocessing import StandardScaler\n",
    "import matplotlib.pyplot as plt\n",
    "\n",
    "rng = np.random.RandomState(0)\n"
   ]
  },
  {
   "cell_type": "code",
   "execution_count": 870,
   "metadata": {},
   "outputs": [],
   "source": [
    "#y = dataframe_new['Recovered cases'].values\n",
    "#X = dataframe_new.iloc[:,1:].values\n",
    "\n",
    "#X_train, X_test, y_train, y_test = train_test_split(X, y, test_size=0.2, random_state=1)\n",
    "\n",
    "# split into train and test sets\n",
    "\n",
    "pct_90 = int(np.ceil(90*len(X)/100))\n",
    "\n",
    "#predict las 10%\n",
    "\n",
    "y_train, y_test = y_smoothed[:pct_90], y_smoothed[pct_90:]\n",
    "X_train, X_test = X[:pct_90], X[pct_90:]"
   ]
  },
  {
   "cell_type": "code",
   "execution_count": 871,
   "metadata": {},
   "outputs": [],
   "source": [
    "# Create ridge regression with three possible alpha values\n",
    "\n",
    "clf = Ridge(alpha=1, normalize=True)\n",
    "# Fit the linear regression\n",
    "model = clf.fit(X_train, y_train)\n",
    "\n",
    "#y_pred = clf.predict(X_test)\n",
    "y_pred = clf.predict(X_test)"
   ]
  },
  {
   "cell_type": "code",
   "execution_count": 872,
   "metadata": {},
   "outputs": [
    {
     "data": {
      "text/plain": [
       "-5.07400038272124"
      ]
     },
     "execution_count": 872,
     "metadata": {},
     "output_type": "execute_result"
    }
   ],
   "source": [
    "clf.score(X_test, y_test)"
   ]
  },
  {
   "cell_type": "code",
   "execution_count": 873,
   "metadata": {},
   "outputs": [
    {
     "name": "stdout",
     "output_type": "stream",
     "text": [
      "Mean Absolute Error: 119.12947825161866\n",
      "Mean Squared Error: 20246.667942404132\n",
      "Root Mean Squared Error: 142.2907865689277\n"
     ]
    }
   ],
   "source": [
    "print('Mean Absolute Error:', metrics.mean_absolute_error(y_test, y_pred))  \n",
    "print('Mean Squared Error:', metrics.mean_squared_error(y_test, y_pred))  \n",
    "print('Root Mean Squared Error:', np.sqrt(metrics.mean_squared_error(y_test, y_pred)))"
   ]
  },
  {
   "cell_type": "code",
   "execution_count": 874,
   "metadata": {},
   "outputs": [
    {
     "data": {
      "image/png": "[encoded data removed]",
      "text/plain": [
       "<Figure size 720x576 with 1 Axes>"
      ]
     },
     "metadata": {
      "needs_background": "light"
     },
     "output_type": "display_data"
    }
   ],
   "source": [
    "df = pd.DataFrame({'Actual': y_test.flatten(), 'Predicted': y_pred.flatten()})\n",
    "df.plot(kind='bar',figsize=(10,8))\n",
    "plt.grid(which='major', linestyle='-', linewidth='0.5', color='green')\n",
    "plt.grid(which='minor', linestyle=':', linewidth='0.5', color='black')\n",
    "plt.show()"
   ]
  },
  {
   "cell_type": "markdown",
   "metadata": {},
   "source": [
    "#  Lasso Regression (L1)"
   ]
  },
  {
   "cell_type": "code",
   "execution_count": 878,
   "metadata": {},
   "outputs": [
    {
     "name": "stderr",
     "output_type": "stream",
     "text": [
      "/usr/local/anaconda3/lib/python3.7/site-packages/sklearn/linear_model/coordinate_descent.py:492: ConvergenceWarning: Objective did not converge. You might want to increase the number of iterations. Fitting data with very small alpha may cause precision problems.\n",
      "  ConvergenceWarning)\n"
     ]
    }
   ],
   "source": [
    "#y = dataframe_new['Recovered cases'].values\n",
    "#X = dataframe_new.iloc[:,1:].values\n",
    "\n",
    "#X_train, X_test, y_train, y_test = train_test_split(X, y, test_size=0.2, random_state=1)\n",
    "\n",
    "# split into train and test sets\n",
    "\n",
    "pct_90 = int(np.ceil(90*len(X)/100))\n",
    "\n",
    "#predict las 10%\n",
    "\n",
    "y_train, y_test = y_smoothed[:pct_90], y_smoothed[pct_90:]\n",
    "X_train, X_test = X[:pct_90], X[pct_90:]\n",
    "\n",
    "clf = linear_model.Lasso(alpha=0.1)\n",
    "\n",
    "clf.fit(X_train, y_train)\n",
    "\n",
    "y_pred = clf.predict(X_test)"
   ]
  },
  {
   "cell_type": "code",
   "execution_count": 879,
   "metadata": {},
   "outputs": [
    {
     "data": {
      "image/png": "[encoded data removed]",
      "text/plain": [
       "<Figure size 720x576 with 1 Axes>"
      ]
     },
     "metadata": {
      "needs_background": "light"
     },
     "output_type": "display_data"
    }
   ],
   "source": [
    "df = pd.DataFrame({'Actual': y_test.flatten(), 'Predicted': y_pred.flatten()})\n",
    "df.plot(kind='bar',figsize=(10,8))\n",
    "plt.grid(which='major', linestyle='-', linewidth='0.5', color='green')\n",
    "plt.grid(which='minor', linestyle=':', linewidth='0.5', color='black')\n",
    "plt.show()\n"
   ]
  },
  {
   "cell_type": "code",
   "execution_count": 880,
   "metadata": {},
   "outputs": [
    {
     "data": {
      "text/plain": [
       "-11.000571196195937"
      ]
     },
     "execution_count": 880,
     "metadata": {},
     "output_type": "execute_result"
    }
   ],
   "source": [
    "clf.score(X_test, y_test)"
   ]
  },
  {
   "cell_type": "markdown",
   "metadata": {},
   "source": [
    "# Linear Elastic Net regression \n",
    "(Linear regression with combined L1 and L2 priors as regularizer)"
   ]
  },
  {
   "cell_type": "markdown",
   "metadata": {},
   "source": [
    "The elastic net method overcomes the limitations of the LASSO (least absolute shrinkage and selection operator) method which uses a penalty function based on\n",
    "\n",
    "$$||\\beta||_1=\\sum_{j=1}^p{|\\beta_j|}$$\n",
    "\n",
    "The parameters for the elastic net method are defined by\n",
    "\n",
    "$$\\hat{\\beta}\\equiv \\text{argmin}_{\\beta}(||y-X\\beta||^2+\\lambda_2||\\beta||^2+\\lambda_1||\\beta||_1)$$\n",
    "\n",
    "In our case here, $\\lambda_1=\\lambda_2=\\alpha$"
   ]
  },
  {
   "cell_type": "code",
   "execution_count": 886,
   "metadata": {},
   "outputs": [
    {
     "name": "stderr",
     "output_type": "stream",
     "text": [
      "/usr/local/anaconda3/lib/python3.7/site-packages/sklearn/linear_model/coordinate_descent.py:492: ConvergenceWarning: Objective did not converge. You might want to increase the number of iterations. Fitting data with very small alpha may cause precision problems.\n",
      "  ConvergenceWarning)\n"
     ]
    }
   ],
   "source": [
    "y = dataframe_new['Recovered Daily'].values\n",
    "X = dataframe_new.iloc[:,1:].values\n",
    "\n",
    "#-----#\n",
    "\n",
    "#X_train, X_test, y_train, y_test = train_test_split(X, y, test_size=0.2, random_state=1)\n",
    "\n",
    "# split into train and test sets\n",
    "\n",
    "pct_90 = int(np.ceil(90*len(X)/100))\n",
    "\n",
    "#predict las 10%\n",
    "\n",
    "X_train, X_test = X[:pct_90], X[pct_90:]\n",
    "y_train, y_test =y_smoothed[:pct_90], y_smoothed[pct_90:]\n",
    "\n",
    "\n",
    "#-----#\n",
    "\n",
    "clf = linear_model.ElasticNet(alpha=0.1)\n",
    "\n",
    "clf.fit(X_train, y_train)\n",
    "\n",
    "y_pred = clf.predict(X_test)"
   ]
  },
  {
   "cell_type": "code",
   "execution_count": 887,
   "metadata": {},
   "outputs": [],
   "source": [
    "import scipy"
   ]
  },
  {
   "cell_type": "code",
   "execution_count": 888,
   "metadata": {},
   "outputs": [
    {
     "data": {
      "text/html": [
       "<div>\n",
       "<style scoped>\n",
       "    .dataframe tbody tr th:only-of-type {\n",
       "        vertical-align: middle;\n",
       "    }\n",
       "\n",
       "    .dataframe tbody tr th {\n",
       "        vertical-align: top;\n",
       "    }\n",
       "\n",
       "    .dataframe thead th {\n",
       "        text-align: right;\n",
       "    }\n",
       "</style>\n",
       "<table border=\"1\" class=\"dataframe\">\n",
       "  <thead>\n",
       "    <tr style=\"text-align: right;\">\n",
       "      <th></th>\n",
       "      <th>Actual</th>\n",
       "      <th>Predicted</th>\n",
       "    </tr>\n",
       "  </thead>\n",
       "  <tbody>\n",
       "    <tr>\n",
       "      <th>0</th>\n",
       "      <td>300.0</td>\n",
       "      <td>596.903667</td>\n",
       "    </tr>\n",
       "    <tr>\n",
       "      <th>1</th>\n",
       "      <td>500.0</td>\n",
       "      <td>181.533162</td>\n",
       "    </tr>\n",
       "    <tr>\n",
       "      <th>2</th>\n",
       "      <td>400.0</td>\n",
       "      <td>305.561414</td>\n",
       "    </tr>\n",
       "    <tr>\n",
       "      <th>3</th>\n",
       "      <td>400.0</td>\n",
       "      <td>459.528520</td>\n",
       "    </tr>\n",
       "    <tr>\n",
       "      <th>4</th>\n",
       "      <td>400.0</td>\n",
       "      <td>342.322129</td>\n",
       "    </tr>\n",
       "    <tr>\n",
       "      <th>5</th>\n",
       "      <td>400.0</td>\n",
       "      <td>586.150335</td>\n",
       "    </tr>\n",
       "  </tbody>\n",
       "</table>\n",
       "</div>"
      ],
      "text/plain": [
       "   Actual   Predicted\n",
       "0   300.0  596.903667\n",
       "1   500.0  181.533162\n",
       "2   400.0  305.561414\n",
       "3   400.0  459.528520\n",
       "4   400.0  342.322129\n",
       "5   400.0  586.150335"
      ]
     },
     "execution_count": 888,
     "metadata": {},
     "output_type": "execute_result"
    }
   ],
   "source": [
    "df = pd.DataFrame({'Actual': y_test.flatten(), 'Predicted': y_pred.flatten()})\n",
    "df\n"
   ]
  },
  {
   "cell_type": "code",
   "execution_count": 890,
   "metadata": {},
   "outputs": [
    {
     "name": "stdout",
     "output_type": "stream",
     "text": [
      "Mean Absolute Error: 168.86096946147723\n",
      "Mean Squared Error: 40002.31492155245\n",
      "Root Mean Squared Error: 200.00578722015135\n"
     ]
    }
   ],
   "source": [
    "print('Mean Absolute Error:', metrics.mean_absolute_error(y_test, y_pred))  \n",
    "print('Mean Squared Error:', metrics.mean_squared_error(y_test, y_pred))  \n",
    "print('Root Mean Squared Error:', np.sqrt(metrics.mean_squared_error(y_test, y_pred)))"
   ]
  },
  {
   "cell_type": "code",
   "execution_count": 891,
   "metadata": {},
   "outputs": [
    {
     "data": {
      "text/html": [
       "<div>\n",
       "<style scoped>\n",
       "    .dataframe tbody tr th:only-of-type {\n",
       "        vertical-align: middle;\n",
       "    }\n",
       "\n",
       "    .dataframe tbody tr th {\n",
       "        vertical-align: top;\n",
       "    }\n",
       "\n",
       "    .dataframe thead th {\n",
       "        text-align: right;\n",
       "    }\n",
       "</style>\n",
       "<table border=\"1\" class=\"dataframe\">\n",
       "  <thead>\n",
       "    <tr style=\"text-align: right;\">\n",
       "      <th></th>\n",
       "      <th>Coefficient</th>\n",
       "    </tr>\n",
       "  </thead>\n",
       "  <tbody>\n",
       "    <tr>\n",
       "      <th>Infected cases t-7</th>\n",
       "      <td>0.069863</td>\n",
       "    </tr>\n",
       "    <tr>\n",
       "      <th>Infected cases t-8</th>\n",
       "      <td>-0.083691</td>\n",
       "    </tr>\n",
       "    <tr>\n",
       "      <th>Infected cases t-9</th>\n",
       "      <td>-0.069567</td>\n",
       "    </tr>\n",
       "    <tr>\n",
       "      <th>Infected cases t-10</th>\n",
       "      <td>0.087058</td>\n",
       "    </tr>\n",
       "    <tr>\n",
       "      <th>Infected cases t-11</th>\n",
       "      <td>0.222341</td>\n",
       "    </tr>\n",
       "    <tr>\n",
       "      <th>Infected cases t-12</th>\n",
       "      <td>-0.108846</td>\n",
       "    </tr>\n",
       "    <tr>\n",
       "      <th>Infected cases t-13</th>\n",
       "      <td>0.030239</td>\n",
       "    </tr>\n",
       "    <tr>\n",
       "      <th>Infected cases t-14</th>\n",
       "      <td>0.107816</td>\n",
       "    </tr>\n",
       "    <tr>\n",
       "      <th>Infected cases t-15</th>\n",
       "      <td>-0.197949</td>\n",
       "    </tr>\n",
       "    <tr>\n",
       "      <th>Infected cases t-16</th>\n",
       "      <td>0.048504</td>\n",
       "    </tr>\n",
       "    <tr>\n",
       "      <th>Infected cases t-17</th>\n",
       "      <td>-0.237105</td>\n",
       "    </tr>\n",
       "    <tr>\n",
       "      <th>Infected cases t-18</th>\n",
       "      <td>0.079302</td>\n",
       "    </tr>\n",
       "    <tr>\n",
       "      <th>Infected cases t-19</th>\n",
       "      <td>-0.037246</td>\n",
       "    </tr>\n",
       "    <tr>\n",
       "      <th>Infected cases t-20</th>\n",
       "      <td>0.355715</td>\n",
       "    </tr>\n",
       "    <tr>\n",
       "      <th>Infected cases t-21</th>\n",
       "      <td>-0.206865</td>\n",
       "    </tr>\n",
       "  </tbody>\n",
       "</table>\n",
       "</div>"
      ],
      "text/plain": [
       "                     Coefficient\n",
       "Infected cases t-7      0.069863\n",
       "Infected cases t-8     -0.083691\n",
       "Infected cases t-9     -0.069567\n",
       "Infected cases t-10     0.087058\n",
       "Infected cases t-11     0.222341\n",
       "Infected cases t-12    -0.108846\n",
       "Infected cases t-13     0.030239\n",
       "Infected cases t-14     0.107816\n",
       "Infected cases t-15    -0.197949\n",
       "Infected cases t-16     0.048504\n",
       "Infected cases t-17    -0.237105\n",
       "Infected cases t-18     0.079302\n",
       "Infected cases t-19    -0.037246\n",
       "Infected cases t-20     0.355715\n",
       "Infected cases t-21    -0.206865"
      ]
     },
     "execution_count": 891,
     "metadata": {},
     "output_type": "execute_result"
    }
   ],
   "source": [
    "coeff_df = pd.DataFrame(regressor.coef_, dataframe.iloc[:,1:].columns, columns=['Coefficient'])  \n",
    "coeff_df"
   ]
  },
  {
   "cell_type": "code",
   "execution_count": 892,
   "metadata": {},
   "outputs": [
    {
     "data": {
      "image/png": "[encoded data removed]",
      "text/plain": [
       "<Figure size 720x576 with 1 Axes>"
      ]
     },
     "metadata": {
      "needs_background": "light"
     },
     "output_type": "display_data"
    }
   ],
   "source": [
    "df.plot(kind='bar',figsize=(10,8))\n",
    "plt.grid(which='major', linestyle='-', linewidth='0.5', color='green')\n",
    "plt.grid(which='minor', linestyle=':', linewidth='0.5', color='black')\n",
    "plt.show()"
   ]
  },
  {
   "cell_type": "markdown",
   "metadata": {},
   "source": [
    "## Laplacian"
   ]
  },
  {
   "cell_type": "code",
   "execution_count": 902,
   "metadata": {},
   "outputs": [],
   "source": [
    "y = dataframe_new['Recovered Daily'].values\n",
    "X = dataframe_new.iloc[:,1:].values\n",
    "\n",
    "#-----#\n",
    "\n",
    "#X_train, X_test, y_train, y_test = train_test_split(X, y, test_size=0.2, random_state=1)\n",
    "\n",
    "# split into train and test sets\n",
    "\n",
    "pct_90 = int(np.ceil(90*len(X)/100))\n",
    "\n",
    "#predict las 10%\n",
    "\n",
    "X_train, X_test = X[:pct_90], X[pct_90:]\n",
    "y_train, y_test =y_smoothed[:pct_90], y_smoothed[pct_90:]\n",
    "\n"
   ]
  },
  {
   "cell_type": "code",
   "execution_count": 903,
   "metadata": {},
   "outputs": [
    {
     "data": {
      "text/plain": [
       "(58, 15)"
      ]
     },
     "execution_count": 903,
     "metadata": {},
     "output_type": "execute_result"
    }
   ],
   "source": [
    "X_train.shape"
   ]
  },
  {
   "cell_type": "markdown",
   "metadata": {},
   "source": [
    "### Laplacian Regression using optimize.minimize"
   ]
  },
  {
   "cell_type": "code",
   "execution_count": 905,
   "metadata": {},
   "outputs": [],
   "source": [
    "import sys\n",
    "\n",
    "#X aas args, aergs only values we are looking forward optimizing\n",
    "\n",
    "N = 15\n",
    "pct_90 = int(np.ceil(90*len(X)/100))\n",
    "\n",
    "\n",
    "X_train, X_test = X[:pct_90], X[pct_90:]\n",
    "y_train, y_test =y_smoothed[:pct_90], y_smoothed[pct_90:]\n",
    "\n",
    "def func(x):\n",
    "    \n",
    "    gamma = np.array(x[:N])\n",
    "    \n",
    "    M_values = x[N:]\n",
    "    \n",
    "    M = M_values.reshape(N,N)\n",
    "        \n",
    "    X = X_train @ M\n",
    "    \n",
    "    # If we decide to apply the basic ridge loss, that is minimize |y - XMG|^2 +0.1*|G|**2\n",
    "    \n",
    "    to_min = np.linalg.norm(y_train - X_train @ M @ gamma)**2 + 0.1 * np.linalg.norm(gamma)**2\n",
    "    #pred_train_rr= rr.predict(X_train)\n",
    "    \n",
    "    # If we decide to minimize the sum of gamma squared\n",
    "    \n",
    "    to_min2 = np.sum(gamma**2)\n",
    "    \n",
    "    fail = sys.maxsize * 2 + 1\n",
    "    \n",
    "    if np.sum(gamma>0) == len(gamma):\n",
    "        return to_min2\n",
    "    else:\n",
    "        return fail\n",
    "\n",
    "length = N + N**2"
   ]
  },
  {
   "cell_type": "code",
   "execution_count": 906,
   "metadata": {},
   "outputs": [],
   "source": [
    "lap_slsqp = scipy.optimize.minimize(func,np.random.rand(1, length), method='SLSQP')\n",
    "\n",
    "gamma = lap_slsqp['x'][:N]\n",
    "M = lap_slsqp['x'][N:].reshape(N,N)"
   ]
  },
  {
   "cell_type": "code",
   "execution_count": 907,
   "metadata": {},
   "outputs": [],
   "source": [
    "\n",
    "clf = linear_model.Ridge(alpha=1.0)\n",
    "\n",
    "clf.fit(X_train @ M, y_train)\n",
    "\n",
    "#clf.coef_ = gamma\n",
    "\n",
    "y_pred = clf.predict(X_test @ M)"
   ]
  },
  {
   "cell_type": "code",
   "execution_count": 908,
   "metadata": {},
   "outputs": [
    {
     "data": {
      "text/html": [
       "<div>\n",
       "<style scoped>\n",
       "    .dataframe tbody tr th:only-of-type {\n",
       "        vertical-align: middle;\n",
       "    }\n",
       "\n",
       "    .dataframe tbody tr th {\n",
       "        vertical-align: top;\n",
       "    }\n",
       "\n",
       "    .dataframe thead th {\n",
       "        text-align: right;\n",
       "    }\n",
       "</style>\n",
       "<table border=\"1\" class=\"dataframe\">\n",
       "  <thead>\n",
       "    <tr style=\"text-align: right;\">\n",
       "      <th></th>\n",
       "      <th>Actual</th>\n",
       "      <th>Predicted</th>\n",
       "    </tr>\n",
       "  </thead>\n",
       "  <tbody>\n",
       "    <tr>\n",
       "      <th>0</th>\n",
       "      <td>300.0</td>\n",
       "      <td>811.981413</td>\n",
       "    </tr>\n",
       "    <tr>\n",
       "      <th>1</th>\n",
       "      <td>500.0</td>\n",
       "      <td>20.862761</td>\n",
       "    </tr>\n",
       "    <tr>\n",
       "      <th>2</th>\n",
       "      <td>400.0</td>\n",
       "      <td>317.332944</td>\n",
       "    </tr>\n",
       "    <tr>\n",
       "      <th>3</th>\n",
       "      <td>400.0</td>\n",
       "      <td>479.157475</td>\n",
       "    </tr>\n",
       "    <tr>\n",
       "      <th>4</th>\n",
       "      <td>400.0</td>\n",
       "      <td>277.586414</td>\n",
       "    </tr>\n",
       "    <tr>\n",
       "      <th>5</th>\n",
       "      <td>400.0</td>\n",
       "      <td>648.884126</td>\n",
       "    </tr>\n",
       "  </tbody>\n",
       "</table>\n",
       "</div>"
      ],
      "text/plain": [
       "   Actual   Predicted\n",
       "0   300.0  811.981413\n",
       "1   500.0   20.862761\n",
       "2   400.0  317.332944\n",
       "3   400.0  479.157475\n",
       "4   400.0  277.586414\n",
       "5   400.0  648.884126"
      ]
     },
     "execution_count": 908,
     "metadata": {},
     "output_type": "execute_result"
    }
   ],
   "source": [
    "df = pd.DataFrame({'Actual': y_test.flatten(), 'Predicted': y_pred.flatten()})\n",
    "df\n"
   ]
  },
  {
   "cell_type": "code",
   "execution_count": 909,
   "metadata": {},
   "outputs": [
    {
     "data": {
      "image/png": "[encoded data removed]",
      "text/plain": [
       "<Figure size 720x576 with 1 Axes>"
      ]
     },
     "metadata": {
      "needs_background": "light"
     },
     "output_type": "display_data"
    }
   ],
   "source": [
    "df.plot(kind='bar',figsize=(10,8))\n",
    "plt.grid(which='major', linestyle='-', linewidth='0.5', color='green')\n",
    "plt.grid(which='minor', linestyle=':', linewidth='0.5', color='black')\n",
    "plt.show()"
   ]
  },
  {
   "cell_type": "code",
   "execution_count": 910,
   "metadata": {},
   "outputs": [
    {
     "data": {
      "text/plain": [
       "array([-4.11364901,  4.86733676,  1.91516118,  2.75036159, -1.73591152,\n",
       "       -1.92142457,  0.52038967, -6.1068583 , -6.10737122,  1.28910902,\n",
       "        6.28632402, -0.34543035,  3.82757968, -0.64019933, -1.52107029])"
      ]
     },
     "execution_count": 910,
     "metadata": {},
     "output_type": "execute_result"
    }
   ],
   "source": [
    "clf.coef_"
   ]
  },
  {
   "cell_type": "code",
   "execution_count": 911,
   "metadata": {},
   "outputs": [
    {
     "name": "stdout",
     "output_type": "stream",
     "text": [
      "Mean Absolute Error: 254.04014919052133\n",
      "Mean Squared Error: 96954.26726466672\n",
      "Root Mean Squared Error: 311.374801910281\n"
     ]
    }
   ],
   "source": [
    "print('Mean Absolute Error:', metrics.mean_absolute_error(y_test, y_pred))  \n",
    "print('Mean Squared Error:', metrics.mean_squared_error(y_test, y_pred))  \n",
    "print('Root Mean Squared Error:', np.sqrt(metrics.mean_squared_error(y_test, y_pred)))"
   ]
  },
  {
   "cell_type": "code",
   "execution_count": 912,
   "metadata": {},
   "outputs": [
    {
     "data": {
      "text/plain": [
       "array([4.61888527e-04, 5.10860163e-04, 1.44166347e-04, 6.11053105e-07,\n",
       "       3.93588711e-04, 6.71198504e-04, 9.04532128e-05, 9.17835243e-04,\n",
       "       4.09146022e-04, 3.02044241e-04, 5.76905350e-04, 6.67320239e-04,\n",
       "       1.10572073e-04, 6.51196416e-05, 6.94558981e-04])"
      ]
     },
     "execution_count": 912,
     "metadata": {},
     "output_type": "execute_result"
    }
   ],
   "source": [
    "gamma"
   ]
  },
  {
   "cell_type": "markdown",
   "metadata": {},
   "source": [
    "## Quadratic Regularization"
   ]
  },
  {
   "cell_type": "code",
   "execution_count": 324,
   "metadata": {},
   "outputs": [],
   "source": [
    "nb_features = X.shape[1]\n",
    "\n",
    "N = X.shape[1]"
   ]
  },
  {
   "cell_type": "markdown",
   "metadata": {},
   "source": [
    "To do:\n",
    "- Create matrix M\n",
    "- Create matrix X (DONE)\n",
    "- Compute X^TX\n",
    "- Compute M^TM\n",
    "- Verify M^TM value, if it coincides with the one G.O. wrote in report\n",
    "- install library, define instances, run optimizer"
   ]
  },
  {
   "cell_type": "code",
   "execution_count": 337,
   "metadata": {},
   "outputs": [],
   "source": [
    "pct_90 = int(np.ceil(90*len(X)/100))\n",
    "pct_80 = int(np.ceil(80*len(X)/100))\n",
    "pct_70 = int(np.ceil(70*len(X)/100))\n",
    "\n",
    "X_train, X_test = X[:pct_80], X[pct_80:]\n",
    "y_train, y_test =y_smoothed[:pct_80], y_smoothed[pct_80:]\n"
   ]
  },
  {
   "cell_type": "code",
   "execution_count": 338,
   "metadata": {},
   "outputs": [
    {
     "name": "stdout",
     "output_type": "stream",
     "text": [
      "     pcost       dcost       gap    pres   dres\n",
      " 0: -7.7571e+06 -7.7571e+06  3e+01  6e+00  2e-09\n",
      " 1: -7.7571e+06 -7.7571e+06  9e+00  2e+00  6e-10\n",
      " 2: -7.7571e+06 -7.7571e+06  9e+00  2e+00  6e-10\n",
      " 3: -7.7038e+06 -7.7116e+06  1e+05  2e+00  6e-10\n",
      " 4: -7.6466e+06 -7.6770e+06  2e+05  2e+00  6e-10\n",
      " 5: -7.6600e+06 -7.6491e+06  5e+05  2e+00  6e-10\n",
      " 6: -7.6436e+06 -7.5914e+06  3e+05  8e-01  3e-10\n",
      " 7: -7.5967e+06 -7.4802e+06  4e+05  6e-01  2e-10\n",
      " 8: -7.5034e+06 -7.4349e+06  3e+05  3e-01  1e-10\n",
      " 9: -7.4854e+06 -7.3956e+06  1e+05  1e-01  4e-11\n",
      "10: -7.3882e+06 -7.3066e+06  6e+04  4e-02  1e-11\n",
      "11: -7.3346e+06 -7.2879e+06  3e+04  2e-02  6e-12\n",
      "12: -7.3060e+06 -7.2805e+06  2e+04  9e-03  3e-12\n",
      "13: -7.2907e+06 -7.2766e+06  1e+04  5e-03  1e-12\n",
      "14: -7.2908e+06 -7.2655e+06  1e+04  4e-03  1e-12\n",
      "15: -7.2830e+06 -7.2563e+06  2e+04  3e-03  1e-12\n",
      "16: -7.2729e+06 -7.2190e+06  2e+04  2e-03  8e-13\n",
      "17: -7.2365e+06 -7.2106e+06  2e+04  1e-03  4e-13\n",
      "18: -7.2103e+06 -7.2019e+06  5e+03  3e-04  9e-14\n",
      "19: -7.1997e+06 -7.1999e+06  2e+02  8e-18  2e-16\n",
      "20: -7.1998e+06 -7.1998e+06  2e+00  2e-17  1e-16\n",
      "Optimal solution found.\n",
      "     pcost       dcost       gap    pres   dres\n",
      " 0: -7.7571e+06 -7.7571e+06  3e+01  6e+00  4e-09\n",
      " 1: -7.7571e+06 -7.7571e+06  9e+00  2e+00  1e-09\n",
      " 2: -7.7571e+06 -7.7571e+06  9e+00  2e+00  1e-09\n",
      " 3: -7.7038e+06 -7.7116e+06  1e+05  2e+00  1e-09\n",
      " 4: -7.6466e+06 -7.6768e+06  2e+05  2e+00  1e-09\n",
      " 5: -7.6613e+06 -7.6453e+06  5e+05  2e+00  1e-09\n",
      " 6: -7.6475e+06 -7.5757e+06  3e+05  9e-01  7e-10\n",
      " 7: -7.5190e+06 -7.4742e+06  3e+05  4e-01  3e-10\n",
      " 8: -7.4801e+06 -7.4452e+06  1e+05  2e-01  1e-10\n",
      " 9: -7.4381e+06 -7.3716e+06  7e+04  7e-02  5e-11\n",
      "10: -7.4079e+06 -7.3435e+06  5e+04  4e-02  3e-11\n",
      "11: -7.3655e+06 -7.3093e+06  5e+04  2e-02  2e-11\n",
      "12: -7.3207e+06 -7.2930e+06  2e+04  9e-03  7e-12\n",
      "13: -7.3087e+06 -7.2891e+06  2e+04  6e-03  4e-12\n",
      "14: -7.3093e+06 -7.2694e+06  2e+04  5e-03  4e-12\n",
      "15: -7.2749e+06 -7.2180e+06  1e+04  2e-03  2e-12\n",
      "16: -7.2677e+06 -7.2113e+06  1e+04  2e-03  2e-12\n",
      "17: -7.2486e+06 -7.2060e+06  1e+04  1e-03  1e-12\n",
      "18: -7.2408e+06 -7.1945e+06  2e+04  1e-03  9e-13\n",
      "19: -7.2242e+06 -7.1932e+06  2e+04  9e-04  7e-13\n",
      "20: -7.2040e+06 -7.1879e+06  7e+03  3e-04  3e-13\n",
      "21: -7.1859e+06 -7.1886e+06  5e+03  4e-05  3e-14\n",
      "22: -7.1859e+06 -7.1874e+06  2e+03  1e-18  1e-16\n",
      "23: -7.1870e+06 -7.1870e+06  6e+01  1e-17  1e-16\n",
      "24: -7.1870e+06 -7.1870e+06  6e-01  2e-18  1e-16\n",
      "Optimal solution found.\n",
      "     pcost       dcost       gap    pres   dres\n",
      " 0: -7.7571e+06 -7.7571e+06  3e+01  6e+00  4e-09\n",
      " 1: -7.7571e+06 -7.7571e+06  9e+00  2e+00  1e-09\n",
      " 2: -7.7571e+06 -7.7571e+06  9e+00  2e+00  1e-09\n",
      " 3: -7.7038e+06 -7.7116e+06  1e+05  2e+00  1e-09\n",
      " 4: -7.6466e+06 -7.6769e+06  2e+05  2e+00  1e-09\n",
      " 5: -7.6608e+06 -7.6465e+06  5e+05  2e+00  1e-09\n",
      " 6: -7.6471e+06 -7.5848e+06  3e+05  9e-01  7e-10\n",
      " 7: -7.4899e+06 -7.4987e+06  3e+05  4e-01  3e-10\n",
      " 8: -7.4859e+06 -7.4730e+06  1e+05  1e-01  1e-10\n",
      " 9: -7.4575e+06 -7.4075e+06  8e+04  7e-02  5e-11\n",
      "10: -7.4401e+06 -7.3740e+06  7e+04  5e-02  3e-11\n",
      "11: -7.3972e+06 -7.3393e+06  4e+04  2e-02  2e-11\n",
      "12: -7.3382e+06 -7.3127e+06  3e+04  7e-03  5e-12\n",
      "13: -7.3408e+06 -7.2985e+06  3e+04  7e-03  5e-12\n",
      "14: -7.3174e+06 -7.2479e+06  2e+04  4e-03  3e-12\n",
      "15: -7.2743e+06 -7.2066e+06  3e+04  2e-03  2e-12\n",
      "16: -7.2568e+06 -7.1994e+06  2e+04  2e-03  1e-12\n",
      "17: -7.2227e+06 -7.1892e+06  2e+04  8e-04  6e-13\n",
      "18: -7.2069e+06 -7.1861e+06  1e+04  5e-04  3e-13\n",
      "19: -7.1891e+06 -7.1843e+06  2e+03  8e-05  6e-14\n",
      "20: -7.1841e+06 -7.1840e+06  3e+01  7e-07  9e-16\n",
      "21: -7.1840e+06 -7.1840e+06  3e-01  7e-09  4e-16\n",
      "Optimal solution found.\n",
      "     pcost       dcost       gap    pres   dres\n",
      " 0: -7.7571e+06 -7.7571e+06  3e+01  6e+00  4e-09\n",
      " 1: -7.7571e+06 -7.7571e+06  9e+00  2e+00  1e-09\n",
      " 2: -7.7571e+06 -7.7571e+06  9e+00  2e+00  1e-09\n",
      " 3: -7.7038e+06 -7.7116e+06  1e+05  2e+00  1e-09\n",
      " 4: -7.6466e+06 -7.6771e+06  2e+05  2e+00  1e-09\n",
      " 5: -7.6592e+06 -7.6498e+06  5e+05  2e+00  1e-09\n",
      " 6: -7.6486e+06 -7.5936e+06  3e+05  1e+00  7e-10\n",
      " 7: -7.5109e+06 -7.5015e+06  3e+05  4e-01  3e-10\n",
      " 8: -7.4936e+06 -7.4778e+06  1e+05  2e-01  1e-10\n",
      " 9: -7.4711e+06 -7.4211e+06  8e+04  7e-02  5e-11\n",
      "10: -7.4496e+06 -7.3947e+06  6e+04  5e-02  4e-11\n",
      "11: -7.4201e+06 -7.3560e+06  5e+04  3e-02  2e-11\n",
      "12: -7.3430e+06 -7.3139e+06  2e+04  7e-03  5e-12\n",
      "13: -7.3436e+06 -7.3001e+06  2e+04  6e-03  5e-12\n",
      "14: -7.3173e+06 -7.2428e+06  3e+04  4e-03  3e-12\n",
      "15: -7.2824e+06 -7.2060e+06  4e+04  3e-03  2e-12\n",
      "16: -7.2690e+06 -7.2010e+06  4e+04  2e-03  2e-12\n",
      "17: -7.2329e+06 -7.1875e+06  3e+04  1e-03  9e-13\n",
      "18: -7.1933e+06 -7.1688e+06  3e+04  5e-04  4e-13\n",
      "19: -7.1685e+06 -7.1671e+06  7e+02  2e-05  1e-14\n",
      "20: -7.1670e+06 -7.1670e+06  7e+00  2e-07  1e-15\n",
      "21: -7.1670e+06 -7.1670e+06  7e-02  2e-09  1e-15\n",
      "Optimal solution found.\n",
      "     pcost       dcost       gap    pres   dres\n",
      " 0: -7.7571e+06 -7.7571e+06  3e+01  6e+00  4e-09\n",
      " 1: -7.7571e+06 -7.7571e+06  9e+00  2e+00  1e-09\n",
      " 2: -7.7571e+06 -7.7571e+06  9e+00  2e+00  1e-09\n",
      " 3: -7.7039e+06 -7.7116e+06  1e+05  2e+00  1e-09\n",
      " 4: -7.6466e+06 -7.6770e+06  2e+05  2e+00  1e-09\n",
      " 5: -7.6604e+06 -7.6487e+06  5e+05  2e+00  1e-09\n",
      " 6: -7.6490e+06 -7.5893e+06  3e+05  9e-01  7e-10\n",
      " 7: -7.4888e+06 -7.5035e+06  3e+05  3e-01  3e-10\n",
      " 8: -7.4833e+06 -7.4786e+06  1e+05  1e-01  1e-10\n",
      " 9: -7.4601e+06 -7.4197e+06  8e+04  6e-02  5e-11\n",
      "10: -7.4497e+06 -7.3818e+06  7e+04  5e-02  3e-11\n",
      "11: -7.4092e+06 -7.3420e+06  4e+04  2e-02  2e-11\n",
      "12: -7.3427e+06 -7.3126e+06  2e+04  7e-03  5e-12\n",
      "13: -7.3450e+06 -7.2983e+06  2e+04  7e-03  5e-12\n",
      "14: -7.3279e+06 -7.2498e+06  3e+04  5e-03  4e-12\n",
      "15: -7.2759e+06 -7.2021e+06  3e+04  3e-03  2e-12\n",
      "16: -7.2744e+06 -7.1928e+06  4e+04  3e-03  2e-12\n",
      "17: -7.2279e+06 -7.1571e+06  2e+04  1e-03  9e-13\n",
      "18: -7.1272e+06 -7.1348e+06  8e+03  7e-18  9e-16\n",
      "19: -7.1345e+06 -7.1346e+06  8e+01  1e-18  8e-16\n",
      "20: -7.1346e+06 -7.1346e+06  8e-01  1e-18  4e-16\n",
      "Optimal solution found.\n",
      "     pcost       dcost       gap    pres   dres\n",
      " 0: -7.7571e+06 -7.7571e+06  3e+01  6e+00  4e-09\n",
      " 1: -7.7571e+06 -7.7571e+06  9e+00  2e+00  1e-09\n",
      " 2: -7.7571e+06 -7.7571e+06  9e+00  2e+00  1e-09\n",
      " 3: -7.7038e+06 -7.7116e+06  1e+05  2e+00  1e-09\n",
      " 4: -7.6467e+06 -7.6767e+06  2e+05  2e+00  1e-09\n",
      " 5: -7.6614e+06 -7.6458e+06  5e+05  2e+00  1e-09\n",
      " 6: -7.6253e+06 -7.5482e+06  3e+05  8e-01  6e-10\n",
      " 7: -7.5097e+06 -7.4730e+06  3e+05  4e-01  3e-10\n",
      " 8: -7.5061e+06 -7.4404e+06  1e+05  1e-01  1e-10\n",
      " 9: -7.4554e+06 -7.3894e+06  4e+04  5e-02  4e-11\n",
      "10: -7.4299e+06 -7.3375e+06  5e+04  4e-02  3e-11\n",
      "11: -7.3382e+06 -7.2933e+06  2e+04  1e-02  8e-12\n",
      "12: -7.3248e+06 -7.2896e+06  2e+04  8e-03  6e-12\n",
      "13: -7.3182e+06 -7.2492e+06  3e+04  6e-03  5e-12\n",
      "14: -7.2842e+06 -7.2099e+06  3e+04  4e-03  3e-12\n",
      "15: -7.2840e+06 -7.1880e+06  4e+04  4e-03  3e-12\n",
      "16: -7.2071e+06 -7.1109e+06  1e+04  1e-03  1e-12\n",
      "17: -7.0769e+06 -7.0825e+06  6e+03  2e-18  3e-15\n",
      "18: -7.0823e+06 -7.0824e+06  6e+01  2e-18  1e-15\n",
      "19: -7.0824e+06 -7.0824e+06  6e-01  2e-18  3e-16\n",
      "Optimal solution found.\n",
      "     pcost       dcost       gap    pres   dres\n",
      " 0: -7.7571e+06 -7.7571e+06  3e+01  6e+00  4e-09\n",
      " 1: -7.7571e+06 -7.7571e+06  9e+00  2e+00  1e-09\n",
      " 2: -7.7571e+06 -7.7571e+06  9e+00  2e+00  1e-09\n",
      " 3: -7.7038e+06 -7.7116e+06  1e+05  2e+00  1e-09\n",
      " 4: -7.6467e+06 -7.6770e+06  2e+05  2e+00  1e-09\n",
      " 5: -7.6601e+06 -7.6485e+06  5e+05  2e+00  1e-09\n",
      " 6: -7.6245e+06 -7.5567e+06  4e+05  8e-01  6e-10\n",
      " 7: -7.5151e+06 -7.4706e+06  3e+05  4e-01  3e-10\n",
      " 8: -7.5179e+06 -7.4302e+06  1e+05  2e-01  1e-10\n",
      " 9: -7.4599e+06 -7.3637e+06  4e+04  6e-02  4e-11\n",
      "10: -7.3817e+06 -7.2838e+06  8e+04  3e-02  3e-11\n",
      "11: -7.3448e+06 -7.2859e+06  7e+04  2e-02  1e-11\n",
      "12: -7.3007e+06 -7.2730e+06  3e+04  8e-03  6e-12\n",
      "13: -7.3010e+06 -7.2514e+06  3e+04  8e-03  6e-12\n",
      "14: -7.2867e+06 -7.2214e+06  3e+04  6e-03  4e-12\n",
      "15: -7.2704e+06 -7.1613e+06  4e+04  4e-03  3e-12\n",
      "16: -7.0849e+06 -7.0222e+06  5e+04  1e-03  8e-13\n",
      "17: -7.0180e+06 -7.0168e+06  9e+02  2e-05  2e-14\n",
      "18: -7.0167e+06 -7.0167e+06  9e+00  2e-07  9e-15\n",
      "19: -7.0167e+06 -7.0167e+06  9e-02  2e-09  6e-15\n",
      "Optimal solution found.\n",
      "     pcost       dcost       gap    pres   dres\n",
      " 0: -7.7571e+06 -7.7571e+06  3e+01  6e+00  4e-09\n",
      " 1: -7.7571e+06 -7.7571e+06  9e+00  2e+00  1e-09\n",
      " 2: -7.7571e+06 -7.7571e+06  9e+00  2e+00  1e-09\n",
      " 3: -7.7038e+06 -7.7116e+06  1e+05  2e+00  1e-09\n",
      " 4: -7.6466e+06 -7.6770e+06  2e+05  2e+00  1e-09\n",
      " 5: -7.6595e+06 -7.6491e+06  5e+05  2e+00  1e-09\n",
      " 6: -7.6168e+06 -7.5515e+06  4e+05  8e-01  6e-10\n",
      " 7: -7.5345e+06 -7.4748e+06  3e+05  4e-01  3e-10\n",
      " 8: -7.5267e+06 -7.4264e+06  1e+05  2e-01  1e-10\n",
      " 9: -7.4891e+06 -7.3644e+06  7e+04  9e-02  7e-11\n",
      "10: -7.3316e+06 -7.2572e+06  5e+04  2e-02  2e-11\n",
      "11: -7.2847e+06 -7.2504e+06  2e+04  1e-02  7e-12\n",
      "12: -7.2868e+06 -7.2381e+06  2e+04  9e-03  7e-12\n",
      "13: -7.2784e+06 -7.2204e+06  2e+04  7e-03  5e-12\n",
      "14: -7.2524e+06 -7.1074e+06  2e+04  5e-03  3e-12\n",
      "15: -6.8078e+06 -6.9544e+06  1e+05  3e-18  9e-15\n",
      "16: -6.9371e+06 -6.9421e+06  5e+03  3e-18  9e-15\n",
      "17: -6.9420e+06 -6.9421e+06  5e+01  2e-18  2e-15\n",
      "18: -6.9421e+06 -6.9421e+06  5e-01  1e-18  2e-15\n",
      "Optimal solution found.\n",
      "     pcost       dcost       gap    pres   dres\n",
      " 0: -7.7571e+06 -7.7571e+06  3e+01  6e+00  4e-09\n",
      " 1: -7.7571e+06 -7.7571e+06  9e+00  2e+00  1e-09\n",
      " 2: -7.7571e+06 -7.7571e+06  9e+00  2e+00  1e-09\n",
      " 3: -7.7038e+06 -7.7116e+06  1e+05  2e+00  1e-09\n",
      " 4: -7.6471e+06 -7.6754e+06  2e+05  2e+00  1e-09\n",
      " 5: -7.6639e+06 -7.6395e+06  5e+05  2e+00  1e-09\n",
      " 6: -7.3968e+06 -7.5790e+06  1e+06  1e+00  9e-10\n",
      " 7: -7.4318e+06 -7.5246e+06  1e+06  1e+00  8e-10\n",
      " 8: -7.4746e+06 -7.4458e+06  4e+05  4e-01  3e-10\n",
      " 9: -7.4661e+06 -7.3753e+06  1e+05  1e-01  9e-11\n",
      "10: -7.3580e+06 -7.2474e+06  6e+04  4e-02  3e-11\n",
      "11: -7.2799e+06 -7.2303e+06  3e+04  1e-02  1e-11\n",
      "12: -7.2700e+06 -7.2204e+06  3e+04  1e-02  9e-12\n",
      "13: -7.2590e+06 -7.2030e+06  2e+04  8e-03  6e-12\n",
      "14: -7.2453e+06 -7.0851e+06  4e+04  7e-03  5e-12\n",
      "15: -6.9190e+06 -6.8579e+06  8e+04  1e-03  9e-13\n",
      "16: -6.8564e+06 -6.8552e+06  9e+02  2e-05  1e-14\n",
      "17: -6.8552e+06 -6.8552e+06  9e+00  2e-07  2e-14\n",
      "18: -6.8552e+06 -6.8552e+06  9e-02  2e-09  3e-14\n",
      "Optimal solution found.\n",
      "     pcost       dcost       gap    pres   dres\n",
      " 0: -7.7571e+06 -7.7571e+06  3e+01  6e+00  4e-09\n",
      " 1: -7.7571e+06 -7.7571e+06  9e+00  2e+00  1e-09\n",
      " 2: -7.7571e+06 -7.7571e+06  9e+00  2e+00  1e-09\n",
      " 3: -7.7038e+06 -7.7116e+06  1e+05  2e+00  1e-09\n",
      " 4: -7.6475e+06 -7.6763e+06  2e+05  2e+00  1e-09\n",
      " 5: -7.6674e+06 -7.6406e+06  5e+05  2e+00  1e-09\n",
      " 6: -7.4511e+06 -7.5584e+06  9e+05  1e+00  8e-10\n",
      " 7: -7.4864e+06 -7.5013e+06  9e+05  1e+00  7e-10\n",
      " 8: -7.5183e+06 -7.4340e+06  3e+05  3e-01  3e-10\n",
      " 9: -7.4876e+06 -7.3636e+06  2e+05  2e-01  1e-10\n",
      "10: -7.4226e+06 -7.2822e+06  6e+04  6e-02  5e-11\n",
      "11: -7.3097e+06 -7.2263e+06  5e+04  3e-02  2e-11\n",
      "12: -7.2746e+06 -7.2182e+06  3e+04  2e-02  1e-11\n",
      "13: -7.2549e+06 -7.1903e+06  4e+04  1e-02  9e-12\n",
      "14: -7.2558e+06 -7.1362e+06  5e+04  1e-02  7e-12\n",
      "15: -7.1905e+06 -6.9542e+06  4e+04  6e-03  4e-12\n",
      "16: -6.6507e+06 -6.7735e+06  1e+05  2e-18  4e-15\n",
      "17: -6.7637e+06 -6.7667e+06  3e+03  1e-18  7e-15\n",
      "18: -6.7666e+06 -6.7666e+06  3e+01  1e-18  3e-16\n",
      "19: -6.7666e+06 -6.7666e+06  3e-01  1e-18  5e-16\n",
      "Optimal solution found.\n",
      "     pcost       dcost       gap    pres   dres\n",
      " 0: -7.7571e+06 -7.7571e+06  3e+01  6e+00  4e-09\n",
      " 1: -7.7571e+06 -7.7571e+06  9e+00  2e+00  1e-09\n",
      " 2: -7.7571e+06 -7.7571e+06  9e+00  2e+00  1e-09\n",
      " 3: -7.7038e+06 -7.7116e+06  1e+05  2e+00  1e-09\n",
      " 4: -7.6473e+06 -7.6761e+06  2e+05  2e+00  1e-09\n",
      " 5: -7.6676e+06 -7.6379e+06  5e+05  2e+00  1e-09\n",
      " 6: -7.4243e+06 -7.5625e+06  9e+05  1e+00  8e-10\n",
      " 7: -7.4642e+06 -7.5041e+06  9e+05  1e+00  7e-10\n",
      " 8: -7.5124e+06 -7.4326e+06  3e+05  3e-01  2e-10\n",
      " 9: -7.4819e+06 -7.3669e+06  2e+05  2e-01  1e-10\n",
      "10: -7.4118e+06 -7.2723e+06  5e+04  6e-02  4e-11\n",
      "11: -7.2798e+06 -7.2203e+06  3e+04  2e-02  1e-11\n",
      "12: -7.2785e+06 -7.2097e+06  3e+04  2e-02  1e-11\n",
      "13: -7.2601e+06 -7.1605e+06  2e+04  1e-02  8e-12\n",
      "14: -7.2504e+06 -7.1306e+06  3e+04  1e-02  7e-12\n",
      "15: -7.2253e+06 -7.0017e+06  5e+04  8e-03  6e-12\n",
      "16: -6.5136e+06 -6.6835e+06  2e+05  3e-04  2e-13\n",
      "17: -6.6549e+06 -6.6728e+06  2e+04  3e-18  7e-15\n",
      "18: -6.6704e+06 -6.6705e+06  2e+02  2e-18  1e-16\n",
      "19: -6.6705e+06 -6.6705e+06  2e+00  2e-18  2e-16\n",
      "Optimal solution found.\n",
      "     pcost       dcost       gap    pres   dres\n",
      " 0: -7.7571e+06 -7.7571e+06  3e+01  5e+00  5e-09\n",
      " 1: -7.7571e+06 -7.7571e+06  8e+00  2e+00  1e-09\n",
      " 2: -7.7571e+06 -7.7571e+06  8e+00  2e+00  1e-09\n",
      " 3: -7.7437e+06 -7.7343e+06  3e+04  1e+00  1e-09\n",
      " 4: -7.7431e+06 -7.7324e+06  3e+04  1e+00  1e-09\n",
      " 5: -7.7279e+06 -7.6925e+06  5e+04  1e+00  1e-09\n",
      " 6: -7.6519e+06 -7.6356e+06  2e+05  1e+00  9e-10\n",
      " 7: -7.6453e+06 -7.6190e+06  3e+05  9e-01  8e-10\n",
      " 8: -7.6591e+06 -7.5783e+06  3e+05  6e-01  5e-10\n",
      " 9: -7.6050e+06 -7.4954e+06  3e+05  4e-01  3e-10\n",
      "10: -7.5553e+06 -7.4449e+06  6e+04  1e-01  1e-10\n",
      "11: -7.5191e+06 -7.3666e+06  7e+04  9e-02  8e-11\n",
      "12: -7.3866e+06 -7.2403e+06  9e+04  5e-02  4e-11\n",
      "13: -7.3112e+06 -7.2159e+06  7e+04  3e-02  2e-11\n",
      "14: -7.3053e+06 -7.2020e+06  7e+04  2e-02  2e-11\n",
      "15: -7.2529e+06 -7.1562e+06  3e+04  1e-02  9e-12\n",
      "16: -7.2518e+06 -7.1298e+06  3e+04  1e-02  9e-12\n",
      "17: -7.2240e+06 -6.9651e+06  5e+04  8e-03  7e-12\n",
      "18: -6.8009e+06 -6.6007e+06  2e+05  3e-03  3e-12\n",
      "19: -6.5902e+06 -6.5811e+06  5e+03  9e-05  8e-14\n",
      "20: -6.5812e+06 -6.5811e+06  5e+01  9e-07  3e-14\n",
      "21: -6.5811e+06 -6.5811e+06  5e-01  9e-09  2e-14\n",
      "Optimal solution found.\n",
      "     pcost       dcost       gap    pres   dres\n",
      " 0: -7.7571e+06 -7.7571e+06  3e+01  5e+00  5e-09\n",
      " 1: -7.7571e+06 -7.7571e+06  7e+00  2e+00  1e-09\n",
      " 2: -7.7571e+06 -7.7571e+06  7e+00  2e+00  1e-09\n",
      " 3: -7.7536e+06 -7.7421e+06  7e+03  2e+00  1e-09\n",
      " 4: -7.7517e+06 -7.7391e+06  8e+03  1e+00  1e-09\n",
      " 5: -7.7417e+06 -7.7060e+06  3e+04  1e+00  1e-09\n",
      " 6: -7.6620e+06 -7.6787e+06  2e+05  1e+00  1e-09\n",
      " 7: -7.6518e+06 -7.6321e+06  2e+05  8e-01  7e-10\n",
      " 8: -7.6001e+06 -7.5742e+06  2e+05  5e-01  4e-10\n",
      " 9: -7.5790e+06 -7.5513e+06  1e+05  3e-01  2e-10\n",
      "10: -7.5684e+06 -7.5159e+06  1e+05  2e-01  2e-10\n",
      "11: -7.5330e+06 -7.4263e+06  9e+04  1e-01  1e-10\n",
      "12: -7.4642e+06 -7.3264e+06  8e+04  7e-02  6e-11\n",
      "13: -7.3929e+06 -7.2437e+06  1e+05  5e-02  4e-11\n",
      "14: -7.3430e+06 -7.2225e+06  9e+04  3e-02  3e-11\n",
      "15: -7.3139e+06 -7.1934e+06  8e+04  2e-02  2e-11\n",
      "16: -7.2650e+06 -7.1295e+06  5e+04  1e-02  1e-11\n",
      "17: -7.2446e+06 -7.0660e+06  6e+04  1e-02  9e-12\n",
      "18: -7.1475e+06 -6.7839e+06  9e+04  7e-03  6e-12\n",
      "19: -6.9803e+06 -6.6073e+06  1e+05  5e-03  4e-12\n",
      "20: -6.9651e+06 -6.6472e+06  1e+05  4e-03  4e-12\n",
      "21: -6.6895e+06 -6.5537e+06  7e+04  1e-03  1e-12\n",
      "22: -6.4961e+06 -6.4921e+06  3e+04  2e-04  2e-13\n",
      "23: -6.4917e+06 -6.4917e+06  3e+02  2e-06  2e-15\n",
      "24: -6.4917e+06 -6.4917e+06  3e+00  2e-08  2e-16\n",
      "Optimal solution found.\n",
      "     pcost       dcost       gap    pres   dres\n",
      " 0: -7.7571e+06 -7.7571e+06  3e+01  5e+00  5e-09\n",
      " 1: -7.7571e+06 -7.7571e+06  6e+00  1e+00  1e-09\n",
      " 2: -7.7571e+06 -7.7571e+06  6e+00  1e+00  1e-09\n",
      " 3: -7.7555e+06 -7.7495e+06  3e+03  1e+00  1e-09\n",
      " 4: -7.7548e+06 -7.7375e+06  6e+03  1e+00  1e-09\n",
      " 5: -7.7378e+06 -7.6975e+06  4e+04  1e+00  1e-09\n",
      " 6: -7.7158e+06 -7.6535e+06  4e+04  8e-01  7e-10\n",
      " 7: -7.6924e+06 -7.6198e+06  4e+04  6e-01  5e-10\n",
      " 8: -7.6457e+06 -7.5813e+06  4e+04  4e-01  3e-10\n",
      " 9: -7.6168e+06 -7.5499e+06  5e+04  3e-01  2e-10\n",
      "10: -7.6043e+06 -7.5318e+06  5e+04  2e-01  2e-10\n",
      "11: -7.5741e+06 -7.4932e+06  4e+04  1e-01  1e-10\n",
      "12: -7.5602e+06 -7.4563e+06  5e+04  1e-01  1e-10\n",
      "13: -7.5050e+06 -7.3693e+06  6e+04  7e-02  6e-11\n",
      "14: -7.4854e+06 -7.3039e+06  9e+04  6e-02  5e-11\n",
      "15: -7.3570e+06 -7.2275e+06  6e+04  3e-02  2e-11\n",
      "16: -7.3529e+06 -7.2174e+06  6e+04  2e-02  2e-11\n",
      "17: -7.3076e+06 -7.1714e+06  4e+04  2e-02  1e-11\n",
      "18: -7.2552e+06 -7.1018e+06  6e+04  1e-02  1e-11\n",
      "19: -7.2547e+06 -7.0693e+06  6e+04  1e-02  1e-11\n",
      "20: -7.2019e+06 -6.8816e+06  6e+04  8e-03  7e-12\n",
      "21: -6.1921e+06 -6.5176e+06  3e+05  7e-18  1e-15\n",
      "22: -6.3675e+06 -6.4904e+06  1e+05  3e-18  7e-16\n",
      "23: -6.2960e+06 -6.4106e+06  1e+05  3e-18  1e-15\n",
      "24: -6.4048e+06 -6.4061e+06  1e+03  2e-18  4e-16\n",
      "25: -6.4059e+06 -6.4059e+06  1e+01  2e-18  2e-16\n",
      "26: -6.4059e+06 -6.4059e+06  1e-01  2e-18  3e-16\n",
      "Optimal solution found.\n",
      "     pcost       dcost       gap    pres   dres\n",
      " 0: -7.7571e+06 -7.7571e+06  3e+01  5e+00  5e-09\n",
      " 1: -7.7571e+06 -7.7571e+06  7e+00  2e+00  1e-09\n",
      " 2: -7.7571e+06 -7.7571e+06  7e+00  1e+00  1e-09\n",
      " 3: -7.7445e+06 -7.7355e+06  3e+04  1e+00  1e-09\n",
      " 4: -7.7324e+06 -7.7137e+06  5e+04  1e+00  1e-09\n",
      " 5: -7.7043e+06 -7.6661e+06  1e+05  1e+00  1e-09\n",
      " 6: -7.5922e+06 -7.6465e+06  4e+05  1e+00  1e-09\n",
      " 7: -7.6211e+06 -7.5991e+06  6e+05  1e+00  1e-09\n",
      " 8: -7.6613e+06 -7.6010e+06  7e+05  1e+00  9e-10\n",
      " 9: -7.6602e+06 -7.5306e+06  7e+05  8e-01  7e-10\n",
      "10: -7.5516e+06 -7.4633e+06  3e+05  3e-01  2e-10\n",
      "11: -7.5277e+06 -7.4228e+06  2e+05  2e-01  1e-10\n",
      "12: -7.4664e+06 -7.3306e+06  6e+04  6e-02  5e-11\n",
      "13: -7.3965e+06 -7.2578e+06  6e+04  4e-02  3e-11\n",
      "14: -7.3250e+06 -7.2184e+06  5e+04  2e-02  2e-11\n",
      "15: -7.3080e+06 -7.1899e+06  5e+04  2e-02  2e-11\n",
      "16: -7.2398e+06 -7.0938e+06  5e+04  1e-02  9e-12\n",
      "17: -7.2435e+06 -7.0273e+06  6e+04  1e-02  8e-12\n",
      "18: -7.1191e+06 -6.7092e+06  6e+04  6e-03  5e-12\n",
      "19: -6.8562e+06 -6.4859e+06  1e+05  3e-03  3e-12\n",
      "20: -6.7805e+06 -6.3981e+06  1e+05  3e-03  2e-12\n",
      "21: -6.4123e+06 -6.3220e+06  4e+04  5e-04  5e-13\n",
      "22: -6.3210e+06 -6.3196e+06  7e+02  8e-06  8e-15\n",
      "23: -6.3196e+06 -6.3196e+06  7e+00  8e-08  3e-15\n",
      "24: -6.3196e+06 -6.3196e+06  7e-02  8e-10  5e-15\n",
      "Optimal solution found.\n",
      "     pcost       dcost       gap    pres   dres\n",
      " 0: -7.7571e+06 -7.7571e+06  3e+01  6e+00  2e-09\n",
      " 1: -7.7571e+06 -7.7571e+06  9e+00  2e+00  6e-10\n",
      " 2: -7.7571e+06 -7.7571e+06  9e+00  2e+00  6e-10\n",
      " 3: -7.7038e+06 -7.7116e+06  1e+05  2e+00  6e-10\n",
      " 4: -7.6466e+06 -7.6770e+06  2e+05  2e+00  6e-10\n",
      " 5: -7.6600e+06 -7.6491e+06  5e+05  2e+00  6e-10\n",
      " 6: -7.6436e+06 -7.5914e+06  3e+05  8e-01  3e-10\n",
      " 7: -7.5967e+06 -7.4802e+06  4e+05  6e-01  2e-10\n",
      " 8: -7.5034e+06 -7.4349e+06  3e+05  3e-01  1e-10\n",
      " 9: -7.4854e+06 -7.3956e+06  1e+05  1e-01  4e-11\n",
      "10: -7.3882e+06 -7.3066e+06  6e+04  4e-02  1e-11\n",
      "11: -7.3346e+06 -7.2879e+06  3e+04  2e-02  6e-12\n"
     ]
    },
    {
     "name": "stdout",
     "output_type": "stream",
     "text": [
      "12: -7.3060e+06 -7.2805e+06  2e+04  9e-03  3e-12\n",
      "13: -7.2907e+06 -7.2766e+06  1e+04  5e-03  1e-12\n",
      "14: -7.2908e+06 -7.2655e+06  1e+04  4e-03  1e-12\n",
      "15: -7.2830e+06 -7.2563e+06  2e+04  3e-03  1e-12\n",
      "16: -7.2729e+06 -7.2190e+06  2e+04  2e-03  8e-13\n",
      "17: -7.2365e+06 -7.2106e+06  2e+04  1e-03  4e-13\n",
      "18: -7.2103e+06 -7.2019e+06  5e+03  3e-04  9e-14\n",
      "19: -7.1997e+06 -7.1999e+06  2e+02  1e-17  4e-16\n",
      "20: -7.1998e+06 -7.1998e+06  2e+00  7e-18  1e-16\n",
      "Optimal solution found.\n"
     ]
    }
   ],
   "source": [
    "import cvxopt\n",
    "\n",
    "def create_M(N):\n",
    "    M = np.zeros((N,N))\n",
    "    for i in range(N):\n",
    "        for j in range(N):\n",
    "            if i==0:\n",
    "                if j == 0:\n",
    "                    M[i,j]=1\n",
    "                else:\n",
    "                    M[i,j]=0\n",
    "            elif (i==j):\n",
    "                M[i,j]=1\n",
    "            elif (j == (i-1)):\n",
    "                M[i,j] = -1\n",
    "            else:\n",
    "                M[i,j]=0\n",
    "    return M\n",
    "\n",
    "def generate_G(index):\n",
    "    \"\"\"index: represents k^*, gamma_{k^*} is such that gamma_0 <= gamma_1 <= ...<= gamma_{k^*} >= ... >= gamma_N\n",
    "    This function generates a matrix G such that either gamma_index or gamma_{index+1} is the maximum\n",
    "    \"\"\" \n",
    "    #this constraint verifies the gaussian-like distribution of the gamma\n",
    "    G = np.zeros((N,N))\n",
    "    for i in range(0, index):\n",
    "        for j in range(N):\n",
    "            if (i==j):\n",
    "                G[i,j] = 1\n",
    "            elif (j == i+1):\n",
    "                G[i,j] = -1\n",
    "                \n",
    "    for i in range(index, N):\n",
    "        for j in range(N):\n",
    "            if (i==j):\n",
    "                G[i,j] = -1\n",
    "            elif (j == i+1):\n",
    "                G[i,j] = 1\n",
    "    \n",
    "    # we do not put any condition on idx_th element, and use this line to verify that all gammas are superior or\n",
    "    # equal to zero\n",
    "    #G[index,:] = 0\n",
    "    #G[index, 0] = -1\n",
    "\n",
    "    \n",
    "    #this constraint verifies that -gamma_i <= 0 <=> gamma_i >= 0 forall i\n",
    "   # for i in range(N, 2*N):\n",
    "    #    for j in range(N):\n",
    "     #       if (i==N+j):\n",
    "      #          G[i,j]=-1\n",
    "    return G\n",
    "\n",
    "def generate_params(X_train, y_train,k):\n",
    "    M = create_M(N)\n",
    "    M_tilde = M.T @ M\n",
    "    X_tilde = X_train.T @ X_train\n",
    "    P = X_tilde + 1.0*(M_tilde)\n",
    "    q = -X_train.T@y_train\n",
    "    G = generate_G(k)\n",
    "    h = np.zeros((N,1))\n",
    "    for i in range(len(h)):\n",
    "        h[i] = -0.0000001\n",
    "    return P, q, G, h\n",
    "\n",
    "def find_best_k(X_train, y_train, X_test, y_test, loss):\n",
    "    \"\"\"Returns index of maximum gamma that minimizes the mae loss\"\"\"\n",
    "    loss = {}\n",
    "    for k in range(N):\n",
    "        P, q, G, h = generate_params(X_train, y_train, k)\n",
    "        gammas = cvxopt_solve_qp(P,q, G, h)\n",
    "        y_pred = X_test@gammas\n",
    "        #if loss == 'mae':\n",
    "         #   loss[k] = metrics.mean_absolute_error(y_test, y_pred)\n",
    "        #elif loss == 'mape':\n",
    "         #   print('here i am')\n",
    "          #  print(mape(y_test,y_pred))\n",
    "        loss[k] = mape(y_test,y_pred)\n",
    "    return min(loss, key=loss.get)\n",
    "\n",
    "\n",
    "def cvxopt_solve_qp(P, q, G=None, h=None, A=None, b=None):\n",
    "    P = .5 * (P + P.T)  # make sure P is symmetric\n",
    "    args = [cvxopt.matrix(P), cvxopt.matrix(q)]\n",
    "    if G is not None:\n",
    "        args.extend([cvxopt.matrix(G), cvxopt.matrix(h)])\n",
    "        if A is not None:\n",
    "            args.extend([cvxopt.matrix(A), cvxopt.matrix(b)])\n",
    "    sol = cvxopt.solvers.qp(*args)\n",
    "    if 'optimal' not in sol['status']:\n",
    "        return None\n",
    "    \n",
    "    return np.array(sol['x']).reshape((P.shape[1],))\n",
    "\n",
    "def mape(y_test, y_pred):\n",
    "    return np.mean(np.abs((y_pred-y_test)/y_test))\n",
    "\n",
    "def mspe(y_test, y_pred):\n",
    "    return np.mean(np.square((y_pred-y_test)/y_test))\n",
    "\n",
    "\n",
    "# Generate our prediction\n",
    "index = find_best_k(X_train, y_train, X_test, y_test, 'mape')\n",
    "P, q, G, h = generate_params(X_train, y_train, index)\n",
    "gamma = cvxopt_solve_qp(P, q, G, h)\n",
    "y_pred = X_test@gamma"
   ]
  },
  {
   "cell_type": "code",
   "execution_count": 339,
   "metadata": {},
   "outputs": [
    {
     "name": "stdout",
     "output_type": "stream",
     "text": [
      "     pcost       dcost       gap    pres   dres\n",
      " 0: -7.7571e+06 -7.7571e+06  3e+01  6e+00  2e-09\n",
      " 1: -7.7571e+06 -7.7571e+06  9e+00  2e+00  6e-10\n",
      " 2: -7.7571e+06 -7.7571e+06  9e+00  2e+00  6e-10\n",
      " 3: -7.7038e+06 -7.7116e+06  1e+05  2e+00  6e-10\n",
      " 4: -7.6466e+06 -7.6770e+06  2e+05  2e+00  6e-10\n",
      " 5: -7.6600e+06 -7.6491e+06  5e+05  2e+00  6e-10\n",
      " 6: -7.6436e+06 -7.5914e+06  3e+05  8e-01  3e-10\n",
      " 7: -7.5967e+06 -7.4802e+06  4e+05  6e-01  2e-10\n",
      " 8: -7.5034e+06 -7.4349e+06  3e+05  3e-01  1e-10\n",
      " 9: -7.4854e+06 -7.3956e+06  1e+05  1e-01  4e-11\n",
      "10: -7.3882e+06 -7.3066e+06  6e+04  4e-02  1e-11\n",
      "11: -7.3346e+06 -7.2879e+06  3e+04  2e-02  6e-12\n",
      "12: -7.3060e+06 -7.2805e+06  2e+04  9e-03  3e-12\n",
      "13: -7.2907e+06 -7.2766e+06  1e+04  5e-03  1e-12\n",
      "14: -7.2908e+06 -7.2655e+06  1e+04  4e-03  1e-12\n",
      "15: -7.2830e+06 -7.2563e+06  2e+04  3e-03  1e-12\n",
      "16: -7.2729e+06 -7.2190e+06  2e+04  2e-03  8e-13\n",
      "17: -7.2365e+06 -7.2106e+06  2e+04  1e-03  4e-13\n",
      "18: -7.2103e+06 -7.2019e+06  5e+03  3e-04  9e-14\n",
      "19: -7.1997e+06 -7.1999e+06  2e+02  1e-17  4e-16\n",
      "20: -7.1998e+06 -7.1998e+06  2e+00  7e-18  1e-16\n",
      "Optimal solution found.\n",
      "     pcost       dcost       gap    pres   dres\n",
      " 0: -7.7571e+06 -7.7571e+06  3e+01  6e+00  4e-09\n",
      " 1: -7.7571e+06 -7.7571e+06  9e+00  2e+00  1e-09\n",
      " 2: -7.7571e+06 -7.7571e+06  9e+00  2e+00  1e-09\n",
      " 3: -7.7038e+06 -7.7116e+06  1e+05  2e+00  1e-09\n",
      " 4: -7.6466e+06 -7.6768e+06  2e+05  2e+00  1e-09\n",
      " 5: -7.6613e+06 -7.6453e+06  5e+05  2e+00  1e-09\n",
      " 6: -7.6475e+06 -7.5757e+06  3e+05  9e-01  7e-10\n",
      " 7: -7.5190e+06 -7.4742e+06  3e+05  4e-01  3e-10\n",
      " 8: -7.4801e+06 -7.4452e+06  1e+05  2e-01  1e-10\n",
      " 9: -7.4381e+06 -7.3716e+06  7e+04  7e-02  5e-11\n",
      "10: -7.4079e+06 -7.3435e+06  5e+04  4e-02  3e-11\n",
      "11: -7.3655e+06 -7.3093e+06  5e+04  2e-02  2e-11\n",
      "12: -7.3207e+06 -7.2930e+06  2e+04  9e-03  7e-12\n",
      "13: -7.3087e+06 -7.2891e+06  2e+04  6e-03  4e-12\n",
      "14: -7.3093e+06 -7.2694e+06  2e+04  5e-03  4e-12\n",
      "15: -7.2749e+06 -7.2180e+06  1e+04  2e-03  2e-12\n",
      "16: -7.2677e+06 -7.2113e+06  1e+04  2e-03  2e-12\n",
      "17: -7.2486e+06 -7.2060e+06  1e+04  1e-03  1e-12\n",
      "18: -7.2408e+06 -7.1945e+06  2e+04  1e-03  9e-13\n",
      "19: -7.2242e+06 -7.1932e+06  2e+04  9e-04  7e-13\n",
      "20: -7.2040e+06 -7.1879e+06  7e+03  3e-04  3e-13\n",
      "21: -7.1859e+06 -7.1886e+06  5e+03  4e-05  3e-14\n",
      "22: -7.1859e+06 -7.1874e+06  2e+03  1e-18  1e-16\n",
      "23: -7.1870e+06 -7.1870e+06  6e+01  1e-17  1e-16\n",
      "24: -7.1870e+06 -7.1870e+06  6e-01  2e-18  1e-16\n",
      "Optimal solution found.\n",
      "     pcost       dcost       gap    pres   dres\n",
      " 0: -7.7571e+06 -7.7571e+06  3e+01  6e+00  4e-09\n",
      " 1: -7.7571e+06 -7.7571e+06  9e+00  2e+00  1e-09\n",
      " 2: -7.7571e+06 -7.7571e+06  9e+00  2e+00  1e-09\n",
      " 3: -7.7038e+06 -7.7116e+06  1e+05  2e+00  1e-09\n",
      " 4: -7.6466e+06 -7.6769e+06  2e+05  2e+00  1e-09\n",
      " 5: -7.6608e+06 -7.6465e+06  5e+05  2e+00  1e-09\n",
      " 6: -7.6471e+06 -7.5848e+06  3e+05  9e-01  7e-10\n",
      " 7: -7.4899e+06 -7.4987e+06  3e+05  4e-01  3e-10\n",
      " 8: -7.4859e+06 -7.4730e+06  1e+05  1e-01  1e-10\n",
      " 9: -7.4575e+06 -7.4075e+06  8e+04  7e-02  5e-11\n",
      "10: -7.4401e+06 -7.3740e+06  7e+04  5e-02  3e-11\n",
      "11: -7.3972e+06 -7.3393e+06  4e+04  2e-02  2e-11\n",
      "12: -7.3382e+06 -7.3127e+06  3e+04  7e-03  5e-12\n",
      "13: -7.3408e+06 -7.2985e+06  3e+04  7e-03  5e-12\n",
      "14: -7.3174e+06 -7.2479e+06  2e+04  4e-03  3e-12\n",
      "15: -7.2743e+06 -7.2066e+06  3e+04  2e-03  2e-12\n",
      "16: -7.2568e+06 -7.1994e+06  2e+04  2e-03  1e-12\n",
      "17: -7.2227e+06 -7.1892e+06  2e+04  8e-04  6e-13\n",
      "18: -7.2069e+06 -7.1861e+06  1e+04  5e-04  3e-13\n",
      "19: -7.1891e+06 -7.1843e+06  2e+03  8e-05  6e-14\n",
      "20: -7.1841e+06 -7.1840e+06  3e+01  7e-07  9e-16\n",
      "21: -7.1840e+06 -7.1840e+06  3e-01  7e-09  3e-16\n",
      "Optimal solution found.\n",
      "     pcost       dcost       gap    pres   dres\n",
      " 0: -7.7571e+06 -7.7571e+06  3e+01  6e+00  4e-09\n",
      " 1: -7.7571e+06 -7.7571e+06  9e+00  2e+00  1e-09\n",
      " 2: -7.7571e+06 -7.7571e+06  9e+00  2e+00  1e-09\n",
      " 3: -7.7038e+06 -7.7116e+06  1e+05  2e+00  1e-09\n",
      " 4: -7.6466e+06 -7.6771e+06  2e+05  2e+00  1e-09\n",
      " 5: -7.6592e+06 -7.6498e+06  5e+05  2e+00  1e-09\n",
      " 6: -7.6486e+06 -7.5936e+06  3e+05  1e+00  7e-10\n",
      " 7: -7.5109e+06 -7.5015e+06  3e+05  4e-01  3e-10\n",
      " 8: -7.4936e+06 -7.4778e+06  1e+05  2e-01  1e-10\n",
      " 9: -7.4711e+06 -7.4211e+06  8e+04  7e-02  5e-11\n",
      "10: -7.4496e+06 -7.3947e+06  6e+04  5e-02  4e-11\n",
      "11: -7.4201e+06 -7.3560e+06  5e+04  3e-02  2e-11\n",
      "12: -7.3430e+06 -7.3139e+06  2e+04  7e-03  5e-12\n",
      "13: -7.3436e+06 -7.3001e+06  2e+04  6e-03  5e-12\n",
      "14: -7.3173e+06 -7.2428e+06  3e+04  4e-03  3e-12\n",
      "15: -7.2824e+06 -7.2060e+06  4e+04  3e-03  2e-12\n",
      "16: -7.2690e+06 -7.2010e+06  4e+04  2e-03  2e-12\n",
      "17: -7.2329e+06 -7.1875e+06  3e+04  1e-03  9e-13\n",
      "18: -7.1933e+06 -7.1688e+06  3e+04  5e-04  4e-13\n",
      "19: -7.1685e+06 -7.1671e+06  7e+02  2e-05  1e-14\n",
      "20: -7.1670e+06 -7.1670e+06  7e+00  2e-07  9e-16\n",
      "21: -7.1670e+06 -7.1670e+06  7e-02  2e-09  5e-16\n",
      "Optimal solution found.\n",
      "     pcost       dcost       gap    pres   dres\n",
      " 0: -7.7571e+06 -7.7571e+06  3e+01  6e+00  4e-09\n",
      " 1: -7.7571e+06 -7.7571e+06  9e+00  2e+00  1e-09\n",
      " 2: -7.7571e+06 -7.7571e+06  9e+00  2e+00  1e-09\n",
      " 3: -7.7039e+06 -7.7116e+06  1e+05  2e+00  1e-09\n",
      " 4: -7.6466e+06 -7.6770e+06  2e+05  2e+00  1e-09\n",
      " 5: -7.6604e+06 -7.6487e+06  5e+05  2e+00  1e-09\n",
      " 6: -7.6490e+06 -7.5893e+06  3e+05  9e-01  7e-10\n",
      " 7: -7.4888e+06 -7.5035e+06  3e+05  3e-01  3e-10\n",
      " 8: -7.4833e+06 -7.4786e+06  1e+05  1e-01  1e-10\n",
      " 9: -7.4601e+06 -7.4197e+06  8e+04  6e-02  5e-11\n",
      "10: -7.4497e+06 -7.3818e+06  7e+04  5e-02  3e-11\n",
      "11: -7.4092e+06 -7.3420e+06  4e+04  2e-02  2e-11\n",
      "12: -7.3427e+06 -7.3126e+06  2e+04  7e-03  5e-12\n",
      "13: -7.3450e+06 -7.2983e+06  2e+04  7e-03  5e-12\n",
      "14: -7.3279e+06 -7.2498e+06  3e+04  5e-03  4e-12\n",
      "15: -7.2759e+06 -7.2021e+06  3e+04  3e-03  2e-12\n",
      "16: -7.2744e+06 -7.1928e+06  4e+04  3e-03  2e-12\n",
      "17: -7.2279e+06 -7.1571e+06  2e+04  1e-03  9e-13\n",
      "18: -7.1272e+06 -7.1348e+06  8e+03  3e-18  9e-16\n",
      "19: -7.1345e+06 -7.1346e+06  8e+01  2e-18  4e-16\n",
      "20: -7.1346e+06 -7.1346e+06  8e-01  5e-19  3e-16\n",
      "Optimal solution found.\n",
      "     pcost       dcost       gap    pres   dres\n",
      " 0: -7.7571e+06 -7.7571e+06  3e+01  6e+00  4e-09\n",
      " 1: -7.7571e+06 -7.7571e+06  9e+00  2e+00  1e-09\n",
      " 2: -7.7571e+06 -7.7571e+06  9e+00  2e+00  1e-09\n",
      " 3: -7.7038e+06 -7.7116e+06  1e+05  2e+00  1e-09\n",
      " 4: -7.6467e+06 -7.6767e+06  2e+05  2e+00  1e-09\n",
      " 5: -7.6614e+06 -7.6458e+06  5e+05  2e+00  1e-09\n",
      " 6: -7.6253e+06 -7.5482e+06  3e+05  8e-01  6e-10\n",
      " 7: -7.5097e+06 -7.4730e+06  3e+05  4e-01  3e-10\n",
      " 8: -7.5061e+06 -7.4404e+06  1e+05  1e-01  1e-10\n",
      " 9: -7.4554e+06 -7.3894e+06  4e+04  5e-02  4e-11\n",
      "10: -7.4299e+06 -7.3375e+06  5e+04  4e-02  3e-11\n",
      "11: -7.3382e+06 -7.2933e+06  2e+04  1e-02  8e-12\n",
      "12: -7.3248e+06 -7.2896e+06  2e+04  8e-03  6e-12\n",
      "13: -7.3182e+06 -7.2492e+06  3e+04  6e-03  5e-12\n",
      "14: -7.2842e+06 -7.2099e+06  3e+04  4e-03  3e-12\n",
      "15: -7.2840e+06 -7.1880e+06  4e+04  4e-03  3e-12\n",
      "16: -7.2071e+06 -7.1109e+06  1e+04  1e-03  1e-12\n",
      "17: -7.0769e+06 -7.0825e+06  6e+03  2e-18  4e-15\n",
      "18: -7.0823e+06 -7.0824e+06  6e+01  4e-18  2e-15\n",
      "19: -7.0824e+06 -7.0824e+06  6e-01  1e-18  1e-15\n",
      "Optimal solution found.\n",
      "     pcost       dcost       gap    pres   dres\n",
      " 0: -7.7571e+06 -7.7571e+06  3e+01  6e+00  4e-09\n",
      " 1: -7.7571e+06 -7.7571e+06  9e+00  2e+00  1e-09\n",
      " 2: -7.7571e+06 -7.7571e+06  9e+00  2e+00  1e-09\n",
      " 3: -7.7038e+06 -7.7116e+06  1e+05  2e+00  1e-09\n",
      " 4: -7.6467e+06 -7.6770e+06  2e+05  2e+00  1e-09\n",
      " 5: -7.6601e+06 -7.6485e+06  5e+05  2e+00  1e-09\n",
      " 6: -7.6245e+06 -7.5567e+06  4e+05  8e-01  6e-10\n",
      " 7: -7.5151e+06 -7.4706e+06  3e+05  4e-01  3e-10\n",
      " 8: -7.5179e+06 -7.4302e+06  1e+05  2e-01  1e-10\n",
      " 9: -7.4599e+06 -7.3637e+06  4e+04  6e-02  4e-11\n",
      "10: -7.3817e+06 -7.2838e+06  8e+04  3e-02  3e-11\n",
      "11: -7.3448e+06 -7.2859e+06  7e+04  2e-02  1e-11\n",
      "12: -7.3007e+06 -7.2730e+06  3e+04  8e-03  6e-12\n",
      "13: -7.3010e+06 -7.2514e+06  3e+04  8e-03  6e-12\n",
      "14: -7.2867e+06 -7.2214e+06  3e+04  6e-03  4e-12\n",
      "15: -7.2704e+06 -7.1613e+06  4e+04  4e-03  3e-12\n",
      "16: -7.0849e+06 -7.0222e+06  5e+04  1e-03  8e-13\n",
      "17: -7.0180e+06 -7.0168e+06  9e+02  2e-05  2e-14\n",
      "18: -7.0167e+06 -7.0167e+06  9e+00  2e-07  9e-15\n",
      "19: -7.0167e+06 -7.0167e+06  9e-02  2e-09  6e-15\n",
      "Optimal solution found.\n",
      "     pcost       dcost       gap    pres   dres\n",
      " 0: -7.7571e+06 -7.7571e+06  3e+01  6e+00  4e-09\n",
      " 1: -7.7571e+06 -7.7571e+06  9e+00  2e+00  1e-09\n",
      " 2: -7.7571e+06 -7.7571e+06  9e+00  2e+00  1e-09\n",
      " 3: -7.7038e+06 -7.7116e+06  1e+05  2e+00  1e-09\n",
      " 4: -7.6466e+06 -7.6770e+06  2e+05  2e+00  1e-09\n",
      " 5: -7.6595e+06 -7.6491e+06  5e+05  2e+00  1e-09\n",
      " 6: -7.6168e+06 -7.5515e+06  4e+05  8e-01  6e-10\n",
      " 7: -7.5345e+06 -7.4748e+06  3e+05  4e-01  3e-10\n",
      " 8: -7.5267e+06 -7.4264e+06  1e+05  2e-01  1e-10\n",
      " 9: -7.4891e+06 -7.3644e+06  7e+04  9e-02  7e-11\n",
      "10: -7.3316e+06 -7.2572e+06  5e+04  2e-02  2e-11\n",
      "11: -7.2847e+06 -7.2504e+06  2e+04  1e-02  7e-12\n",
      "12: -7.2868e+06 -7.2381e+06  2e+04  9e-03  7e-12\n",
      "13: -7.2784e+06 -7.2204e+06  2e+04  7e-03  5e-12\n",
      "14: -7.2524e+06 -7.1074e+06  2e+04  5e-03  3e-12\n",
      "15: -6.8078e+06 -6.9544e+06  1e+05  4e-18  4e-15\n",
      "16: -6.9371e+06 -6.9421e+06  5e+03  2e-18  6e-15\n",
      "17: -6.9420e+06 -6.9421e+06  5e+01  3e-18  1e-15\n",
      "18: -6.9421e+06 -6.9421e+06  5e-01  5e-18  1e-15\n",
      "Optimal solution found.\n",
      "     pcost       dcost       gap    pres   dres\n",
      " 0: -7.7571e+06 -7.7571e+06  3e+01  6e+00  4e-09\n",
      " 1: -7.7571e+06 -7.7571e+06  9e+00  2e+00  1e-09\n",
      " 2: -7.7571e+06 -7.7571e+06  9e+00  2e+00  1e-09\n",
      " 3: -7.7038e+06 -7.7116e+06  1e+05  2e+00  1e-09\n",
      " 4: -7.6471e+06 -7.6754e+06  2e+05  2e+00  1e-09\n",
      " 5: -7.6639e+06 -7.6395e+06  5e+05  2e+00  1e-09\n",
      " 6: -7.3968e+06 -7.5790e+06  1e+06  1e+00  9e-10\n",
      " 7: -7.4318e+06 -7.5246e+06  1e+06  1e+00  8e-10\n",
      " 8: -7.4746e+06 -7.4458e+06  4e+05  4e-01  3e-10\n",
      " 9: -7.4661e+06 -7.3753e+06  1e+05  1e-01  9e-11\n",
      "10: -7.3580e+06 -7.2474e+06  6e+04  4e-02  3e-11\n",
      "11: -7.2799e+06 -7.2303e+06  3e+04  1e-02  1e-11\n",
      "12: -7.2700e+06 -7.2204e+06  3e+04  1e-02  9e-12\n",
      "13: -7.2590e+06 -7.2030e+06  2e+04  8e-03  6e-12\n",
      "14: -7.2453e+06 -7.0851e+06  4e+04  7e-03  5e-12\n",
      "15: -6.9190e+06 -6.8579e+06  8e+04  1e-03  9e-13\n",
      "16: -6.8564e+06 -6.8552e+06  9e+02  2e-05  2e-14\n",
      "17: -6.8552e+06 -6.8552e+06  9e+00  2e-07  1e-14\n",
      "18: -6.8552e+06 -6.8552e+06  9e-02  2e-09  2e-14\n",
      "Optimal solution found.\n",
      "     pcost       dcost       gap    pres   dres\n",
      " 0: -7.7571e+06 -7.7571e+06  3e+01  6e+00  4e-09\n",
      " 1: -7.7571e+06 -7.7571e+06  9e+00  2e+00  1e-09\n",
      " 2: -7.7571e+06 -7.7571e+06  9e+00  2e+00  1e-09\n",
      " 3: -7.7038e+06 -7.7116e+06  1e+05  2e+00  1e-09\n",
      " 4: -7.6475e+06 -7.6763e+06  2e+05  2e+00  1e-09\n",
      " 5: -7.6674e+06 -7.6406e+06  5e+05  2e+00  1e-09\n",
      " 6: -7.4511e+06 -7.5584e+06  9e+05  1e+00  8e-10\n",
      " 7: -7.4864e+06 -7.5013e+06  9e+05  1e+00  7e-10\n",
      " 8: -7.5183e+06 -7.4340e+06  3e+05  3e-01  3e-10\n",
      " 9: -7.4876e+06 -7.3636e+06  2e+05  2e-01  1e-10\n",
      "10: -7.4226e+06 -7.2822e+06  6e+04  6e-02  5e-11\n",
      "11: -7.3097e+06 -7.2263e+06  5e+04  3e-02  2e-11\n",
      "12: -7.2746e+06 -7.2182e+06  3e+04  2e-02  1e-11\n",
      "13: -7.2549e+06 -7.1903e+06  4e+04  1e-02  9e-12\n",
      "14: -7.2558e+06 -7.1362e+06  5e+04  1e-02  7e-12\n",
      "15: -7.1905e+06 -6.9542e+06  4e+04  6e-03  4e-12\n",
      "16: -6.6507e+06 -6.7735e+06  1e+05  2e-18  5e-15\n",
      "17: -6.7637e+06 -6.7667e+06  3e+03  1e-18  5e-15\n",
      "18: -6.7666e+06 -6.7666e+06  3e+01  1e-18  4e-16\n",
      "19: -6.7666e+06 -6.7666e+06  3e-01  2e-18  3e-16\n",
      "Optimal solution found.\n",
      "     pcost       dcost       gap    pres   dres\n",
      " 0: -7.7571e+06 -7.7571e+06  3e+01  6e+00  4e-09\n",
      " 1: -7.7571e+06 -7.7571e+06  9e+00  2e+00  1e-09\n",
      " 2: -7.7571e+06 -7.7571e+06  9e+00  2e+00  1e-09\n",
      " 3: -7.7038e+06 -7.7116e+06  1e+05  2e+00  1e-09\n",
      " 4: -7.6473e+06 -7.6761e+06  2e+05  2e+00  1e-09\n",
      " 5: -7.6676e+06 -7.6379e+06  5e+05  2e+00  1e-09\n",
      " 6: -7.4243e+06 -7.5625e+06  9e+05  1e+00  8e-10\n",
      " 7: -7.4642e+06 -7.5041e+06  9e+05  1e+00  7e-10\n",
      " 8: -7.5124e+06 -7.4326e+06  3e+05  3e-01  2e-10\n",
      " 9: -7.4819e+06 -7.3669e+06  2e+05  2e-01  1e-10\n",
      "10: -7.4118e+06 -7.2723e+06  5e+04  6e-02  4e-11\n",
      "11: -7.2798e+06 -7.2203e+06  3e+04  2e-02  1e-11\n",
      "12: -7.2785e+06 -7.2097e+06  3e+04  2e-02  1e-11\n",
      "13: -7.2601e+06 -7.1605e+06  2e+04  1e-02  8e-12\n",
      "14: -7.2504e+06 -7.1306e+06  3e+04  1e-02  7e-12\n",
      "15: -7.2253e+06 -7.0017e+06  5e+04  8e-03  6e-12\n",
      "16: -6.5136e+06 -6.6835e+06  2e+05  3e-04  2e-13\n",
      "17: -6.6549e+06 -6.6728e+06  2e+04  1e-18  1e-14\n",
      "18: -6.6704e+06 -6.6705e+06  2e+02  2e-18  2e-16\n",
      "19: -6.6705e+06 -6.6705e+06  2e+00  1e-18  2e-16\n",
      "Optimal solution found.\n",
      "     pcost       dcost       gap    pres   dres\n",
      " 0: -7.7571e+06 -7.7571e+06  3e+01  5e+00  5e-09\n",
      " 1: -7.7571e+06 -7.7571e+06  8e+00  2e+00  1e-09\n",
      " 2: -7.7571e+06 -7.7571e+06  8e+00  2e+00  1e-09\n",
      " 3: -7.7437e+06 -7.7343e+06  3e+04  1e+00  1e-09\n",
      " 4: -7.7431e+06 -7.7324e+06  3e+04  1e+00  1e-09\n",
      " 5: -7.7279e+06 -7.6925e+06  5e+04  1e+00  1e-09\n",
      " 6: -7.6519e+06 -7.6356e+06  2e+05  1e+00  9e-10\n",
      " 7: -7.6453e+06 -7.6190e+06  3e+05  9e-01  8e-10\n",
      " 8: -7.6591e+06 -7.5783e+06  3e+05  6e-01  5e-10\n",
      " 9: -7.6050e+06 -7.4954e+06  3e+05  4e-01  3e-10\n",
      "10: -7.5553e+06 -7.4449e+06  6e+04  1e-01  1e-10\n",
      "11: -7.5191e+06 -7.3666e+06  7e+04  9e-02  8e-11\n",
      "12: -7.3866e+06 -7.2403e+06  9e+04  5e-02  4e-11\n",
      "13: -7.3112e+06 -7.2159e+06  7e+04  3e-02  2e-11\n",
      "14: -7.3053e+06 -7.2020e+06  7e+04  2e-02  2e-11\n",
      "15: -7.2529e+06 -7.1562e+06  3e+04  1e-02  9e-12\n",
      "16: -7.2518e+06 -7.1298e+06  3e+04  1e-02  9e-12\n",
      "17: -7.2240e+06 -6.9651e+06  5e+04  8e-03  7e-12\n",
      "18: -6.8009e+06 -6.6007e+06  2e+05  3e-03  3e-12\n",
      "19: -6.5902e+06 -6.5811e+06  5e+03  9e-05  8e-14\n",
      "20: -6.5812e+06 -6.5811e+06  5e+01  9e-07  2e-14\n",
      "21: -6.5811e+06 -6.5811e+06  5e-01  9e-09  2e-14\n",
      "Optimal solution found.\n",
      "     pcost       dcost       gap    pres   dres\n",
      " 0: -7.7571e+06 -7.7571e+06  3e+01  5e+00  5e-09\n",
      " 1: -7.7571e+06 -7.7571e+06  7e+00  2e+00  1e-09\n",
      " 2: -7.7571e+06 -7.7571e+06  7e+00  2e+00  1e-09\n",
      " 3: -7.7536e+06 -7.7421e+06  7e+03  2e+00  1e-09\n",
      " 4: -7.7517e+06 -7.7391e+06  8e+03  1e+00  1e-09\n",
      " 5: -7.7417e+06 -7.7060e+06  3e+04  1e+00  1e-09\n",
      " 6: -7.6620e+06 -7.6787e+06  2e+05  1e+00  1e-09\n",
      " 7: -7.6518e+06 -7.6321e+06  2e+05  8e-01  7e-10\n",
      " 8: -7.6001e+06 -7.5742e+06  2e+05  5e-01  4e-10\n",
      " 9: -7.5790e+06 -7.5513e+06  1e+05  3e-01  2e-10\n",
      "10: -7.5684e+06 -7.5159e+06  1e+05  2e-01  2e-10\n",
      "11: -7.5330e+06 -7.4263e+06  9e+04  1e-01  1e-10\n",
      "12: -7.4642e+06 -7.3264e+06  8e+04  7e-02  6e-11\n",
      "13: -7.3929e+06 -7.2437e+06  1e+05  5e-02  4e-11\n",
      "14: -7.3430e+06 -7.2225e+06  9e+04  3e-02  3e-11\n",
      "15: -7.3139e+06 -7.1934e+06  8e+04  2e-02  2e-11\n",
      "16: -7.2650e+06 -7.1295e+06  5e+04  1e-02  1e-11\n",
      "17: -7.2446e+06 -7.0660e+06  6e+04  1e-02  9e-12\n",
      "18: -7.1475e+06 -6.7839e+06  9e+04  7e-03  6e-12\n",
      "19: -6.9803e+06 -6.6073e+06  1e+05  5e-03  4e-12\n",
      "20: -6.9651e+06 -6.6472e+06  1e+05  4e-03  4e-12\n",
      "21: -6.6895e+06 -6.5537e+06  7e+04  1e-03  1e-12\n",
      "22: -6.4961e+06 -6.4921e+06  3e+04  2e-04  2e-13\n",
      "23: -6.4917e+06 -6.4917e+06  3e+02  2e-06  2e-15\n",
      "24: -6.4917e+06 -6.4917e+06  3e+00  2e-08  1e-16\n",
      "Optimal solution found.\n",
      "     pcost       dcost       gap    pres   dres\n",
      " 0: -7.7571e+06 -7.7571e+06  3e+01  5e+00  5e-09\n",
      " 1: -7.7571e+06 -7.7571e+06  6e+00  1e+00  1e-09\n",
      " 2: -7.7571e+06 -7.7571e+06  6e+00  1e+00  1e-09\n",
      " 3: -7.7555e+06 -7.7495e+06  3e+03  1e+00  1e-09\n",
      " 4: -7.7548e+06 -7.7375e+06  6e+03  1e+00  1e-09\n",
      " 5: -7.7378e+06 -7.6975e+06  4e+04  1e+00  1e-09\n",
      " 6: -7.7158e+06 -7.6535e+06  4e+04  8e-01  7e-10\n",
      " 7: -7.6924e+06 -7.6198e+06  4e+04  6e-01  5e-10\n",
      " 8: -7.6457e+06 -7.5813e+06  4e+04  4e-01  3e-10\n",
      " 9: -7.6168e+06 -7.5499e+06  5e+04  3e-01  2e-10\n",
      "10: -7.6043e+06 -7.5318e+06  5e+04  2e-01  2e-10\n",
      "11: -7.5741e+06 -7.4932e+06  4e+04  1e-01  1e-10\n",
      "12: -7.5602e+06 -7.4563e+06  5e+04  1e-01  1e-10\n",
      "13: -7.5050e+06 -7.3693e+06  6e+04  7e-02  6e-11\n",
      "14: -7.4854e+06 -7.3039e+06  9e+04  6e-02  5e-11\n",
      "15: -7.3570e+06 -7.2275e+06  6e+04  3e-02  2e-11\n",
      "16: -7.3529e+06 -7.2174e+06  6e+04  2e-02  2e-11\n",
      "17: -7.3076e+06 -7.1714e+06  4e+04  2e-02  1e-11\n",
      "18: -7.2552e+06 -7.1018e+06  6e+04  1e-02  1e-11\n",
      "19: -7.2547e+06 -7.0693e+06  6e+04  1e-02  1e-11\n",
      "20: -7.2019e+06 -6.8816e+06  6e+04  8e-03  7e-12\n",
      "21: -6.1921e+06 -6.5176e+06  3e+05  1e-17  6e-16\n",
      "22: -6.3675e+06 -6.4904e+06  1e+05  3e-18  9e-16\n",
      "23: -6.2960e+06 -6.4106e+06  1e+05  4e-18  1e-15\n",
      "24: -6.4048e+06 -6.4061e+06  1e+03  3e-18  4e-16\n",
      "25: -6.4059e+06 -6.4059e+06  1e+01  1e-18  4e-16\n",
      "26: -6.4059e+06 -6.4059e+06  1e-01  2e-18  4e-16\n",
      "Optimal solution found.\n",
      "     pcost       dcost       gap    pres   dres\n",
      " 0: -7.7571e+06 -7.7571e+06  3e+01  5e+00  5e-09\n",
      " 1: -7.7571e+06 -7.7571e+06  7e+00  2e+00  1e-09\n",
      " 2: -7.7571e+06 -7.7571e+06  7e+00  1e+00  1e-09\n",
      " 3: -7.7445e+06 -7.7355e+06  3e+04  1e+00  1e-09\n",
      " 4: -7.7324e+06 -7.7137e+06  5e+04  1e+00  1e-09\n",
      " 5: -7.7043e+06 -7.6661e+06  1e+05  1e+00  1e-09\n",
      " 6: -7.5922e+06 -7.6465e+06  4e+05  1e+00  1e-09\n",
      " 7: -7.6211e+06 -7.5991e+06  6e+05  1e+00  1e-09\n",
      " 8: -7.6613e+06 -7.6010e+06  7e+05  1e+00  9e-10\n",
      " 9: -7.6602e+06 -7.5306e+06  7e+05  8e-01  7e-10\n",
      "10: -7.5516e+06 -7.4633e+06  3e+05  3e-01  2e-10\n",
      "11: -7.5277e+06 -7.4228e+06  2e+05  2e-01  1e-10\n",
      "12: -7.4664e+06 -7.3306e+06  6e+04  6e-02  5e-11\n",
      "13: -7.3965e+06 -7.2578e+06  6e+04  4e-02  3e-11\n",
      "14: -7.3250e+06 -7.2184e+06  5e+04  2e-02  2e-11\n",
      "15: -7.3080e+06 -7.1899e+06  5e+04  2e-02  2e-11\n",
      "16: -7.2398e+06 -7.0938e+06  5e+04  1e-02  9e-12\n",
      "17: -7.2435e+06 -7.0273e+06  6e+04  1e-02  8e-12\n",
      "18: -7.1191e+06 -6.7092e+06  6e+04  6e-03  5e-12\n",
      "19: -6.8562e+06 -6.4859e+06  1e+05  3e-03  3e-12\n",
      "20: -6.7805e+06 -6.3981e+06  1e+05  3e-03  2e-12\n",
      "21: -6.4123e+06 -6.3220e+06  4e+04  5e-04  5e-13\n",
      "22: -6.3210e+06 -6.3196e+06  7e+02  8e-06  8e-15\n",
      "23: -6.3196e+06 -6.3196e+06  7e+00  8e-08  3e-15\n",
      "24: -6.3196e+06 -6.3196e+06  7e-02  8e-10  5e-15\n",
      "Optimal solution found.\n"
     ]
    },
    {
     "data": {
      "text/plain": [
       "0"
      ]
     },
     "execution_count": 339,
     "metadata": {},
     "output_type": "execute_result"
    }
   ],
   "source": [
    "find_best_k(X_train, y_train, X_test, y_test, 'mape')"
   ]
  },
  {
   "cell_type": "code",
   "execution_count": 340,
   "metadata": {},
   "outputs": [
    {
     "data": {
      "text/plain": [
       "array([[-1.,  1.,  0.,  0.,  0.,  0.,  0.,  0.,  0.,  0.,  0.,  0.,  0.,\n",
       "         0.,  0.],\n",
       "       [ 0., -1.,  1.,  0.,  0.,  0.,  0.,  0.,  0.,  0.,  0.,  0.,  0.,\n",
       "         0.,  0.],\n",
       "       [ 0.,  0., -1.,  1.,  0.,  0.,  0.,  0.,  0.,  0.,  0.,  0.,  0.,\n",
       "         0.,  0.],\n",
       "       [ 0.,  0.,  0., -1.,  1.,  0.,  0.,  0.,  0.,  0.,  0.,  0.,  0.,\n",
       "         0.,  0.],\n",
       "       [ 0.,  0.,  0.,  0., -1.,  1.,  0.,  0.,  0.,  0.,  0.,  0.,  0.,\n",
       "         0.,  0.],\n",
       "       [ 0.,  0.,  0.,  0.,  0., -1.,  1.,  0.,  0.,  0.,  0.,  0.,  0.,\n",
       "         0.,  0.],\n",
       "       [ 0.,  0.,  0.,  0.,  0.,  0., -1.,  1.,  0.,  0.,  0.,  0.,  0.,\n",
       "         0.,  0.],\n",
       "       [ 0.,  0.,  0.,  0.,  0.,  0.,  0., -1.,  1.,  0.,  0.,  0.,  0.,\n",
       "         0.,  0.],\n",
       "       [ 0.,  0.,  0.,  0.,  0.,  0.,  0.,  0., -1.,  1.,  0.,  0.,  0.,\n",
       "         0.,  0.],\n",
       "       [ 0.,  0.,  0.,  0.,  0.,  0.,  0.,  0.,  0., -1.,  1.,  0.,  0.,\n",
       "         0.,  0.],\n",
       "       [ 0.,  0.,  0.,  0.,  0.,  0.,  0.,  0.,  0.,  0., -1.,  1.,  0.,\n",
       "         0.,  0.],\n",
       "       [ 0.,  0.,  0.,  0.,  0.,  0.,  0.,  0.,  0.,  0.,  0., -1.,  1.,\n",
       "         0.,  0.],\n",
       "       [ 0.,  0.,  0.,  0.,  0.,  0.,  0.,  0.,  0.,  0.,  0.,  0., -1.,\n",
       "         1.,  0.],\n",
       "       [ 0.,  0.,  0.,  0.,  0.,  0.,  0.,  0.,  0.,  0.,  0.,  0.,  0.,\n",
       "        -1.,  1.],\n",
       "       [ 0.,  0.,  0.,  0.,  0.,  0.,  0.,  0.,  0.,  0.,  0.,  0.,  0.,\n",
       "         0., -1.]])"
      ]
     },
     "execution_count": 340,
     "metadata": {},
     "output_type": "execute_result"
    }
   ],
   "source": [
    "G"
   ]
  },
  {
   "cell_type": "code",
   "execution_count": 341,
   "metadata": {},
   "outputs": [
    {
     "data": {
      "text/plain": [
       "array([5.16883349e-02, 3.38267358e-03, 3.38248664e-03, 3.38135958e-03,\n",
       "       1.59353347e-06, 1.09912679e-06, 9.56460250e-07, 8.32069981e-07,\n",
       "       7.22446130e-07, 6.17307028e-07, 5.13422958e-07, 4.10765931e-07,\n",
       "       3.08522592e-07, 2.06384205e-07, 1.04154649e-07])"
      ]
     },
     "execution_count": 341,
     "metadata": {},
     "output_type": "execute_result"
    }
   ],
   "source": [
    "gamma"
   ]
  },
  {
   "cell_type": "code",
   "execution_count": 342,
   "metadata": {},
   "outputs": [
    {
     "data": {
      "text/plain": [
       "<matplotlib.axes._subplots.AxesSubplot at 0x1a226abda0>"
      ]
     },
     "execution_count": 342,
     "metadata": {},
     "output_type": "execute_result"
    },
    {
     "data": {
      "image/png": "[encoded data removed]",
      "text/plain": [
       "<Figure size 432x288 with 1 Axes>"
      ]
     },
     "metadata": {
      "needs_background": "light"
     },
     "output_type": "display_data"
    }
   ],
   "source": [
    "pd.DataFrame({'merde': gamma}).plot()"
   ]
  },
  {
   "cell_type": "code",
   "execution_count": 343,
   "metadata": {},
   "outputs": [
    {
     "data": {
      "text/plain": [
       "0"
      ]
     },
     "execution_count": 343,
     "metadata": {},
     "output_type": "execute_result"
    }
   ],
   "source": [
    "index"
   ]
  },
  {
   "cell_type": "code",
   "execution_count": 344,
   "metadata": {},
   "outputs": [
    {
     "data": {
      "text/html": [
       "<div>\n",
       "<style scoped>\n",
       "    .dataframe tbody tr th:only-of-type {\n",
       "        vertical-align: middle;\n",
       "    }\n",
       "\n",
       "    .dataframe tbody tr th {\n",
       "        vertical-align: top;\n",
       "    }\n",
       "\n",
       "    .dataframe thead th {\n",
       "        text-align: right;\n",
       "    }\n",
       "</style>\n",
       "<table border=\"1\" class=\"dataframe\">\n",
       "  <thead>\n",
       "    <tr style=\"text-align: right;\">\n",
       "      <th></th>\n",
       "      <th>Actual</th>\n",
       "      <th>Predicted</th>\n",
       "    </tr>\n",
       "  </thead>\n",
       "  <tbody>\n",
       "    <tr>\n",
       "      <th>0</th>\n",
       "      <td>700.0</td>\n",
       "      <td>600.673689</td>\n",
       "    </tr>\n",
       "    <tr>\n",
       "      <th>1</th>\n",
       "      <td>400.0</td>\n",
       "      <td>585.939130</td>\n",
       "    </tr>\n",
       "    <tr>\n",
       "      <th>2</th>\n",
       "      <td>300.0</td>\n",
       "      <td>558.700775</td>\n",
       "    </tr>\n",
       "    <tr>\n",
       "      <th>3</th>\n",
       "      <td>500.0</td>\n",
       "      <td>536.016368</td>\n",
       "    </tr>\n",
       "    <tr>\n",
       "      <th>4</th>\n",
       "      <td>400.0</td>\n",
       "      <td>499.950513</td>\n",
       "    </tr>\n",
       "    <tr>\n",
       "      <th>5</th>\n",
       "      <td>400.0</td>\n",
       "      <td>457.358413</td>\n",
       "    </tr>\n",
       "    <tr>\n",
       "      <th>6</th>\n",
       "      <td>400.0</td>\n",
       "      <td>434.582681</td>\n",
       "    </tr>\n",
       "    <tr>\n",
       "      <th>7</th>\n",
       "      <td>400.0</td>\n",
       "      <td>402.406318</td>\n",
       "    </tr>\n",
       "    <tr>\n",
       "      <th>8</th>\n",
       "      <td>500.0</td>\n",
       "      <td>383.712662</td>\n",
       "    </tr>\n",
       "    <tr>\n",
       "      <th>9</th>\n",
       "      <td>300.0</td>\n",
       "      <td>375.191596</td>\n",
       "    </tr>\n",
       "    <tr>\n",
       "      <th>10</th>\n",
       "      <td>300.0</td>\n",
       "      <td>354.485462</td>\n",
       "    </tr>\n",
       "    <tr>\n",
       "      <th>11</th>\n",
       "      <td>700.0</td>\n",
       "      <td>333.933631</td>\n",
       "    </tr>\n",
       "    <tr>\n",
       "      <th>12</th>\n",
       "      <td>200.0</td>\n",
       "      <td>313.997792</td>\n",
       "    </tr>\n",
       "  </tbody>\n",
       "</table>\n",
       "</div>"
      ],
      "text/plain": [
       "    Actual   Predicted\n",
       "0    700.0  600.673689\n",
       "1    400.0  585.939130\n",
       "2    300.0  558.700775\n",
       "3    500.0  536.016368\n",
       "4    400.0  499.950513\n",
       "5    400.0  457.358413\n",
       "6    400.0  434.582681\n",
       "7    400.0  402.406318\n",
       "8    500.0  383.712662\n",
       "9    300.0  375.191596\n",
       "10   300.0  354.485462\n",
       "11   700.0  333.933631\n",
       "12   200.0  313.997792"
      ]
     },
     "execution_count": 344,
     "metadata": {},
     "output_type": "execute_result"
    }
   ],
   "source": [
    "df = pd.DataFrame({'Actual': y_test.flatten(), 'Predicted': y_pred.flatten()})\n",
    "df\n"
   ]
  },
  {
   "cell_type": "code",
   "execution_count": 345,
   "metadata": {
    "scrolled": false
   },
   "outputs": [
    {
     "data": {
      "image/png": "[encoded data removed]",
      "text/plain": [
       "<Figure size 720x576 with 1 Axes>"
      ]
     },
     "metadata": {
      "needs_background": "light"
     },
     "output_type": "display_data"
    }
   ],
   "source": [
    "df.plot(kind='bar',figsize=(10,8))\n",
    "plt.grid(which='major', linestyle='-', linewidth='0.5', color='green')\n",
    "plt.grid(which='minor', linestyle=':', linewidth='0.5', color='black')\n",
    "plt.show()"
   ]
  },
  {
   "cell_type": "code",
   "execution_count": 346,
   "metadata": {},
   "outputs": [
    {
     "name": "stdout",
     "output_type": "stream",
     "text": [
      "Mean Absolute Error: 115.40838985048926\n",
      "Mean Squared Error: 22791.497011691805\n",
      "Root Mean Squared Error: 150.96852987192995\n",
      "Mean Absolute percentage error: 0.2911252675084099\n",
      "Mean Square percentage error: 0.14029254990114814\n"
     ]
    }
   ],
   "source": [
    "print('Mean Absolute Error:', metrics.mean_absolute_error(y_test, y_pred))  \n",
    "print('Mean Squared Error:', metrics.mean_squared_error(y_test, y_pred))  \n",
    "print('Root Mean Squared Error:', np.sqrt(metrics.mean_squared_error(y_test, y_pred)))\n",
    "print('Mean Absolute percentage error:', mape(y_test, y_pred))  \n",
    "print('Mean Square percentage error:', mspe(y_test, y_pred))  \n",
    "\n",
    "\n",
    "\n",
    "\n"
   ]
  },
  {
   "cell_type": "code",
   "execution_count": 243,
   "metadata": {},
   "outputs": [
    {
     "ename": "NameError",
     "evalue": "name 'KFold' is not defined",
     "output_type": "error",
     "traceback": [
      "\u001b[0;31m---------------------------------------------------------------------------\u001b[0m",
      "\u001b[0;31mNameError\u001b[0m                                 Traceback (most recent call last)",
      "\u001b[0;32m<ipython-input-243-087d9578703f>\u001b[0m in \u001b[0;36m<module>\u001b[0;34m\u001b[0m\n\u001b[1;32m      2\u001b[0m \u001b[0my_preds\u001b[0m \u001b[0;34m=\u001b[0m \u001b[0;34m[\u001b[0m\u001b[0;34m]\u001b[0m\u001b[0;34m\u001b[0m\u001b[0;34m\u001b[0m\u001b[0m\n\u001b[1;32m      3\u001b[0m \u001b[0my_tests\u001b[0m \u001b[0;34m=\u001b[0m \u001b[0;34m[\u001b[0m\u001b[0;34m]\u001b[0m\u001b[0;34m\u001b[0m\u001b[0;34m\u001b[0m\u001b[0m\n\u001b[0;32m----> 4\u001b[0;31m \u001b[0mkfold\u001b[0m \u001b[0;34m=\u001b[0m \u001b[0mKFold\u001b[0m\u001b[0;34m(\u001b[0m\u001b[0;36m5\u001b[0m\u001b[0;34m,\u001b[0m \u001b[0;32mTrue\u001b[0m\u001b[0;34m)\u001b[0m\u001b[0;34m\u001b[0m\u001b[0;34m\u001b[0m\u001b[0m\n\u001b[0m\u001b[1;32m      5\u001b[0m \u001b[0;32mfor\u001b[0m \u001b[0mtrain\u001b[0m\u001b[0;34m,\u001b[0m \u001b[0mtest\u001b[0m \u001b[0;32min\u001b[0m \u001b[0mkfold\u001b[0m\u001b[0;34m.\u001b[0m\u001b[0msplit\u001b[0m\u001b[0;34m(\u001b[0m\u001b[0mX\u001b[0m\u001b[0;34m)\u001b[0m\u001b[0;34m:\u001b[0m\u001b[0;34m\u001b[0m\u001b[0;34m\u001b[0m\u001b[0m\n\u001b[1;32m      6\u001b[0m     \u001b[0mprint\u001b[0m\u001b[0;34m(\u001b[0m\u001b[0;34m'train: %s, test: %s'\u001b[0m \u001b[0;34m%\u001b[0m \u001b[0;34m(\u001b[0m\u001b[0mtrain\u001b[0m\u001b[0;34m,\u001b[0m \u001b[0mtest\u001b[0m\u001b[0;34m)\u001b[0m\u001b[0;34m)\u001b[0m\u001b[0;34m\u001b[0m\u001b[0;34m\u001b[0m\u001b[0m\n",
      "\u001b[0;31mNameError\u001b[0m: name 'KFold' is not defined"
     ]
    }
   ],
   "source": [
    "#maes = []\n",
    "y_preds = []\n",
    "y_tests = []\n",
    "kfold = KFold(5, True)\n",
    "for train, test in kfold.split(X):\n",
    "    print('train: %s, test: %s' % (train, test))\n",
    "    X_train, X_test = X[train], X[test]\n",
    "    y_train, y_test = y[train], y[test]\n",
    "    \n",
    "    k = find_best_k(X_train, y_train, X_test, y_test)\n",
    "    P, q, G, h = generate_params(X_train, y_train,k)\n",
    "    gamma = cvxopt_solve_qp(P, q, G, h)\n",
    "    y_pred = X_test@gammas\n",
    "    y_preds.append(y_pred)\n",
    "    y_tests.append(y_test)\n",
    "    "
   ]
  },
  {
   "cell_type": "code",
   "execution_count": 1005,
   "metadata": {},
   "outputs": [],
   "source": [
    "y_tests = np.concatenate(y_tests)\n",
    "y_preds = np.concatenate(y_preds)"
   ]
  },
  {
   "cell_type": "code",
   "execution_count": 1012,
   "metadata": {},
   "outputs": [
    {
     "data": {
      "text/html": [
       "<div>\n",
       "<style scoped>\n",
       "    .dataframe tbody tr th:only-of-type {\n",
       "        vertical-align: middle;\n",
       "    }\n",
       "\n",
       "    .dataframe tbody tr th {\n",
       "        vertical-align: top;\n",
       "    }\n",
       "\n",
       "    .dataframe thead th {\n",
       "        text-align: right;\n",
       "    }\n",
       "</style>\n",
       "<table border=\"1\" class=\"dataframe\">\n",
       "  <thead>\n",
       "    <tr style=\"text-align: right;\">\n",
       "      <th></th>\n",
       "      <th>Actual</th>\n",
       "      <th>Predicted</th>\n",
       "    </tr>\n",
       "  </thead>\n",
       "  <tbody>\n",
       "    <tr>\n",
       "      <th>0</th>\n",
       "      <td>[0, 2, 0, 0, 0, 0, 116, 0, 65, 0, 1144, 0, 700]</td>\n",
       "      <td>[0.0, 0.0018038010188065844, 0.018038012255751...</td>\n",
       "    </tr>\n",
       "    <tr>\n",
       "      <th>1</th>\n",
       "      <td>[0, 0, 1, 0, 0, 1046, 1096, 1700, 700, 700, 40...</td>\n",
       "      <td>[0.0, 0.1893991814223364, 0.4437352552749312, ...</td>\n",
       "    </tr>\n",
       "    <tr>\n",
       "      <th>2</th>\n",
       "      <td>[0, 0, 0, 0, 228, 833, 1569, 1641, 800, 500, 5...</td>\n",
       "      <td>[0.0, 0.03246842773616533, 0.11363950470608329...</td>\n",
       "    </tr>\n",
       "    <tr>\n",
       "      <th>3</th>\n",
       "      <td>[0, 1, 0, 0, 0, 0, 1399, 0, 1000, 1000, 500, 0...</td>\n",
       "      <td>[0.0, 0.003607602869605165, 1.0209518597905352...</td>\n",
       "    </tr>\n",
       "    <tr>\n",
       "      <th>4</th>\n",
       "      <td>[0, 0, 0, 11, 0, 0, 648, 600, 0, 800, 300, 500]</td>\n",
       "      <td>[0.0, 0.0649368564421779, 0.6421534847854843, ...</td>\n",
       "    </tr>\n",
       "  </tbody>\n",
       "</table>\n",
       "</div>"
      ],
      "text/plain": [
       "                                              Actual  \\\n",
       "0    [0, 2, 0, 0, 0, 0, 116, 0, 65, 0, 1144, 0, 700]   \n",
       "1  [0, 0, 1, 0, 0, 1046, 1096, 1700, 700, 700, 40...   \n",
       "2  [0, 0, 0, 0, 228, 833, 1569, 1641, 800, 500, 5...   \n",
       "3  [0, 1, 0, 0, 0, 0, 1399, 0, 1000, 1000, 500, 0...   \n",
       "4    [0, 0, 0, 11, 0, 0, 648, 600, 0, 800, 300, 500]   \n",
       "\n",
       "                                           Predicted  \n",
       "0  [0.0, 0.0018038010188065844, 0.018038012255751...  \n",
       "1  [0.0, 0.1893991814223364, 0.4437352552749312, ...  \n",
       "2  [0.0, 0.03246842773616533, 0.11363950470608329...  \n",
       "3  [0.0, 0.003607602869605165, 1.0209518597905352...  \n",
       "4  [0.0, 0.0649368564421779, 0.6421534847854843, ...  "
      ]
     },
     "execution_count": 1012,
     "metadata": {},
     "output_type": "execute_result"
    }
   ],
   "source": [
    "df = pd.DataFrame({'Actual': y_tests.flatten(), 'Predicted': y_preds.flatten()})\n",
    "df.head()\n"
   ]
  },
  {
   "cell_type": "code",
   "execution_count": 1007,
   "metadata": {},
   "outputs": [
    {
     "data": {
      "image/png": "[encoded data removed]",
      "text/plain": [
       "<Figure size 720x576 with 1 Axes>"
      ]
     },
     "metadata": {
      "needs_background": "light"
     },
     "output_type": "display_data"
    }
   ],
   "source": [
    "df.plot(kind='bar',figsize=(10,8))\n",
    "plt.grid(which='major', linestyle='-', linewidth='0.5', color='green')\n",
    "plt.grid(which='minor', linestyle=':', linewidth='0.5', color='black')\n",
    "plt.show()"
   ]
  },
  {
   "cell_type": "code",
   "execution_count": null,
   "metadata": {},
   "outputs": [],
   "source": []
  }
 ],
 "metadata": {
  "kernelspec": {
   "display_name": "Python 3",
   "language": "python",
   "name": "python3"
  },
  "language_info": {
   "codemirror_mode": {
    "name": "ipython",
    "version": 3
   },
   "file_extension": ".py",
   "mimetype": "text/x-python",
   "name": "python",
   "nbconvert_exporter": "python",
   "pygments_lexer": "ipython3",
   "version": "3.7.3"
  }
 },
 "nbformat": 4,
 "nbformat_minor": 2
}
