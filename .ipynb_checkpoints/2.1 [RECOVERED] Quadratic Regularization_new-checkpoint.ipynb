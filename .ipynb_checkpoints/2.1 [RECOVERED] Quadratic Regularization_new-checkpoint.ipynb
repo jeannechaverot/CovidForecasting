{
 "cells": [
  {
   "cell_type": "code",
   "execution_count": 1,
   "metadata": {},
   "outputs": [],
   "source": [
    "import pandas as pd  \n",
    "import numpy as np  \n",
    "from smoothing import *\n",
    "import matplotlib.pyplot as plt  \n",
    "\n",
    "import seaborn as seabornInstance \n",
    "#from sklearn.model_selection import train_test_split \n",
    "#from sklearn.linear_model import LinearRegression\n",
    "from sklearn import metrics\n",
    "%matplotlib inline"
   ]
  },
  {
   "cell_type": "markdown",
   "metadata": {},
   "source": [
    "### Import data"
   ]
  },
  {
   "cell_type": "code",
   "execution_count": 2,
   "metadata": {},
   "outputs": [],
   "source": [
    "#data = pd.concat([X, y_recovered, y_deaths, y_recovered_smoothed, y_deaths_smoothed], axis=1)"
   ]
  },
  {
   "cell_type": "code",
   "execution_count": 3,
   "metadata": {},
   "outputs": [],
   "source": [
    "#Number of infected for past two weeks\n",
    "X = pd.read_csv('data.csv').iloc[:,1:-3].values\n",
    "\n",
    "#Number of recovered\n",
    "y_recovered = pd.read_csv('data.csv').iloc[:,-3].values\n",
    "\n",
    "#Number of recovered with transformation to smooth data\n",
    "y_rec_smoothed = pd.read_csv('data.csv').iloc[:,-1].values"
   ]
  },
  {
   "cell_type": "markdown",
   "metadata": {},
   "source": [
    "# Smoothing"
   ]
  },
  {
   "cell_type": "markdown",
   "metadata": {},
   "source": [
    "All different smoothing that I have tried:\n",
    "- simple exponential smoothing: smaller error:0.19\n",
    "-"
   ]
  },
  {
   "cell_type": "markdown",
   "metadata": {},
   "source": [
    "### Simple Exponential Smoothing"
   ]
  },
  {
   "cell_type": "code",
   "execution_count": 10,
   "metadata": {},
   "outputs": [
    {
     "ename": "NameError",
     "evalue": "name 'x' is not defined",
     "output_type": "error",
     "traceback": [
      "\u001b[0;31m---------------------------------------------------------------------------\u001b[0m",
      "\u001b[0;31mNameError\u001b[0m                                 Traceback (most recent call last)",
      "\u001b[0;32m<ipython-input-10-6ca2efce9e5c>\u001b[0m in \u001b[0;36m<module>\u001b[0;34m\u001b[0m\n\u001b[0;32m----> 1\u001b[0;31m \u001b[0msimple_exponential_smoothing\u001b[0m\u001b[0;34m(\u001b[0m\u001b[0mx\u001b[0m\u001b[0;34m,\u001b[0m \u001b[0malpha\u001b[0m\u001b[0;34m)\u001b[0m\u001b[0;34m\u001b[0m\u001b[0;34m\u001b[0m\u001b[0m\n\u001b[0m",
      "\u001b[0;31mNameError\u001b[0m: name 'x' is not defined"
     ]
    }
   ],
   "source": [
    "simple_exponential_smoothing(x, alpha)"
   ]
  },
  {
   "cell_type": "code",
   "execution_count": 4,
   "metadata": {},
   "outputs": [
    {
     "ename": "NameError",
     "evalue": "name 'y_rec_smoothed' is not defined",
     "output_type": "error",
     "traceback": [
      "\u001b[0;31m---------------------------------------------------------------------------\u001b[0m",
      "\u001b[0;31mNameError\u001b[0m                                 Traceback (most recent call last)",
      "\u001b[0;32m<ipython-input-4-5117a69b43a9>\u001b[0m in \u001b[0;36m<module>\u001b[0;34m\u001b[0m\n\u001b[0;32m----> 1\u001b[0;31m \u001b[0mfind_best_alpha\u001b[0m\u001b[0;34m(\u001b[0m\u001b[0mX\u001b[0m\u001b[0;34m)\u001b[0m\u001b[0;34m\u001b[0m\u001b[0;34m\u001b[0m\u001b[0m\n\u001b[0m",
      "\u001b[0;32m~/Documents/EPFL_local/Semester Project | Covid-19/HACKATHON/LauzHackCovid/smoothing.py\u001b[0m in \u001b[0;36mfind_best_alpha\u001b[0;34m(X, model)\u001b[0m\n\u001b[1;32m    125\u001b[0m \u001b[0;34m\u001b[0m\u001b[0m\n\u001b[1;32m    126\u001b[0m     \u001b[0mX_train\u001b[0m\u001b[0;34m,\u001b[0m \u001b[0mX_test\u001b[0m \u001b[0;34m=\u001b[0m \u001b[0mX_new\u001b[0m\u001b[0;34m[\u001b[0m\u001b[0;34m:\u001b[0m\u001b[0mpct_80\u001b[0m\u001b[0;34m]\u001b[0m\u001b[0;34m,\u001b[0m \u001b[0mX_new\u001b[0m\u001b[0;34m[\u001b[0m\u001b[0mpct_80\u001b[0m\u001b[0;34m:\u001b[0m\u001b[0;34m]\u001b[0m\u001b[0;34m\u001b[0m\u001b[0;34m\u001b[0m\u001b[0m\n\u001b[0;32m--> 127\u001b[0;31m     \u001b[0my_train\u001b[0m\u001b[0;34m,\u001b[0m \u001b[0my_test\u001b[0m \u001b[0;34m=\u001b[0m\u001b[0my_rec_smoothed\u001b[0m\u001b[0;34m[\u001b[0m\u001b[0;34m:\u001b[0m\u001b[0mpct_80\u001b[0m\u001b[0;34m]\u001b[0m\u001b[0;34m,\u001b[0m \u001b[0my_rec_smoothed\u001b[0m\u001b[0;34m[\u001b[0m\u001b[0mpct_80\u001b[0m\u001b[0;34m:\u001b[0m\u001b[0;34m]\u001b[0m\u001b[0;34m\u001b[0m\u001b[0;34m\u001b[0m\u001b[0m\n\u001b[0m\u001b[1;32m    128\u001b[0m \u001b[0;34m\u001b[0m\u001b[0m\n\u001b[1;32m    129\u001b[0m \u001b[0;34m\u001b[0m\u001b[0m\n",
      "\u001b[0;31mNameError\u001b[0m: name 'y_rec_smoothed' is not defined"
     ]
    }
   ],
   "source": [
    "find_best_alpha(X, y_rec_smoothed)"
   ]
  },
  {
   "cell_type": "code",
   "execution_count": 13,
   "metadata": {},
   "outputs": [],
   "source": [
    "def find_best_alpha(X):\n",
    "    \"\"\"Returns optimal alpha such that MAPE error is minimized,along with the MAPE index error in question, and its value\"\"\"\n",
    "    X_new = np.zeros(X.shape)\n",
    "    alphas = [round(0.05*i, 2) for i in range(20)]\n",
    "    mapes = []\n",
    "    pct_80 = int(np.ceil(80*len(X)/100))\n",
    "\n",
    "\n",
    "    for alpha in alphas:\n",
    "        for j in range(X.shape[1]):\n",
    "            X_new[:,j]= simple_exponential_smoothing(X[:,j], alpha)\n",
    "\n",
    "\n",
    "        X_train, X_test = X_new[:pct_80], X_new[pct_80:]\n",
    "        y_train, y_test =y_rec_smoothed[:pct_80], y_rec_smoothed[pct_80:]\n",
    "\n",
    "\n",
    "        index = find_best_k(X_train, y_train, X_test, y_test, 'mape')\n",
    "        P, q, G, h = generate_params(X_train, y_train, index)\n",
    "        gamma = cvxopt_solve_qp(P, q, G, h)\n",
    "        y_pred = X_test@gamma\n",
    "\n",
    "        mapes.append(mape(y_test, y_pred))\n",
    "\n",
    "    return mapes\n",
    "\n",
    "#alphas[np.argmin(mapes)],np.argmin(mapes), min(mapes)\n"
   ]
  },
  {
   "cell_type": "markdown",
   "metadata": {},
   "source": [
    "### Gaussian Smoothing"
   ]
  },
  {
   "cell_type": "markdown",
   "metadata": {},
   "source": [
    "Find optimum K for gaussian smoothing"
   ]
  },
  {
   "cell_type": "code",
   "execution_count": 4,
   "metadata": {},
   "outputs": [
    {
     "data": {
      "text/plain": [
       "[0.1962133017320911,\n",
       " 0.19139159407688044,\n",
       " 0.19228204242441613,\n",
       " 0.19551647125345128,\n",
       " 0.1990373864834645]"
      ]
     },
     "execution_count": 4,
     "metadata": {},
     "output_type": "execute_result"
    }
   ],
   "source": [
    "find_best_K(X, y_rec_smoothed, 'even')"
   ]
  },
  {
   "cell_type": "markdown",
   "metadata": {},
   "source": [
    "Find optimum K for gaussian smoothing, odd"
   ]
  },
  {
   "cell_type": "code",
   "execution_count": 5,
   "metadata": {},
   "outputs": [
    {
     "data": {
      "text/plain": [
       "[0.2099757265627456,\n",
       " 0.2080108112263042,\n",
       " 0.20462954928996785,\n",
       " 0.21036154040556126,\n",
       " 0.21084827372445283]"
      ]
     },
     "execution_count": 5,
     "metadata": {},
     "output_type": "execute_result"
    }
   ],
   "source": [
    "find_best_K(X, y_rec_smoothed, 'odd')"
   ]
  },
  {
   "cell_type": "code",
   "execution_count": 27,
   "metadata": {},
   "outputs": [
    {
     "data": {
      "text/plain": [
       "0.19606331350419132"
      ]
     },
     "execution_count": 27,
     "metadata": {},
     "output_type": "execute_result"
    }
   ],
   "source": [
    "X_new = np.zeros(X.shape)\n",
    "for j in range(X.shape[1]):\n",
    "    X_new[:,j]= simple_exponential_smoothing(X[:,j], 0.9596)\n",
    "\n",
    "X_train, X_test = X_new[:pct_80], X_new[pct_80:]\n",
    "y_train, y_test =y_rec_smoothed[:pct_80], y_rec_smoothed[pct_80:]\n",
    "\n",
    "\n",
    "index = find_best_k(X_train, y_train, X_test, y_test, 'mape')\n",
    "P, q, G, h = generate_params(X_train, y_train, index)\n",
    "gamma = cvxopt_solve_qp(P, q, G, h)\n",
    "y_pred = X_test@gamma\n",
    "\n",
    "mape(y_test,y_pred)"
   ]
  },
  {
   "cell_type": "markdown",
   "metadata": {},
   "source": [
    "## Quadratic Regularization"
   ]
  },
  {
   "cell_type": "code",
   "execution_count": 5,
   "metadata": {},
   "outputs": [],
   "source": [
    "N = X.shape[1]"
   ]
  },
  {
   "cell_type": "markdown",
   "metadata": {},
   "source": [
    "To do:\n",
    "- Create matrix M\n",
    "- Create matrix X (DONE)\n",
    "- Compute X^TX\n",
    "- Compute M^TM\n",
    "- Verify M^TM value, if it coincides with the one G.O. wrote in report\n",
    "- install library, define instances, run optimizer"
   ]
  },
  {
   "cell_type": "code",
   "execution_count": 6,
   "metadata": {},
   "outputs": [],
   "source": [
    "pct_90 = int(np.ceil(90*len(X)/100))\n",
    "pct_80 = int(np.ceil(80*len(X)/100))\n",
    "pct_70 = int(np.ceil(70*len(X)/100))\n",
    "\n",
    "X_train, X_test = X[:pct_80], X[pct_80:]\n",
    "y_train, y_test =y_rec_smoothed[:pct_80], y_rec_smoothed[pct_80:]\n"
   ]
  },
  {
   "cell_type": "code",
   "execution_count": 7,
   "metadata": {},
   "outputs": [],
   "source": [
    "import cvxopt\n",
    "\n",
    "def create_M(N):\n",
    "    M = np.zeros((N,N))\n",
    "    for i in range(N):\n",
    "        for j in range(N):\n",
    "            if i==0:\n",
    "                if j == 0:\n",
    "                    M[i,j]=1\n",
    "                else:\n",
    "                    M[i,j]=0\n",
    "            elif (i==j):\n",
    "                M[i,j]=1\n",
    "            elif (j == (i-1)):\n",
    "                M[i,j] = -1\n",
    "            else:\n",
    "                M[i,j]=0\n",
    "    return M\n",
    "\n",
    "def generate_G(index):\n",
    "    \"\"\"index: represents k^*, gamma_{k^*} is such that gamma_0 <= gamma_1 <= ...<= gamma_{k^*} >= ... >= gamma_N\n",
    "    This function generates a matrix G such that either gamma_index or gamma_{index+1} is the maximum\n",
    "    \"\"\" \n",
    "    #this constraint verifies the gaussian-like distribution of the gamma\n",
    "    G = np.zeros((N,N))\n",
    "    for i in range(0, index):\n",
    "        for j in range(N):\n",
    "            if (i==j):\n",
    "                G[i,j] = 1\n",
    "            elif (j == i+1):\n",
    "                G[i,j] = -1\n",
    "                \n",
    "    for i in range(index, N):\n",
    "        for j in range(N):\n",
    "            if (i==j):\n",
    "                G[i,j] = -1\n",
    "            elif (j == i+1):\n",
    "                G[i,j] = 1\n",
    "    \n",
    "    # we do not put any condition on idx_th element, and use this line to verify that all gammas are superior or\n",
    "    # equal to zero\n",
    "    #G[index,:] = 0\n",
    "    #G[index, 0] = -1\n",
    "\n",
    "    \n",
    "    #this constraint verifies that -gamma_i <= 0 <=> gamma_i >= 0 forall i\n",
    "   # for i in range(N, 2*N):\n",
    "    #    for j in range(N):\n",
    "     #       if (i==N+j):\n",
    "      #          G[i,j]=-1\n",
    "    return G\n",
    "\n",
    "def generate_params(X_train, y_train,k,lambda_=1.0):\n",
    "    M = create_M(N)\n",
    "    M_tilde = M.T @ M\n",
    "    X_tilde = X_train.T @ X_train\n",
    "    P = X_tilde + lambda_*(M_tilde)\n",
    "    q = -X_train.T@y_train\n",
    "    G = generate_G(k)\n",
    "    h = np.zeros((N,1))\n",
    "    for i in range(len(h)):\n",
    "        h[i] = -0.0000001\n",
    "    return P, q, G, h\n",
    "\n",
    "def find_best_k(X_train, y_train, X_test, y_test, loss):\n",
    "    \"\"\"Returns index of maximum gamma that minimizes the mae loss\"\"\"\n",
    "    loss = {}\n",
    "    for k in range(N):\n",
    "        P, q, G, h = generate_params(X_train, y_train, k)\n",
    "        gammas = cvxopt_solve_qp(P,q, G, h)\n",
    "        y_pred = X_test@gammas\n",
    "        loss[k] = mape(y_test,y_pred)\n",
    "    return min(loss, key=loss.get)\n",
    "\n",
    "\n",
    "def cvxopt_solve_qp(P, q, G=None, h=None, A=None, b=None):\n",
    "    cvxopt.solvers.options['show_progress'] = False\n",
    "    P = .5 * (P + P.T)  # make sure P is symmetric\n",
    "    args = [cvxopt.matrix(P), cvxopt.matrix(q)]\n",
    "    if G is not None:\n",
    "        args.extend([cvxopt.matrix(G), cvxopt.matrix(h)])\n",
    "        if A is not None:\n",
    "            args.extend([cvxopt.matrix(A), cvxopt.matrix(b)])\n",
    "    sol = cvxopt.solvers.qp(*args)\n",
    "    if 'optimal' not in sol['status']:\n",
    "        return None\n",
    "    \n",
    "    return np.array(sol['x']).reshape((P.shape[1],))\n",
    "\n",
    "# ----------------------------#\n",
    "#        LOSS FUNCTIONS \n",
    "# ----------------------------#\n",
    "\n",
    "def mape(y_test, y_pred):\n",
    "    return np.mean(np.abs((y_pred-y_test)/y_test))\n",
    "\n",
    "def mspe(y_test, y_pred):\n",
    "    return np.mean(np.square((y_pred-y_test)/y_test))\n",
    "\n",
    "# ----------------------------#\n",
    "#        SMOOTHING\n",
    "# ----------------------------#\n",
    "\n",
    "def simple_exponential_smoothing(x, alpha):\n",
    "    result = [x[0]] # first value is same as series\n",
    "    for n in range(1, len(x)):\n",
    "        result.append(alpha * x[n] + (1 - alpha) * x[n-1])\n",
    "    return result\n",
    "\n",
    "def exponential_smoothing(x, rho, K):\n",
    "    const = (1-rho)/(1-rho**(K+1))\n",
    "    new_x = []\n",
    "    \n",
    "    # range of x\n",
    "    r_x = np.arange(K, len(x)-K)\n",
    "\n",
    "    # range of k\n",
    "    r_k = np.arange(0,K)\n",
    "    \n",
    "    for i in range(len(x)):\n",
    "        if i not in r_x:\n",
    "            new_x.append(x[i])\n",
    "        else:\n",
    "            ls = []\n",
    "            for k in r_k:\n",
    "                print('rho: ', rho, 'k: ', k, 'x[i-k]: ', x[i-k])\n",
    "                ls.append(int(const*rho**k*x[i-k]))\n",
    "            new_x.append(np.sum(ls))\n",
    "                \n",
    "    return new_x\n",
    "\n",
    "def find_best_alpha(X):\n",
    "    \"\"\"Returns optimal alpha such that MAPE error is minimized,along with the MAPE index error in question, and its value\"\"\"\n",
    "    X_new = np.zeros(X.shape)\n",
    "    alphas = np.linspace(0,1,100)\n",
    "    mapes = []\n",
    "    pct_80 = int(np.ceil(80*len(X)/100))\n",
    "\n",
    "\n",
    "    for alpha in alphas:\n",
    "        for j in range(X.shape[1]):\n",
    "            X_new[:,j]= exponential_smoothing(X[:,j], alpha)\n",
    "\n",
    "\n",
    "        X_train, X_test = X_new[:pct_80], X_new[pct_80:]\n",
    "        y_train, y_test =y_rec_smoothed[:pct_80], y_rec_smoothed[pct_80:]\n",
    "\n",
    "\n",
    "        index = find_best_k(X_train, y_train, X_test, y_test, 'mape')\n",
    "        P, q, G, h = generate_params(X_train, y_train, index)\n",
    "        gamma = cvxopt_solve_qp(P, q, G, h)\n",
    "        y_pred = X_test@gamma\n",
    "\n",
    "        mapes.append(mape(y_test, y_pred))\n",
    "\n",
    "    return alphas[np.argmin(mapes)],np.argmin(mapes), min(mapes)\n",
    "\n",
    "\n",
    "# ----------------------------#\n",
    "#        GENERATE PREDICTIONS \n",
    "# ----------------------------#\n",
    "\n",
    "index = find_best_k(X_train, y_train, X_test, y_test, 'mape')\n",
    "P, q, G, h = generate_params(X_train, y_train, index)\n",
    "gamma = cvxopt_solve_qp(P, q, G, h)\n",
    "y_pred = X_test@gamma"
   ]
  },
  {
   "cell_type": "code",
   "execution_count": 8,
   "metadata": {},
   "outputs": [
    {
     "data": {
      "text/plain": [
       "array([5.93687219e-02, 3.95964166e-04, 3.95472915e-04, 3.94651444e-04,\n",
       "       1.72234221e-06, 1.13527207e-06, 9.09358938e-07, 7.86664943e-07,\n",
       "       6.79212987e-07, 5.77596190e-07, 4.79386781e-07, 3.83157042e-07,\n",
       "       2.87740749e-07, 1.93003503e-07, 9.88426562e-08])"
      ]
     },
     "execution_count": 8,
     "metadata": {},
     "output_type": "execute_result"
    }
   ],
   "source": [
    "gamma"
   ]
  },
  {
   "cell_type": "code",
   "execution_count": 9,
   "metadata": {},
   "outputs": [
    {
     "data": {
      "text/plain": [
       "<matplotlib.axes._subplots.AxesSubplot at 0x1a14dbd860>"
      ]
     },
     "execution_count": 9,
     "metadata": {},
     "output_type": "execute_result"
    },
    {
     "data": {
      "image/png": "[encoded data removed]",
      "text/plain": [
       "<Figure size 432x288 with 1 Axes>"
      ]
     },
     "metadata": {
      "needs_background": "light"
     },
     "output_type": "display_data"
    }
   ],
   "source": [
    "pd.DataFrame({'gammas': gamma}).plot()"
   ]
  },
  {
   "cell_type": "code",
   "execution_count": 10,
   "metadata": {},
   "outputs": [
    {
     "data": {
      "text/plain": [
       "0"
      ]
     },
     "execution_count": 10,
     "metadata": {},
     "output_type": "execute_result"
    }
   ],
   "source": [
    "index"
   ]
  },
  {
   "cell_type": "code",
   "execution_count": 11,
   "metadata": {},
   "outputs": [
    {
     "data": {
      "text/html": [
       "<div>\n",
       "<style scoped>\n",
       "    .dataframe tbody tr th:only-of-type {\n",
       "        vertical-align: middle;\n",
       "    }\n",
       "\n",
       "    .dataframe tbody tr th {\n",
       "        vertical-align: top;\n",
       "    }\n",
       "\n",
       "    .dataframe thead th {\n",
       "        text-align: right;\n",
       "    }\n",
       "</style>\n",
       "<table border=\"1\" class=\"dataframe\">\n",
       "  <thead>\n",
       "    <tr style=\"text-align: right;\">\n",
       "      <th></th>\n",
       "      <th>Actual</th>\n",
       "      <th>Predicted</th>\n",
       "    </tr>\n",
       "  </thead>\n",
       "  <tbody>\n",
       "    <tr>\n",
       "      <th>0</th>\n",
       "      <td>400.0</td>\n",
       "      <td>416.631812</td>\n",
       "    </tr>\n",
       "    <tr>\n",
       "      <th>1</th>\n",
       "      <td>400.0</td>\n",
       "      <td>385.564926</td>\n",
       "    </tr>\n",
       "    <tr>\n",
       "      <th>2</th>\n",
       "      <td>500.0</td>\n",
       "      <td>369.565330</td>\n",
       "    </tr>\n",
       "    <tr>\n",
       "      <th>3</th>\n",
       "      <td>300.0</td>\n",
       "      <td>363.606562</td>\n",
       "    </tr>\n",
       "    <tr>\n",
       "      <th>4</th>\n",
       "      <td>300.0</td>\n",
       "      <td>342.839025</td>\n",
       "    </tr>\n",
       "    <tr>\n",
       "      <th>5</th>\n",
       "      <td>700.0</td>\n",
       "      <td>321.662534</td>\n",
       "    </tr>\n",
       "    <tr>\n",
       "      <th>6</th>\n",
       "      <td>200.0</td>\n",
       "      <td>301.518144</td>\n",
       "    </tr>\n",
       "    <tr>\n",
       "      <th>7</th>\n",
       "      <td>300.0</td>\n",
       "      <td>308.588782</td>\n",
       "    </tr>\n",
       "    <tr>\n",
       "      <th>8</th>\n",
       "      <td>200.0</td>\n",
       "      <td>270.250344</td>\n",
       "    </tr>\n",
       "    <tr>\n",
       "      <th>9</th>\n",
       "      <td>200.0</td>\n",
       "      <td>246.282775</td>\n",
       "    </tr>\n",
       "    <tr>\n",
       "      <th>10</th>\n",
       "      <td>300.0</td>\n",
       "      <td>234.282178</td>\n",
       "    </tr>\n",
       "    <tr>\n",
       "      <th>11</th>\n",
       "      <td>200.0</td>\n",
       "      <td>221.205929</td>\n",
       "    </tr>\n",
       "    <tr>\n",
       "      <th>12</th>\n",
       "      <td>200.0</td>\n",
       "      <td>182.532758</td>\n",
       "    </tr>\n",
       "    <tr>\n",
       "      <th>13</th>\n",
       "      <td>150.0</td>\n",
       "      <td>171.248871</td>\n",
       "    </tr>\n",
       "    <tr>\n",
       "      <th>14</th>\n",
       "      <td>150.0</td>\n",
       "      <td>155.458658</td>\n",
       "    </tr>\n",
       "  </tbody>\n",
       "</table>\n",
       "</div>"
      ],
      "text/plain": [
       "    Actual   Predicted\n",
       "0    400.0  416.631812\n",
       "1    400.0  385.564926\n",
       "2    500.0  369.565330\n",
       "3    300.0  363.606562\n",
       "4    300.0  342.839025\n",
       "5    700.0  321.662534\n",
       "6    200.0  301.518144\n",
       "7    300.0  308.588782\n",
       "8    200.0  270.250344\n",
       "9    200.0  246.282775\n",
       "10   300.0  234.282178\n",
       "11   200.0  221.205929\n",
       "12   200.0  182.532758\n",
       "13   150.0  171.248871\n",
       "14   150.0  155.458658"
      ]
     },
     "execution_count": 11,
     "metadata": {},
     "output_type": "execute_result"
    }
   ],
   "source": [
    "df = pd.DataFrame({'Actual': y_test.flatten(), 'Predicted': y_pred.flatten()})\n",
    "df\n"
   ]
  },
  {
   "cell_type": "code",
   "execution_count": 12,
   "metadata": {
    "scrolled": false
   },
   "outputs": [
    {
     "data": {
      "image/png": "[encoded data removed]",
      "text/plain": [
       "<Figure size 720x576 with 1 Axes>"
      ]
     },
     "metadata": {
      "needs_background": "light"
     },
     "output_type": "display_data"
    }
   ],
   "source": [
    "df.plot(kind='bar',figsize=(10,8))\n",
    "plt.grid(which='major', linestyle='-', linewidth='0.5', color='green')\n",
    "plt.grid(which='minor', linestyle=':', linewidth='0.5', color='black')\n",
    "plt.show()"
   ]
  },
  {
   "cell_type": "code",
   "execution_count": 13,
   "metadata": {},
   "outputs": [
    {
     "name": "stdout",
     "output_type": "stream",
     "text": [
      "Mean Absolute Error: 66.93487840414923\n",
      "Mean Squared Error: 12635.350196162122\n",
      "Root Mean Squared Error: 112.40707360376447\n",
      "Mean Absolute percentage error: 0.1962132211473953\n",
      "Mean Square percentage error: 0.06347971629998996\n"
     ]
    }
   ],
   "source": [
    "print('Mean Absolute Error:', metrics.mean_absolute_error(y_test, y_pred))  \n",
    "print('Mean Squared Error:', metrics.mean_squared_error(y_test, y_pred))  \n",
    "print('Root Mean Squared Error:', np.sqrt(metrics.mean_squared_error(y_test, y_pred)))\n",
    "print('Mean Absolute percentage error:', mape(y_test, y_pred))  \n",
    "print('Mean Square percentage error:', mspe(y_test, y_pred))  \n",
    "\n",
    "\n",
    "\n",
    "\n"
   ]
  },
  {
   "cell_type": "markdown",
   "metadata": {},
   "source": [
    "### Run same but delete columns 6: and then delete columns 4: (see diff)"
   ]
  },
  {
   "cell_type": "code",
   "execution_count": 119,
   "metadata": {},
   "outputs": [],
   "source": [
    "X_4 = X[:,:4]\n",
    "X_6 = X[:,:6]\n",
    "N = X_4.shape[1]\n",
    "pct_90 = int(np.ceil(90*len(X_4)/100))\n",
    "pct_80 = int(np.ceil(80*len(X_4)/100))\n",
    "pct_70 = int(np.ceil(70*len(X_4)/100))\n",
    "\n",
    "X_train, X_test = X_4[:pct_80], X_4[pct_80:]\n",
    "y_train, y_test =y_rec_smoothed[:pct_80], y_rec_smoothed[pct_80:]"
   ]
  },
  {
   "cell_type": "code",
   "execution_count": 120,
   "metadata": {},
   "outputs": [],
   "source": [
    "index = find_best_k(X_train, y_train, X_test, y_test, 'mape')\n",
    "P, q, G, h = generate_params(X_train, y_train, index)\n",
    "gamma = cvxopt_solve_qp(P, q, G, h)\n",
    "y_pred = X_test@gamma\n",
    "\n"
   ]
  },
  {
   "cell_type": "code",
   "execution_count": 121,
   "metadata": {
    "scrolled": true
   },
   "outputs": [],
   "source": [
    "df = pd.DataFrame({'Actual': y_test.flatten(), 'Predicted': y_pred.flatten()})"
   ]
  },
  {
   "cell_type": "code",
   "execution_count": 122,
   "metadata": {},
   "outputs": [],
   "source": [
    "df.plot(kind='bar',figsize=(10,8))\n",
    "plt.grid(which='major', linestyle='-', linewidth='0.5', color='green')\n",
    "plt.grid(which='minor', linestyle=':', linewidth='0.5', color='black')\n",
    "plt.show()"
   ]
  },
  {
   "cell_type": "code",
   "execution_count": 123,
   "metadata": {},
   "outputs": [],
   "source": [
    "gamma\n"
   ]
  },
  {
   "cell_type": "code",
   "execution_count": 124,
   "metadata": {},
   "outputs": [],
   "source": [
    "# X_4\n",
    "\n",
    "print('Mean Absolute Error:', metrics.mean_absolute_error(y_test, y_pred))  \n",
    "print('Mean Squared Error:', metrics.mean_squared_error(y_test, y_pred))  \n",
    "print('Root Mean Squared Error:', np.sqrt(metrics.mean_squared_error(y_test, y_pred)))\n",
    "print('Mean Absolute percentage error:', mape(y_test, y_pred))  \n",
    "print('Mean Square percentage error:', mspe(y_test, y_pred))  \n",
    "\n"
   ]
  },
  {
   "cell_type": "markdown",
   "metadata": {},
   "source": [
    "## Cross Validation"
   ]
  },
  {
   "cell_type": "markdown",
   "metadata": {},
   "source": [
    "### Four independent splits"
   ]
  },
  {
   "cell_type": "markdown",
   "metadata": {},
   "source": [
    "Here, we use the model with **4 gammas** to perform cross validation in order to find the best parameters. As we have around 70 data points, and need at least twice the number of gammas as number of training points, we start with 10 data points. We estimate 10 data points for training, and three for validation. As we have $\\frac{69}{13}= 5.3$, we will do five folds. Each fold has 14 points, except for last fold with 13. We validate on two last data points. "
   ]
  },
  {
   "cell_type": "markdown",
   "metadata": {},
   "source": [
    "If we split every 13 data points, this is what we get:"
   ]
  },
  {
   "cell_type": "code",
   "execution_count": 125,
   "metadata": {},
   "outputs": [],
   "source": [
    "splits_X = np.array_split(X_4, 4, axis=0)\n",
    "splits_y = np.array_split(y_rec_smoothed, 4, axis=0)\n"
   ]
  },
  {
   "cell_type": "code",
   "execution_count": 126,
   "metadata": {},
   "outputs": [],
   "source": [
    "def cross_val(splits_X, splits_y,lambda_=1.0):  \n",
    "    y_vals = []\n",
    "    y_preds = []\n",
    "    mapes = []\n",
    "    maes = []\n",
    "\n",
    "    for X, y in zip(splits_X, splits_y):\n",
    "        pct_90 = int(np.floor(90*len(X)/100))\n",
    "\n",
    "        X_train = X[:pct_90]\n",
    "        X_val = X[pct_90:]\n",
    "        y_train = y[:pct_90]\n",
    "        y_val = y[pct_90:]\n",
    "        index = find_best_k(X_train, y_train, X_val, y_val, 'mape')\n",
    "        P, q, G, h = generate_params(X_train, y_train, index,lambda_)\n",
    "        gamma = cvxopt_solve_qp(P, q, G, h)\n",
    "        y_pred = X_val@gamma\n",
    "\n",
    "        y_vals.append(y_val)\n",
    "        y_preds.append(y_pred)\n",
    "\n",
    "        mapes.append(mape(y_val, y_pred))\n",
    "        maes.append(metrics.mean_absolute_error(y_val, y_pred))\n",
    "        \n",
    "    y_vals = [item for sublist in y_vals for item in sublist]\n",
    "    y_preds =[item for sublist in y_preds for item in sublist]\n",
    "        \n",
    "    return mapes, maes, y_vals, y_preds\n",
    "\n",
    "mapes, maes, y_vals, y_preds = cross_val(splits_X, splits_y)"
   ]
  },
  {
   "cell_type": "code",
   "execution_count": 127,
   "metadata": {},
   "outputs": [],
   "source": [
    "mapes"
   ]
  },
  {
   "cell_type": "code",
   "execution_count": 128,
   "metadata": {},
   "outputs": [],
   "source": [
    "maes"
   ]
  },
  {
   "cell_type": "code",
   "execution_count": 129,
   "metadata": {},
   "outputs": [],
   "source": [
    "df = pd.DataFrame({'Actual': y_vals, 'Predicted': y_preds})\n",
    "df\n"
   ]
  },
  {
   "cell_type": "code",
   "execution_count": 130,
   "metadata": {},
   "outputs": [],
   "source": [
    "df.plot(kind='bar',figsize=(10,8))\n",
    "plt.grid(which='major', linestyle='-', linewidth='0.5', color='green')\n",
    "plt.grid(which='minor', linestyle=':', linewidth='0.5', color='black')\n",
    "plt.show()"
   ]
  },
  {
   "cell_type": "markdown",
   "metadata": {},
   "source": [
    "### Advancement validation"
   ]
  },
  {
   "cell_type": "code",
   "execution_count": 131,
   "metadata": {},
   "outputs": [],
   "source": [
    "# We want our train set to be of size 40, and then we shift of 10 data points at each new iteration.\n",
    "# the size of our test set is the rest of the dataset points\n",
    "splits = int(np.floor((X_4.shape[0] - 40)/10))\n",
    "\n",
    "##\n",
    "\n",
    "mapes = []\n",
    "maes = []\n",
    "y_vals = []\n",
    "y_preds = []\n",
    "\n",
    "for i in range(splits):\n",
    "\n",
    "    begin = 10*i\n",
    "    end = 40 + 10*i\n",
    "    \n",
    "    X_tr = X_4[begin:end,:]\n",
    "    y_tr = y_rec_smoothed[begin:end]\n",
    "    \n",
    "    X_te = X_4[end:,:]\n",
    "    y_te = y_rec_smoothed[end:]\n",
    "    \n",
    "    # Run the model\n",
    "    \n",
    "    index = find_best_k(X_tr, y_tr, X_te, y_te, 'mape')\n",
    "    P, q, G, h = generate_params(X_tr, y_tr, index,10e-5)\n",
    "    gamma = cvxopt_solve_qp(P, q, G, h)\n",
    "    y_pred = X_te@gamma\n",
    "\n",
    "    y_vals.append(y_te)\n",
    "    y_preds.append(y_pred)\n",
    "\n",
    "    mapes.append(mape(y_te, y_pred))\n",
    "    maes.append(metrics.mean_absolute_error(y_te, y_pred))\n",
    "        \n",
    "y_vals = [item for sublist in y_vals for item in sublist]\n",
    "y_preds =[item for sublist in y_preds for item in sublist]\n",
    "        "
   ]
  },
  {
   "cell_type": "code",
   "execution_count": 132,
   "metadata": {},
   "outputs": [],
   "source": [
    "print('for each split we have the following MAPE losses: {}, \\nResulting in a mean MAPE of {}'.format(mapes, np.mean(mapes)))\n"
   ]
  },
  {
   "cell_type": "markdown",
   "metadata": {},
   "source": [
    "# Find best hyperparameter $\\lambda$"
   ]
  },
  {
   "cell_type": "code",
   "execution_count": 93,
   "metadata": {},
   "outputs": [],
   "source": [
    "# this is the function we want to minimize\n",
    "# we want to minimize the mean loss function MAE from our cross validation run\n",
    "def f(lambda_):\n",
    "    mapes, maes, y_vals, y_preds = cross_val(splits_X, splits_y, lambda_)\n",
    "    return np.mean(maes)   "
   ]
  },
  {
   "cell_type": "code",
   "execution_count": 94,
   "metadata": {},
   "outputs": [],
   "source": [
    "from scipy.optimize import minimize\n",
    "\n",
    "minimize(f,1.0,method='SLSQP')"
   ]
  },
  {
   "cell_type": "code",
   "execution_count": 95,
   "metadata": {
    "scrolled": true
   },
   "outputs": [],
   "source": [
    "from skopt import gp_minimize\n",
    "from skopt.space import Real, Integer\n",
    "\n",
    "space  = [Real(10**-5, 10**0, name='learning_rate')]\n",
    "\n",
    "res = gp_minimize(f,space)\n",
    "lambda_ = res['x'][0]"
   ]
  },
  {
   "cell_type": "code",
   "execution_count": 96,
   "metadata": {},
   "outputs": [],
   "source": [
    "def plot_loss_per_lambda():\n",
    "    lambdas = [-10,-1,0, 10e-5, 10e-4, 10e-3, 10e-2, 10e-1, 1, 10]\n",
    "    mapes = []\n",
    "    for l in lambdas:\n",
    "        X_train = X_4[:pct_80]\n",
    "        X_test = X_4[pct_80:]\n",
    "        y_train = y_recovered[:pct_80]\n",
    "        y_test = y_recovered[pct_80:]\n",
    "        #print(X_test@gamma)\n",
    "        #print(y_test)\n",
    "        index = find_best_k(X_train, y_train, X_test, y_test, 'mape')\n",
    "        P, q, G, h = generate_params(X_train, y_train, index,l)\n",
    "        gamma = cvxopt_solve_qp(P, q, G, h)\n",
    "        y_pred = X_test@gamma\n",
    "        mapes.append(format(100*mape(y_test, y_pred),'.20'))\n",
    "    print(mapes)\n",
    "    print(len(mapes) == len(np.unique(mapes)))\n",
    "    lambdas1 = ['-10','-1','0','10e-5', '10e-4', '10e-3', '10e-2', '10e-1', '1', '10']\n",
    "    plt.plot(lambdas1, mapes, 'b')\n",
    "        #plt.xlabel('Day')\n",
    "        #plt.ylabel('Number of Daily Recovered')\n",
    "        #plt.legend(['Predicted value','True value'])\n",
    "        #plt.title('Baseline Prediction model for k=' + str(k))\n",
    "        #plt.axvline(x=pct_80-1)\n",
    "\n",
    "    "
   ]
  },
  {
   "cell_type": "code",
   "execution_count": 97,
   "metadata": {},
   "outputs": [],
   "source": [
    "plot_loss_per_lambda()"
   ]
  },
  {
   "cell_type": "code",
   "execution_count": 98,
   "metadata": {},
   "outputs": [],
   "source": [
    "def plot_gammas_per_lambda():\n",
    "    lambdas = [-10, -1, 0, 10e-5, 10e-4, 10e-3, 10e-2, 10e-1, 1, 10]\n",
    "    gammas = []\n",
    "    for l in lambdas:\n",
    "        X_train = X_4[:pct_80]\n",
    "        X_test = X_4[pct_80:]\n",
    "        y_train = y_recovered[:pct_80]\n",
    "        y_test = y_recovered[pct_80:]\n",
    "        #print(X_test@gamma)\n",
    "        #print(y_test)\n",
    "        index = find_best_k(X_train, y_train, X_test, y_test, 'mape')\n",
    "        P, q, G, h = generate_params(X_train, y_train, index,l)\n",
    "        gamma = cvxopt_solve_qp(P, q, G, h)\n",
    "        y_pred = X_test@gamma\n",
    "        gammas.append(format(np.mean(gamma), '.20f'))\n",
    "    print(gammas)\n",
    "    lambdas1 = ['-10','-1','0','10e-5', '10e-4', '10e-3', '10e-2', '10e-1', '1', '10']\n",
    "\n",
    "    plt.plot(lambdas1, gammas, 'b')\n",
    "        #plt.xlabel('Day')\n",
    "        #plt.ylabel('Number of Daily Recovered')\n",
    "        #plt.legend(['Predicted value','True value'])\n",
    "        #plt.title('Baseline Prediction model for k=' + str(k))\n",
    "        #plt.axvline(x=pct_80-1)\n",
    "\n",
    "    "
   ]
  },
  {
   "cell_type": "code",
   "execution_count": 99,
   "metadata": {},
   "outputs": [],
   "source": [
    "plot_gammas_per_lambda()"
   ]
  },
  {
   "cell_type": "code",
   "execution_count": null,
   "metadata": {},
   "outputs": [],
   "source": []
  }
 ],
 "metadata": {
  "kernelspec": {
   "display_name": "Python 3",
   "language": "python",
   "name": "python3"
  },
  "language_info": {
   "codemirror_mode": {
    "name": "ipython",
    "version": 3
   },
   "file_extension": ".py",
   "mimetype": "text/x-python",
   "name": "python",
   "nbconvert_exporter": "python",
   "pygments_lexer": "ipython3",
   "version": "3.7.3"
  }
 },
 "nbformat": 4,
 "nbformat_minor": 1
}
