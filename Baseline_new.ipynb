{
 "cells": [
  {
   "cell_type": "code",
   "execution_count": 1,
   "metadata": {},
   "outputs": [],
   "source": [
    "import pandas as pd\n",
    "import numpy as np\n",
    "#from funcs import *\n",
    "import matplotlib.pyplot as plt \n",
    "from matplotlib.pyplot import subplot\n",
    "import seaborn as seabornInstance \n",
    "from sklearn import metrics\n",
    "%matplotlib inline\n",
    "from functools import reduce\n",
    "import operator as op\n",
    "import itertools\n"
   ]
  },
  {
   "cell_type": "code",
   "execution_count": 32,
   "metadata": {},
   "outputs": [],
   "source": [
    "#Number of infected for past two weeks\n",
    "X = pd.read_csv('data.csv').iloc[:,1:-2].values\n",
    "\n",
    "#Number of deaths\n",
    "y = pd.read_csv('data.csv').iloc[:,-2].values"
   ]
  },
  {
   "cell_type": "code",
   "execution_count": 33,
   "metadata": {},
   "outputs": [],
   "source": [
    "# ----------------------------#\n",
    "#        LOSS FUNCTIONS \n",
    "# ----------------------------#\n",
    "\n",
    "def mape(y_test, y_pred):\n",
    "    #return np.mean(np.abs((y_pred-y_test)/y_test))\n",
    "    return np.mean(np.abs((y_test - y_pred) / y_test))\n",
    "\n",
    "def mspe(y_test, y_pred):\n",
    "    return np.mean(np.square((y_pred-y_test)/y_test))\n",
    "\n",
    "def maape(y_test, y_pred):\n",
    "    return np.mean(np.arctan(np.abs((y_pred-y_test)/y_test)))\n",
    "\n",
    "def mae(y_test, y_pred):\n",
    "    return np.mean(np.abs(y_test - y_pred))\n",
    "\n",
    "\n",
    "\n",
    "# ----------------------------------#\n",
    "#        QUADRATIC OPTIMIZATION \n",
    "# ----------------------------------#\n",
    "import cvxopt\n",
    "\n",
    "def gauss_filter(x, K, parity='even'):\n",
    "\n",
    "    # constant\n",
    "    A = 2*K\n",
    "    #upper bound of sum\n",
    "    B = K\n",
    "    if parity == 'odd':\n",
    "        A += 1\n",
    "        B += 1\n",
    "\n",
    "    const = 1/(2**A)\n",
    "\n",
    "    x_filtered = []\n",
    "\n",
    "    # x elements that will see their value change\n",
    "    r_x = np.arange(K, len(x)-K)\n",
    "\n",
    "    # range of k\n",
    "    r_k = np.arange(-K,B+1)\n",
    "\n",
    "    for i in range(len(x)):\n",
    "        if i not in r_x:\n",
    "            x_filtered.append(x[i])\n",
    "        else:\n",
    "            # list on which we will save values to be summed to yield new x_tilde_t\n",
    "            ls = []\n",
    "            for k in r_k:\n",
    "                #x_{t-k}\n",
    "                comb = ncr(A, K+k)\n",
    "                #print('i: ',i,'k: ',k)\n",
    "                x_tk = x[i-k]\n",
    "                #print(comb, x_tk, comb*x_tk)\n",
    "                #print(ls)\n",
    "                ls.append(int(comb*x_tk*const))\n",
    "                #print(ls)\n",
    "            x_filtered.append(np.sum(ls))\n",
    "    return x_filtered\n",
    "\n",
    "def ncr(n, r):\n",
    "    r = min(r, n-r)\n",
    "    numer = reduce(op.mul, range(n, n-r, -1), 1)\n",
    "    denom = reduce(op.mul, range(1, r+1), 1)\n",
    "    return numer / denom\n",
    "\n",
    "\n",
    "def create_M(N):\n",
    "    M = np.zeros((N,N))\n",
    "    for i in range(N):\n",
    "        for j in range(N):\n",
    "            if i==0:\n",
    "                if j == 0:\n",
    "                    M[i,j]=1\n",
    "                else:\n",
    "                    M[i,j]=0\n",
    "            elif (i==j):\n",
    "                M[i,j]=1\n",
    "            elif (j == (i-1)):\n",
    "                M[i,j] = -1\n",
    "            else:\n",
    "                M[i,j]=0\n",
    "    return M\n",
    "\n",
    "def generate_A(N,k):\n",
    "    \"\"\"Create matrix A for equality constraint such that every\n",
    "    gamma_i == 0, i!=k. This equality holds via the optimization of Ax = b.\n",
    "    \"\"\"\n",
    "    A = np.identity(N)\n",
    "    #A[k,k] = 0\n",
    "    return A\n",
    "\n",
    "def apply_smoothing(X, K, parity):\n",
    "\n",
    "    new_X = np.zeros(X.shape)\n",
    "\n",
    "    for j in range(X.shape[1]):\n",
    "        new_X[:,j] = gauss_filter(X[:,j], K, parity=parity)\n",
    "        \n",
    "    \n",
    "    return new_X"
   ]
  },
  {
   "cell_type": "code",
   "execution_count": 34,
   "metadata": {},
   "outputs": [],
   "source": [
    "from tqdm import tqdm\n",
    "\n",
    "def find_best_K(X, y, parity, with_validation=True, training_size=7, model='quadratic'):\n",
    "    \"\"\"Returns optimal K such that MAPE error is minimized for the gaussian smoothing\"\"\"\n",
    "    X_new = np.zeros(X.shape)\n",
    "    N = X.shape[1]\n",
    "    Ks = np.arange(6,22)\n",
    "    range_r = [0.00001,0.0001,0.001,0.01, 0.1, 1]\n",
    "    mapes = []\n",
    "    dic0 = {}\n",
    "    dic1 = {}\n",
    "\n",
    "    for K in Ks:\n",
    "        dic_loss_per_gamma = {}\n",
    "        gammas_of_K = []\n",
    "        #print(K)\n",
    "        for j in range(X.shape[1]):\n",
    "            #print(j)\n",
    "            X_new[:,j]= gauss_filter(X[:,j], K, parity)\n",
    "\n",
    "        # train on first `tr` days, then  predict 7 next / shiftt of seven until end on dataset\n",
    "        \n",
    "        splits = int(np.floor((X.shape[0] - tr)/7))\n",
    "    \n",
    "        # list of the mape for a given split, this list is reinitialized for every K\n",
    "        temp_mapes = []\n",
    "        y_vals = []\n",
    "        y_preds = []\n",
    "\n",
    "        for i in range(splits):\n",
    "            \n",
    "            begin = 7*i\n",
    "            end = tr + 7*i\n",
    "\n",
    "            X_tr = X_new[begin:end,:]\n",
    "            y_tr = y[begin:end]\n",
    "\n",
    "            X_te = X_new[end:end+7,:]\n",
    "            y_te = y[end:end+7]\n",
    "\n",
    "\n",
    "                            \n",
    "            \n",
    "            mape_per_r = []\n",
    "            \n",
    "            #find best r for given split\n",
    "            for r in range_r:\n",
    "                \n",
    "                index = find_best_index(X_tr, X_te, y_tr, y_te, 'mape', N, r)\n",
    "                P, q, G, h, A, b = generate_params(X_tr, y_tr, index, N, r, 10e-15)\n",
    "                gamma = cvxopt_solve_qp(P, q, G, h, A,b)\n",
    "                y_pred = X_te@gamma\n",
    "                y_pred[y_pred < 1 ] = 1\n",
    "                y_pred = np.floor(y_pred)\n",
    "                mape_per_r.append(mape(y_te, y_pred))\n",
    "            \n",
    "            r = range_r[np.argmin(mape_per_r)]\n",
    "            #print('Best r for given split is', r)\n",
    "            P, q, G, h, A, b = generate_params(X_tr, y_tr, index, N, r, 10e-15)\n",
    "            gamma = cvxopt_solve_qp(P, q, G, h, A,b)\n",
    "            y_pred = X_te@gamma\n",
    "            y_pred[y_pred < 1 ] = 1\n",
    "            y_pred = np.floor(y_pred)\n",
    "            temp_mapes.append(mape(y_te, y_pred))\n",
    "            #print('y test', y_te, 'and y pred', y_pred, 'have a mape of', mape(y_te, y_pred))\n",
    "\n",
    "                \n",
    "        # for K, associate the list of mapes for each split\n",
    "        dic0[K] = temp_mapes\n",
    "        \n",
    "        #append the mean mape for the given K\n",
    "        mapes.append(np.mean(temp_mapes))\n",
    "        \n",
    "        # for K, associate the mean mape between all splits\n",
    "        dic1[K] = np.mean(temp_mapes)\n",
    "        \n",
    "        #########\n",
    "    \n",
    "    # return K yielding smallest mean MAPE over all splits, dticionary of mean mape per K, dictionary of all\n",
    "    # splits mapes per K\n",
    "    return Ks[np.argmin(mapes)], dic1[Ks[np.argmin(mapes)]] #Ks[np.argmin(mapes)], dic1[Ks[np.argmin(mapes)]]\n",
    "\n",
    "\n",
    "def generate_params(X_train, y_train,k,N, r=0.01, lambda_=10e-15):\n",
    "    \"\"\"\n",
    "    nb: in this case, the k represents the index of the unique non zero gamma\"\"\"\n",
    "    M = create_M(N)\n",
    "    M_tilde = M.T @ M\n",
    "    X_tilde = X_train.T @ X_train\n",
    "    P = X_tilde + lambda_*(M_tilde)\n",
    "    q = -X_train.T@y_train\n",
    "    \n",
    "    G = np.identity(N)\n",
    "    G[k,k] = -1\n",
    "    h = np.zeros((N,1))\n",
    "    A = generate_A(N, k)\n",
    "    b = np.zeros((N,1))\n",
    "    # optimum = 0.001\n",
    "    b[k] = r\n",
    "    #b[k] = 0.01\n",
    "    for i in range(len(h)):\n",
    "        h[i] = 0.00001\n",
    "    h[k] = -0.00001\n",
    "    return P, q, G, h, A, b\n",
    "\n",
    "def find_best_index(X_train, X_test, y_train, y_test, loss,N,r=0.01):\n",
    "    \"\"\"Returns index of unique non zero gamma that minimizes the mae loss\"\"\"\n",
    "    loss = {}\n",
    "    for k in range(N):\n",
    "        P, q, G, h, A, b = generate_params(X_train, y_train, k, N, lambda_=10e-15)\n",
    "        #print('P', P)\n",
    "        #print('q', q)\n",
    "        #print('G', G)\n",
    "        #print('h', h)\n",
    "        gammas = cvxopt_solve_qp(P, q, G, h, A, b)\n",
    "        #print(X_test.shape)\n",
    "        #print(gammas.shape)\n",
    "        if not (gammas is None):\n",
    "            y_pred = X_test@gammas\n",
    "            y_pred[y_pred < 1 ] = 1\n",
    "            y_pred = np.floor(y_pred)\n",
    "            loss[k] = mape(y_test,y_pred)\n",
    "        else:\n",
    "            loss[k] = 999999999\n",
    "    return min(loss, key=loss.get)\n",
    "\n",
    "\n",
    "def cvxopt_solve_qp(P, q, G=None, h=None, A=None, b=None):\n",
    "    cvxopt.solvers.options['show_progress'] = False\n",
    "    P = .5 * (P + P.T)  # make sure P is symmetric\n",
    "    #print('new P:', P)\n",
    "    args = [cvxopt.matrix(P), cvxopt.matrix(q)]\n",
    "    if G is not None:\n",
    "        args.extend([cvxopt.matrix(G), cvxopt.matrix(h)])\n",
    "        if A is not None:\n",
    "            args.extend([cvxopt.matrix(A), cvxopt.matrix(b)])\n",
    "    sol = cvxopt.solvers.qp(*args, initvals=np.ones(N))\n",
    "    #print('is optimal in solution status', 'optimal' not in sol['status'])\n",
    "    #print('solution', sol['x'])\n",
    "    if 'optimal' not in sol['status']:\n",
    "        return None\n",
    "    #print(np.array(sol['x']).reshape((P.shape[1],)))\n",
    "    return np.array(sol['x']).reshape((P.shape[1],))\n",
    "\n",
    "\n",
    "def exponential_smoothing(x, rho, K):\n",
    "    const = (1-rho)/(1-rho**(K+1))\n",
    "    new_x = []\n",
    "    \n",
    "    # range of x\n",
    "    r_x = np.arange(K, len(x)-K)\n",
    "\n",
    "    # range of k\n",
    "    r_k = np.arange(0,K)\n",
    "    \n",
    "    for i in range(len(x)):\n",
    "        if i not in r_x:\n",
    "            new_x.append(x[i])\n",
    "        else:\n",
    "            ls = []\n",
    "            for k in r_k:\n",
    "                ls.append(int(const*rho**k*x[i-k]))\n",
    "            new_x.append(np.sum(ls))\n",
    "                \n",
    "    return new_x\n"
   ]
  },
  {
   "cell_type": "code",
   "execution_count": 35,
   "metadata": {},
   "outputs": [],
   "source": [
    "#Number of infected for past two weeks\n",
    "X = pd.read_csv('data.csv').iloc[:,1:-2].values\n",
    "\n",
    "#Number of deaths\n",
    "y = pd.read_csv('data.csv').iloc[:,-2].values"
   ]
  },
  {
   "cell_type": "code",
   "execution_count": 36,
   "metadata": {},
   "outputs": [
    {
     "data": {
      "text/plain": [
       "(107, 30)"
      ]
     },
     "execution_count": 36,
     "metadata": {},
     "output_type": "execute_result"
    }
   ],
   "source": [
    "X.shape"
   ]
  },
  {
   "cell_type": "code",
   "execution_count": 37,
   "metadata": {},
   "outputs": [
    {
     "name": "stderr",
     "output_type": "stream",
     "text": [
      "  0%|          | 0/7 [00:00<?, ?it/s]\n"
     ]
    },
    {
     "ename": "KeyboardInterrupt",
     "evalue": "",
     "output_type": "error",
     "traceback": [
      "\u001b[0;31m---------------------------------------------------------------------------\u001b[0m",
      "\u001b[0;31mKeyboardInterrupt\u001b[0m                         Traceback (most recent call last)",
      "\u001b[0;32m<ipython-input-37-ccc6e3e20d71>\u001b[0m in \u001b[0;36m<module>\u001b[0;34m\u001b[0m\n\u001b[1;32m      5\u001b[0m \u001b[0mloss_odd\u001b[0m \u001b[0;34m=\u001b[0m \u001b[0;34m[\u001b[0m\u001b[0;34m]\u001b[0m\u001b[0;34m\u001b[0m\u001b[0;34m\u001b[0m\u001b[0m\n\u001b[1;32m      6\u001b[0m \u001b[0;32mfor\u001b[0m \u001b[0mtr\u001b[0m \u001b[0;32min\u001b[0m \u001b[0mtqdm\u001b[0m\u001b[0;34m(\u001b[0m\u001b[0mtraining_poss\u001b[0m\u001b[0;34m)\u001b[0m\u001b[0;34m:\u001b[0m\u001b[0;34m\u001b[0m\u001b[0;34m\u001b[0m\u001b[0m\n\u001b[0;32m----> 7\u001b[0;31m     \u001b[0mloss_even\u001b[0m\u001b[0;34m.\u001b[0m\u001b[0mappend\u001b[0m\u001b[0;34m(\u001b[0m\u001b[0mfind_best_K\u001b[0m\u001b[0;34m(\u001b[0m\u001b[0mX\u001b[0m\u001b[0;34m,\u001b[0m \u001b[0my\u001b[0m\u001b[0;34m,\u001b[0m \u001b[0;34m'even'\u001b[0m\u001b[0;34m,\u001b[0m \u001b[0mtraining_size\u001b[0m\u001b[0;34m=\u001b[0m\u001b[0mtr\u001b[0m\u001b[0;34m)\u001b[0m\u001b[0;34m[\u001b[0m\u001b[0;36m1\u001b[0m\u001b[0;34m]\u001b[0m\u001b[0;34m)\u001b[0m\u001b[0;34m\u001b[0m\u001b[0;34m\u001b[0m\u001b[0m\n\u001b[0m\u001b[1;32m      8\u001b[0m     \u001b[0mloss_odd\u001b[0m\u001b[0;34m.\u001b[0m\u001b[0mappend\u001b[0m\u001b[0;34m(\u001b[0m\u001b[0mfind_best_K\u001b[0m\u001b[0;34m(\u001b[0m\u001b[0mX\u001b[0m\u001b[0;34m,\u001b[0m \u001b[0my\u001b[0m\u001b[0;34m,\u001b[0m \u001b[0;34m'odd'\u001b[0m\u001b[0;34m,\u001b[0m \u001b[0mtraining_size\u001b[0m\u001b[0;34m=\u001b[0m\u001b[0mtr\u001b[0m\u001b[0;34m)\u001b[0m\u001b[0;34m[\u001b[0m\u001b[0;36m1\u001b[0m\u001b[0;34m]\u001b[0m\u001b[0;34m)\u001b[0m\u001b[0;34m\u001b[0m\u001b[0;34m\u001b[0m\u001b[0m\n\u001b[1;32m      9\u001b[0m \u001b[0;34m\u001b[0m\u001b[0m\n",
      "\u001b[0;32m<ipython-input-34-15d99d3efd8d>\u001b[0m in \u001b[0;36mfind_best_K\u001b[0;34m(X, y, parity, with_validation, training_size, model)\u001b[0m\n\u001b[1;32m     47\u001b[0m             \u001b[0;32mfor\u001b[0m \u001b[0mr\u001b[0m \u001b[0;32min\u001b[0m \u001b[0mrange_r\u001b[0m\u001b[0;34m:\u001b[0m\u001b[0;34m\u001b[0m\u001b[0;34m\u001b[0m\u001b[0m\n\u001b[1;32m     48\u001b[0m \u001b[0;34m\u001b[0m\u001b[0m\n\u001b[0;32m---> 49\u001b[0;31m                 \u001b[0mindex\u001b[0m \u001b[0;34m=\u001b[0m \u001b[0mfind_best_index\u001b[0m\u001b[0;34m(\u001b[0m\u001b[0mX_tr\u001b[0m\u001b[0;34m,\u001b[0m \u001b[0mX_te\u001b[0m\u001b[0;34m,\u001b[0m \u001b[0my_tr\u001b[0m\u001b[0;34m,\u001b[0m \u001b[0my_te\u001b[0m\u001b[0;34m,\u001b[0m \u001b[0;34m'mape'\u001b[0m\u001b[0;34m,\u001b[0m \u001b[0mN\u001b[0m\u001b[0;34m,\u001b[0m \u001b[0mr\u001b[0m\u001b[0;34m)\u001b[0m\u001b[0;34m\u001b[0m\u001b[0;34m\u001b[0m\u001b[0m\n\u001b[0m\u001b[1;32m     50\u001b[0m                 \u001b[0mP\u001b[0m\u001b[0;34m,\u001b[0m \u001b[0mq\u001b[0m\u001b[0;34m,\u001b[0m \u001b[0mG\u001b[0m\u001b[0;34m,\u001b[0m \u001b[0mh\u001b[0m\u001b[0;34m,\u001b[0m \u001b[0mA\u001b[0m\u001b[0;34m,\u001b[0m \u001b[0mb\u001b[0m \u001b[0;34m=\u001b[0m \u001b[0mgenerate_params\u001b[0m\u001b[0;34m(\u001b[0m\u001b[0mX_tr\u001b[0m\u001b[0;34m,\u001b[0m \u001b[0my_tr\u001b[0m\u001b[0;34m,\u001b[0m \u001b[0mindex\u001b[0m\u001b[0;34m,\u001b[0m \u001b[0mN\u001b[0m\u001b[0;34m,\u001b[0m \u001b[0mr\u001b[0m\u001b[0;34m,\u001b[0m \u001b[0;36m10e-15\u001b[0m\u001b[0;34m)\u001b[0m\u001b[0;34m\u001b[0m\u001b[0;34m\u001b[0m\u001b[0m\n\u001b[1;32m     51\u001b[0m                 \u001b[0mgamma\u001b[0m \u001b[0;34m=\u001b[0m \u001b[0mcvxopt_solve_qp\u001b[0m\u001b[0;34m(\u001b[0m\u001b[0mP\u001b[0m\u001b[0;34m,\u001b[0m \u001b[0mq\u001b[0m\u001b[0;34m,\u001b[0m \u001b[0mG\u001b[0m\u001b[0;34m,\u001b[0m \u001b[0mh\u001b[0m\u001b[0;34m,\u001b[0m \u001b[0mA\u001b[0m\u001b[0;34m,\u001b[0m\u001b[0mb\u001b[0m\u001b[0;34m)\u001b[0m\u001b[0;34m\u001b[0m\u001b[0;34m\u001b[0m\u001b[0m\n",
      "\u001b[0;32m<ipython-input-34-15d99d3efd8d>\u001b[0m in \u001b[0;36mfind_best_index\u001b[0;34m(X_train, X_test, y_train, y_test, loss, N, r)\u001b[0m\n\u001b[1;32m    113\u001b[0m         \u001b[0;31m#print('G', G)\u001b[0m\u001b[0;34m\u001b[0m\u001b[0;34m\u001b[0m\u001b[0;34m\u001b[0m\u001b[0m\n\u001b[1;32m    114\u001b[0m         \u001b[0;31m#print('h', h)\u001b[0m\u001b[0;34m\u001b[0m\u001b[0;34m\u001b[0m\u001b[0;34m\u001b[0m\u001b[0m\n\u001b[0;32m--> 115\u001b[0;31m         \u001b[0mgammas\u001b[0m \u001b[0;34m=\u001b[0m \u001b[0mcvxopt_solve_qp\u001b[0m\u001b[0;34m(\u001b[0m\u001b[0mP\u001b[0m\u001b[0;34m,\u001b[0m \u001b[0mq\u001b[0m\u001b[0;34m,\u001b[0m \u001b[0mG\u001b[0m\u001b[0;34m,\u001b[0m \u001b[0mh\u001b[0m\u001b[0;34m,\u001b[0m \u001b[0mA\u001b[0m\u001b[0;34m,\u001b[0m \u001b[0mb\u001b[0m\u001b[0;34m)\u001b[0m\u001b[0;34m\u001b[0m\u001b[0;34m\u001b[0m\u001b[0m\n\u001b[0m\u001b[1;32m    116\u001b[0m         \u001b[0;31m#print(X_test.shape)\u001b[0m\u001b[0;34m\u001b[0m\u001b[0;34m\u001b[0m\u001b[0;34m\u001b[0m\u001b[0m\n\u001b[1;32m    117\u001b[0m         \u001b[0;31m#print(gammas.shape)\u001b[0m\u001b[0;34m\u001b[0m\u001b[0;34m\u001b[0m\u001b[0;34m\u001b[0m\u001b[0m\n",
      "\u001b[0;32m<ipython-input-34-15d99d3efd8d>\u001b[0m in \u001b[0;36mcvxopt_solve_qp\u001b[0;34m(P, q, G, h, A, b)\u001b[0m\n\u001b[1;32m    135\u001b[0m         \u001b[0;32mif\u001b[0m \u001b[0mA\u001b[0m \u001b[0;32mis\u001b[0m \u001b[0;32mnot\u001b[0m \u001b[0;32mNone\u001b[0m\u001b[0;34m:\u001b[0m\u001b[0;34m\u001b[0m\u001b[0;34m\u001b[0m\u001b[0m\n\u001b[1;32m    136\u001b[0m             \u001b[0margs\u001b[0m\u001b[0;34m.\u001b[0m\u001b[0mextend\u001b[0m\u001b[0;34m(\u001b[0m\u001b[0;34m[\u001b[0m\u001b[0mcvxopt\u001b[0m\u001b[0;34m.\u001b[0m\u001b[0mmatrix\u001b[0m\u001b[0;34m(\u001b[0m\u001b[0mA\u001b[0m\u001b[0;34m)\u001b[0m\u001b[0;34m,\u001b[0m \u001b[0mcvxopt\u001b[0m\u001b[0;34m.\u001b[0m\u001b[0mmatrix\u001b[0m\u001b[0;34m(\u001b[0m\u001b[0mb\u001b[0m\u001b[0;34m)\u001b[0m\u001b[0;34m]\u001b[0m\u001b[0;34m)\u001b[0m\u001b[0;34m\u001b[0m\u001b[0;34m\u001b[0m\u001b[0m\n\u001b[0;32m--> 137\u001b[0;31m     \u001b[0msol\u001b[0m \u001b[0;34m=\u001b[0m \u001b[0mcvxopt\u001b[0m\u001b[0;34m.\u001b[0m\u001b[0msolvers\u001b[0m\u001b[0;34m.\u001b[0m\u001b[0mqp\u001b[0m\u001b[0;34m(\u001b[0m\u001b[0;34m*\u001b[0m\u001b[0margs\u001b[0m\u001b[0;34m,\u001b[0m \u001b[0minitvals\u001b[0m\u001b[0;34m=\u001b[0m\u001b[0mnp\u001b[0m\u001b[0;34m.\u001b[0m\u001b[0mones\u001b[0m\u001b[0;34m(\u001b[0m\u001b[0mN\u001b[0m\u001b[0;34m)\u001b[0m\u001b[0;34m)\u001b[0m\u001b[0;34m\u001b[0m\u001b[0;34m\u001b[0m\u001b[0m\n\u001b[0m\u001b[1;32m    138\u001b[0m     \u001b[0;31m#print('is optimal in solution status', 'optimal' not in sol['status'])\u001b[0m\u001b[0;34m\u001b[0m\u001b[0;34m\u001b[0m\u001b[0;34m\u001b[0m\u001b[0m\n\u001b[1;32m    139\u001b[0m     \u001b[0;31m#print('solution', sol['x'])\u001b[0m\u001b[0;34m\u001b[0m\u001b[0;34m\u001b[0m\u001b[0;34m\u001b[0m\u001b[0m\n",
      "\u001b[0;32m/usr/local/anaconda3/lib/python3.7/site-packages/cvxopt/coneprog.py\u001b[0m in \u001b[0;36mqp\u001b[0;34m(P, q, G, h, A, b, solver, kktsolver, initvals, **kwargs)\u001b[0m\n\u001b[1;32m   4483\u001b[0m             'residual as dual infeasibility certificate': dinfres}\n\u001b[1;32m   4484\u001b[0m \u001b[0;34m\u001b[0m\u001b[0m\n\u001b[0;32m-> 4485\u001b[0;31m     \u001b[0;32mreturn\u001b[0m \u001b[0mconeqp\u001b[0m\u001b[0;34m(\u001b[0m\u001b[0mP\u001b[0m\u001b[0;34m,\u001b[0m \u001b[0mq\u001b[0m\u001b[0;34m,\u001b[0m \u001b[0mG\u001b[0m\u001b[0;34m,\u001b[0m \u001b[0mh\u001b[0m\u001b[0;34m,\u001b[0m \u001b[0;32mNone\u001b[0m\u001b[0;34m,\u001b[0m \u001b[0mA\u001b[0m\u001b[0;34m,\u001b[0m  \u001b[0mb\u001b[0m\u001b[0;34m,\u001b[0m \u001b[0minitvals\u001b[0m\u001b[0;34m,\u001b[0m \u001b[0mkktsolver\u001b[0m \u001b[0;34m=\u001b[0m \u001b[0mkktsolver\u001b[0m\u001b[0;34m,\u001b[0m \u001b[0moptions\u001b[0m \u001b[0;34m=\u001b[0m \u001b[0moptions\u001b[0m\u001b[0;34m)\u001b[0m\u001b[0;34m\u001b[0m\u001b[0;34m\u001b[0m\u001b[0m\n\u001b[0m",
      "\u001b[0;32m/usr/local/anaconda3/lib/python3.7/site-packages/cvxopt/coneprog.py\u001b[0m in \u001b[0;36mconeqp\u001b[0;34m(P, q, G, h, dims, A, b, initvals, kktsolver, xnewcopy, xdot, xaxpy, xscal, ynewcopy, ydot, yaxpy, yscal, **kwargs)\u001b[0m\n\u001b[1;32m   2399\u001b[0m             \u001b[0mblas\u001b[0m\u001b[0;34m.\u001b[0m\u001b[0maxpy\u001b[0m\u001b[0;34m(\u001b[0m\u001b[0mrz\u001b[0m\u001b[0;34m,\u001b[0m \u001b[0mdz\u001b[0m\u001b[0;34m,\u001b[0m \u001b[0malpha\u001b[0m \u001b[0;34m=\u001b[0m \u001b[0;34m-\u001b[0m\u001b[0;36m1.0\u001b[0m \u001b[0;34m+\u001b[0m \u001b[0meta\u001b[0m\u001b[0;34m)\u001b[0m\u001b[0;34m\u001b[0m\u001b[0;34m\u001b[0m\u001b[0m\n\u001b[1;32m   2400\u001b[0m \u001b[0;34m\u001b[0m\u001b[0m\n\u001b[0;32m-> 2401\u001b[0;31m             \u001b[0;32mtry\u001b[0m\u001b[0;34m:\u001b[0m \u001b[0mf4\u001b[0m\u001b[0;34m(\u001b[0m\u001b[0mdx\u001b[0m\u001b[0;34m,\u001b[0m \u001b[0mdy\u001b[0m\u001b[0;34m,\u001b[0m \u001b[0mdz\u001b[0m\u001b[0;34m,\u001b[0m \u001b[0mds\u001b[0m\u001b[0;34m)\u001b[0m\u001b[0;34m\u001b[0m\u001b[0;34m\u001b[0m\u001b[0m\n\u001b[0m\u001b[1;32m   2402\u001b[0m             \u001b[0;32mexcept\u001b[0m \u001b[0mArithmeticError\u001b[0m\u001b[0;34m:\u001b[0m\u001b[0;34m\u001b[0m\u001b[0;34m\u001b[0m\u001b[0m\n\u001b[1;32m   2403\u001b[0m                 \u001b[0;32mif\u001b[0m \u001b[0miters\u001b[0m \u001b[0;34m==\u001b[0m \u001b[0;36m0\u001b[0m\u001b[0;34m:\u001b[0m\u001b[0;34m\u001b[0m\u001b[0;34m\u001b[0m\u001b[0m\n",
      "\u001b[0;32m/usr/local/anaconda3/lib/python3.7/site-packages/cvxopt/coneprog.py\u001b[0m in \u001b[0;36mf4\u001b[0;34m(x, y, z, s)\u001b[0m\n\u001b[1;32m   2334\u001b[0m                 \u001b[0mblas\u001b[0m\u001b[0;34m.\u001b[0m\u001b[0mcopy\u001b[0m\u001b[0;34m(\u001b[0m\u001b[0mz\u001b[0m\u001b[0;34m,\u001b[0m \u001b[0mwz\u001b[0m\u001b[0;34m)\u001b[0m\u001b[0;34m\u001b[0m\u001b[0;34m\u001b[0m\u001b[0m\n\u001b[1;32m   2335\u001b[0m                 \u001b[0mblas\u001b[0m\u001b[0;34m.\u001b[0m\u001b[0mcopy\u001b[0m\u001b[0;34m(\u001b[0m\u001b[0ms\u001b[0m\u001b[0;34m,\u001b[0m \u001b[0mws\u001b[0m\u001b[0;34m)\u001b[0m\u001b[0;34m\u001b[0m\u001b[0;34m\u001b[0m\u001b[0m\n\u001b[0;32m-> 2336\u001b[0;31m             \u001b[0mf4_no_ir\u001b[0m\u001b[0;34m(\u001b[0m\u001b[0mx\u001b[0m\u001b[0;34m,\u001b[0m \u001b[0my\u001b[0m\u001b[0;34m,\u001b[0m \u001b[0mz\u001b[0m\u001b[0;34m,\u001b[0m \u001b[0ms\u001b[0m\u001b[0;34m)\u001b[0m\u001b[0;34m\u001b[0m\u001b[0;34m\u001b[0m\u001b[0m\n\u001b[0m\u001b[1;32m   2337\u001b[0m             \u001b[0;32mfor\u001b[0m \u001b[0mi\u001b[0m \u001b[0;32min\u001b[0m \u001b[0mrange\u001b[0m\u001b[0;34m(\u001b[0m\u001b[0mrefinement\u001b[0m\u001b[0;34m)\u001b[0m\u001b[0;34m:\u001b[0m\u001b[0;34m\u001b[0m\u001b[0;34m\u001b[0m\u001b[0m\n\u001b[1;32m   2338\u001b[0m                 \u001b[0mxcopy\u001b[0m\u001b[0;34m(\u001b[0m\u001b[0mwx\u001b[0m\u001b[0;34m,\u001b[0m \u001b[0mwx2\u001b[0m\u001b[0;34m)\u001b[0m\u001b[0;34m\u001b[0m\u001b[0;34m\u001b[0m\u001b[0m\n",
      "\u001b[0;32m/usr/local/anaconda3/lib/python3.7/site-packages/cvxopt/coneprog.py\u001b[0m in \u001b[0;36mf4_no_ir\u001b[0;34m(x, y, z, s)\u001b[0m\n\u001b[1;32m   2310\u001b[0m \u001b[0;34m\u001b[0m\u001b[0m\n\u001b[1;32m   2311\u001b[0m             \u001b[0;31m# Solve for ux, uy, uz\u001b[0m\u001b[0;34m\u001b[0m\u001b[0;34m\u001b[0m\u001b[0;34m\u001b[0m\u001b[0m\n\u001b[0;32m-> 2312\u001b[0;31m             \u001b[0mf3\u001b[0m\u001b[0;34m(\u001b[0m\u001b[0mx\u001b[0m\u001b[0;34m,\u001b[0m \u001b[0my\u001b[0m\u001b[0;34m,\u001b[0m \u001b[0mz\u001b[0m\u001b[0;34m)\u001b[0m\u001b[0;34m\u001b[0m\u001b[0;34m\u001b[0m\u001b[0m\n\u001b[0m\u001b[1;32m   2313\u001b[0m \u001b[0;34m\u001b[0m\u001b[0m\n\u001b[1;32m   2314\u001b[0m             \u001b[0;31m# s := s - z\u001b[0m\u001b[0;34m\u001b[0m\u001b[0;34m\u001b[0m\u001b[0;34m\u001b[0m\u001b[0m\n",
      "\u001b[0;32m/usr/local/anaconda3/lib/python3.7/site-packages/cvxopt/misc.py\u001b[0m in \u001b[0;36msolve\u001b[0;34m(x, y, z)\u001b[0m\n\u001b[1;32m   1561\u001b[0m             \u001b[0;32mif\u001b[0m \u001b[0mmnl\u001b[0m\u001b[0;34m:\u001b[0m\u001b[0;34m\u001b[0m\u001b[0;34m\u001b[0m\u001b[0m\n\u001b[1;32m   1562\u001b[0m                 \u001b[0mbase\u001b[0m\u001b[0;34m.\u001b[0m\u001b[0mgemv\u001b[0m\u001b[0;34m(\u001b[0m\u001b[0mF\u001b[0m\u001b[0;34m[\u001b[0m\u001b[0;34m'Dfs'\u001b[0m\u001b[0;34m]\u001b[0m\u001b[0;34m,\u001b[0m \u001b[0mx\u001b[0m\u001b[0;34m,\u001b[0m \u001b[0mz\u001b[0m\u001b[0;34m,\u001b[0m \u001b[0mbeta\u001b[0m \u001b[0;34m=\u001b[0m \u001b[0;34m-\u001b[0m\u001b[0;36m1.0\u001b[0m\u001b[0;34m)\u001b[0m\u001b[0;34m\u001b[0m\u001b[0;34m\u001b[0m\u001b[0m\n\u001b[0;32m-> 1563\u001b[0;31m             \u001b[0mbase\u001b[0m\u001b[0;34m.\u001b[0m\u001b[0mgemv\u001b[0m\u001b[0;34m(\u001b[0m\u001b[0mF\u001b[0m\u001b[0;34m[\u001b[0m\u001b[0;34m'Gs'\u001b[0m\u001b[0;34m]\u001b[0m\u001b[0;34m,\u001b[0m \u001b[0mx\u001b[0m\u001b[0;34m,\u001b[0m \u001b[0mz\u001b[0m\u001b[0;34m,\u001b[0m \u001b[0mbeta\u001b[0m \u001b[0;34m=\u001b[0m \u001b[0;34m-\u001b[0m\u001b[0;36m1.0\u001b[0m\u001b[0;34m,\u001b[0m \u001b[0moffsety\u001b[0m \u001b[0;34m=\u001b[0m \u001b[0mmnl\u001b[0m\u001b[0;34m)\u001b[0m\u001b[0;34m\u001b[0m\u001b[0;34m\u001b[0m\u001b[0m\n\u001b[0m\u001b[1;32m   1564\u001b[0m \u001b[0;34m\u001b[0m\u001b[0m\n\u001b[1;32m   1565\u001b[0m         \u001b[0;32mreturn\u001b[0m \u001b[0msolve\u001b[0m\u001b[0;34m\u001b[0m\u001b[0;34m\u001b[0m\u001b[0m\n",
      "\u001b[0;31mKeyboardInterrupt\u001b[0m: "
     ]
    }
   ],
   "source": [
    "from tqdm import tqdm\n",
    "N = X.shape[1]\n",
    "training_poss = np.arange(3, 10)\n",
    "loss_even = []\n",
    "loss_odd = []\n",
    "for tr in tqdm(training_poss):\n",
    "    loss_even.append(find_best_K(X, y, 'even', training_size=tr)[1])\n",
    "    loss_odd.append(find_best_K(X, y, 'odd', training_size=tr)[1])\n",
    "\n"
   ]
  },
  {
   "cell_type": "code",
   "execution_count": 484,
   "metadata": {},
   "outputs": [
    {
     "data": {
      "text/plain": [
       "(2.7, 9.3, 0.2679044124651126, 0.32774942721146016)"
      ]
     },
     "execution_count": 484,
     "metadata": {},
     "output_type": "execute_result"
    },
    {
     "data": {
      "image/png": "[encoded data removed]",
      "text/plain": [
       "<Figure size 432x288 with 1 Axes>"
      ]
     },
     "metadata": {
      "needs_background": "light"
     },
     "output_type": "display_data"
    }
   ],
   "source": [
    "x_data = training_poss\n",
    "y_data0 = loss_even\n",
    "y_data1 = loss_odd\n",
    "\n",
    "fig = plt.figure()\n",
    "ax = fig.add_subplot(1, 1, 1)\n",
    "ax.plot(x_data, y_data0, label='even smoothing')\n",
    "ax.plot(x_data, y_data1, label='odd smoothing')\n",
    "plt.legend()\n",
    "#plt.title('Mean MAPE loss based on \\n the number of training days')\n",
    "\n",
    "#ax.plot([0.1, 0.2, 0.3, 0.4], [1, 4, 9, 16])\n",
    "ax.set_xlabel('Number of training days')\n",
    "ax.set_ylabel('Mean MAPE')\n",
    "\n",
    "#plt.axvline(x=tr)\n",
    "#min_ = 'K= ' + str(tr)\n",
    "#\n",
    "#ax.annotate(min_, xy=(tr, min(losses[idx])+2))\n",
    "ax.axis()"
   ]
  },
  {
   "cell_type": "code",
   "execution_count": 485,
   "metadata": {},
   "outputs": [],
   "source": [
    "minimums = [np.min(loss_even), np.min(loss_odd)]\n",
    "losses = [loss_even, loss_odd]\n",
    "idx = np.argmin(minimums) #if 0 even if 1 odd\n",
    "tr = training_poss[np.argmin(losses[idx])]\n",
    "parity = ''\n",
    "if idx == 0:\n",
    "    K = find_best_K(X, y, parity='even',training_size = tr)[0]\n",
    "    X = apply_smoothing(X, K, 'even') \n",
    "    parity = 'even'\n",
    "else:\n",
    "    K = find_best_K(X, y, parity='odd',training_size = tr)[0]\n",
    "    X = apply_smoothing(X, K, 'odd') \n",
    "    parity = 'odd'\n"
   ]
  },
  {
   "cell_type": "code",
   "execution_count": 486,
   "metadata": {},
   "outputs": [
    {
     "name": "stdout",
     "output_type": "stream",
     "text": [
      "The minimum loss of  0.2706246404081284  is obtained using  3  training days with an even parity and K= 21\n"
     ]
    }
   ],
   "source": [
    "print('The minimum loss of ', min(losses[idx]), ' is obtained using ', tr, ' training days with an', parity, 'parity and K=', K)"
   ]
  },
  {
   "cell_type": "code",
   "execution_count": 41,
   "metadata": {},
   "outputs": [],
   "source": [
    "#Number of infected for past two weeks\n",
    "X = pd.read_csv('data.csv').iloc[:,1:-2].values\n",
    "\n",
    "#Number of deaths\n",
    "y = pd.read_csv('data.csv').iloc[:,-2].values\n",
    "\n",
    "N = X.shape[1]\n",
    "\n",
    "tr = 3\n",
    "\n",
    "tr0 = 4\n",
    "\n",
    "X0 = apply_smoothing(X, 19, 'odd')"
   ]
  },
  {
   "cell_type": "code",
   "execution_count": 42,
   "metadata": {},
   "outputs": [],
   "source": [
    "def compute_preds(X, tr):\n",
    "\n",
    "    N = X.shape[1]\n",
    "\n",
    "    splits = int(np.floor((X.shape[0] - tr)/7))\n",
    "\n",
    "    # list of the mape for a given split, this list is reinitialized for every K\n",
    "    temp_mapes = []\n",
    "    y_vals = []\n",
    "    indexes = []\n",
    "    y_preds = []\n",
    "    gammas = []\n",
    "    range_r = [0.00001,0.0001,0.001,0.01, 0.1, 1]\n",
    "    rs = []\n",
    "    for i in range(splits):\n",
    "\n",
    "        begin = 7*i\n",
    "        end = tr + 7*i\n",
    "\n",
    "        X_tr = X[begin:end,:]\n",
    "        y_tr = y[begin:end]\n",
    "\n",
    "        X_te = X[end:end+7,:]\n",
    "        y_te = y[end:end+7]\n",
    "\n",
    "        mape_per_r = []\n",
    "        indexes_temp = []\n",
    "        for r in range_r:\n",
    "\n",
    "            index = find_best_index(X_tr, X_te, y_tr, y_te, 'mape', N, r)\n",
    "            P, q, G, h, A, b = generate_params(X_tr, y_tr, index, N, r, 10e-15)\n",
    "            gamma = cvxopt_solve_qp(P, q, G, h, A,b)\n",
    "            y_pred = X_te@gamma\n",
    "            y_pred[y_pred < 1 ] = 1\n",
    "            y_pred = np.floor(y_pred)\n",
    "            mape_per_r.append(mae(y_te, y_pred))\n",
    "\n",
    "        r = range_r[np.argmin(mape_per_r)]\n",
    "        rs.append(r)\n",
    "        index = find_best_index(X_tr, X_te, y_tr, y_te, 'mape', N, r)\n",
    "        indexes.append(index)\n",
    "        #print('Best r for given split is', r)\n",
    "        P, q, G, h, A, b = generate_params(X_tr, y_tr, index, N, r, 10e-15)\n",
    "        gamma = cvxopt_solve_qp(P, q, G, h, A,b)\n",
    "        y_pred = X_te@gamma\n",
    "        y_pred[y_pred < 1 ] = 1\n",
    "        y_pred = np.floor(y_pred)\n",
    "        temp_mapes.append(mae(y_te, y_pred))\n",
    "        y_preds.append(y_pred)\n",
    "        gammas.append(gamma)\n",
    "        \n",
    "    print(np.mean(temp_mapes))\n",
    "    y_preds = [item for sublist in y_preds for item in sublist]\n",
    "    y_preds = exponential_smoothing(y_preds, 0.65, 7)\n",
    "    return y_preds, gammas\n"
   ]
  },
  {
   "cell_type": "code",
   "execution_count": 43,
   "metadata": {},
   "outputs": [
    {
     "name": "stdout",
     "output_type": "stream",
     "text": [
      "7.60204081632653\n",
      "6.724489795918367\n"
     ]
    }
   ],
   "source": [
    "y_normal, gammas_normal = compute_preds(X, tr)\n",
    "y_smoothed, gammas_smoothed = compute_preds(X0, tr0)\n",
    "\n",
    "y_normal = [y_p if y_p > 1 else 1 for y_p in y_normal]\n",
    "y_smoothed = [y_p if y_p > 1 else 1 for y_p in y_smoothed]"
   ]
  },
  {
   "cell_type": "code",
   "execution_count": 44,
   "metadata": {},
   "outputs": [
    {
     "data": {
      "text/plain": [
       "<matplotlib.legend.Legend at 0x1a1c81c2e8>"
      ]
     },
     "execution_count": 44,
     "metadata": {},
     "output_type": "execute_result"
    },
    {
     "data": {
      "image/png": "[encoded data removed]",
      "text/plain": [
       "<Figure size 720x480 with 1 Axes>"
      ]
     },
     "metadata": {},
     "output_type": "display_data"
    }
   ],
   "source": [
    "from matplotlib.pyplot import figure\n",
    "figure(num=None, figsize=(9, 6), dpi=80, facecolor='w', edgecolor='k')\n",
    "ax = plt.subplot('111')\n",
    "plt.plot(np.append(y[:tr],y_normal), 'orange', np.append(y[:tr],y_smoothed), 'blue', y, 'g')\n",
    "plt.xlabel('Day')\n",
    "plt.ylabel('Number of Deaths')\n",
    "plt.legend(['Predicted value without smoothing','Predicted value with smoothing', 'True value'])\n",
    "#plt.title('Daily number of deaths in France due to the Covid-19')"
   ]
  },
  {
   "cell_type": "code",
   "execution_count": 31,
   "metadata": {},
   "outputs": [
    {
     "data": {
      "text/plain": [
       "<matplotlib.axes._subplots.AxesSubplot at 0x1a1c6138d0>"
      ]
     },
     "execution_count": 31,
     "metadata": {},
     "output_type": "execute_result"
    },
    {
     "data": {
      "image/png": "[encoded data removed]",
      "text/plain": [
       "<Figure size 432x288 with 1 Axes>"
      ]
     },
     "metadata": {
      "needs_background": "light"
     },
     "output_type": "display_data"
    }
   ],
   "source": [
    "pd.DataFrame(gammas_normal[2]).plot(title='Gammas distribution under baseline model',legend=None)"
   ]
  },
  {
   "cell_type": "code",
   "execution_count": null,
   "metadata": {},
   "outputs": [],
   "source": []
  },
  {
   "cell_type": "code",
   "execution_count": 492,
   "metadata": {},
   "outputs": [
    {
     "data": {
      "text/plain": [
       "<matplotlib.legend.Legend at 0x1a18fb15f8>"
      ]
     },
     "execution_count": 492,
     "metadata": {},
     "output_type": "execute_result"
    },
    {
     "data": {
      "image/png": "[encoded data removed]",
      "text/plain": [
       "<Figure size 432x288 with 1 Axes>"
      ]
     },
     "metadata": {
      "needs_background": "light"
     },
     "output_type": "display_data"
    }
   ],
   "source": [
    "plt.plot(np.append(y[:tr],exponential_smoothing(y_preds, 0.65, 7)), 'b', y, 'g')\n",
    "plt.xlabel('Day')\n",
    "plt.ylabel('Number of Deaths')\n",
    "plt.legend(['Predicted value','True value'])\n",
    "#plt.title('Daily number of deaths in France due to the Covid-19')"
   ]
  },
  {
   "cell_type": "code",
   "execution_count": 470,
   "metadata": {},
   "outputs": [
    {
     "name": "stdout",
     "output_type": "stream",
     "text": [
      "98 98\n"
     ]
    }
   ],
   "source": [
    "#print alongside the plot the value of number of infected\n",
    "#infected = []\n",
    "#indexes = []\n",
    "#for gamma in gammas:\n",
    " #   indexes.append(np.argmax(gamma))\n",
    "\n",
    "indexes1 = list(itertools.chain.from_iterable(itertools.repeat(x, 7) for x in indexes))\n",
    "rs1 = list(itertools.chain.from_iterable(itertools.repeat(x, 7) for x in rs))\n",
    "print(len(indexes1), len(rs1))\n",
    "X_tocheck = X[tr:,:]\n",
    "for i in range(len(y_preds)):\n",
    "    infected.append(0.001*X[i,indexes1[i]])\n",
    "    "
   ]
  },
  {
   "cell_type": "code",
   "execution_count": 543,
   "metadata": {},
   "outputs": [
    {
     "ename": "AttributeError",
     "evalue": "'AxesSubplot' object has no attribute 'xlabel'",
     "output_type": "error",
     "traceback": [
      "\u001b[0;31m---------------------------------------------------------------------------\u001b[0m",
      "\u001b[0;31mAttributeError\u001b[0m                            Traceback (most recent call last)",
      "\u001b[0;32m<ipython-input-543-bb3d056b6f30>\u001b[0m in \u001b[0;36m<module>\u001b[0;34m\u001b[0m\n\u001b[1;32m      1\u001b[0m \u001b[0mplt\u001b[0m\u001b[0;34m.\u001b[0m\u001b[0mplot\u001b[0m\u001b[0;34m(\u001b[0m\u001b[0mnp\u001b[0m\u001b[0;34m.\u001b[0m\u001b[0mappend\u001b[0m\u001b[0;34m(\u001b[0m\u001b[0my\u001b[0m\u001b[0;34m[\u001b[0m\u001b[0;34m:\u001b[0m\u001b[0mtr\u001b[0m\u001b[0;34m]\u001b[0m\u001b[0;34m,\u001b[0m \u001b[0my_preds\u001b[0m\u001b[0;34m)\u001b[0m\u001b[0;34m,\u001b[0m \u001b[0;34m'b'\u001b[0m\u001b[0;34m,\u001b[0m \u001b[0my\u001b[0m\u001b[0;34m,\u001b[0m \u001b[0;34m'g'\u001b[0m\u001b[0;34m,\u001b[0m \u001b[0minfected\u001b[0m\u001b[0;34m,\u001b[0m \u001b[0;34m'grey'\u001b[0m\u001b[0;34m)\u001b[0m\u001b[0;34m\u001b[0m\u001b[0;34m\u001b[0m\u001b[0m\n\u001b[0;32m----> 2\u001b[0;31m \u001b[0mplt\u001b[0m\u001b[0;34m.\u001b[0m\u001b[0mxlabel\u001b[0m\u001b[0;34m(\u001b[0m\u001b[0;34m'Day'\u001b[0m\u001b[0;34m)\u001b[0m\u001b[0;34m\u001b[0m\u001b[0;34m\u001b[0m\u001b[0m\n\u001b[0m\u001b[1;32m      3\u001b[0m \u001b[0mplt\u001b[0m\u001b[0;34m.\u001b[0m\u001b[0mylabel\u001b[0m\u001b[0;34m(\u001b[0m\u001b[0;34m'Number of Deaths'\u001b[0m\u001b[0;34m)\u001b[0m\u001b[0;34m\u001b[0m\u001b[0;34m\u001b[0m\u001b[0m\n\u001b[1;32m      4\u001b[0m \u001b[0mplt\u001b[0m\u001b[0;34m.\u001b[0m\u001b[0mlegend\u001b[0m\u001b[0;34m(\u001b[0m\u001b[0;34m[\u001b[0m\u001b[0;34m'Predicted value'\u001b[0m\u001b[0;34m,\u001b[0m\u001b[0;34m'True value'\u001b[0m\u001b[0;34m,\u001b[0m\u001b[0;34m'Number of infected'\u001b[0m\u001b[0;34m]\u001b[0m\u001b[0;34m)\u001b[0m\u001b[0;34m\u001b[0m\u001b[0;34m\u001b[0m\u001b[0m\n\u001b[1;32m      5\u001b[0m \u001b[0;31m#plt.title('Daily number of deaths in France due to the Covid-19')\u001b[0m\u001b[0;34m\u001b[0m\u001b[0;34m\u001b[0m\u001b[0;34m\u001b[0m\u001b[0m\n",
      "\u001b[0;31mAttributeError\u001b[0m: 'AxesSubplot' object has no attribute 'xlabel'"
     ]
    }
   ],
   "source": [
    "plt.plot(np.append(y[:tr], y_preds), 'b', y, 'g', infected, 'grey')\n",
    "plt.xlabel('Day')\n",
    "plt.ylabel('Number of Deaths')\n",
    "plt.legend(['Predicted value','True value','Number of infected'])\n",
    "#plt.title('Daily number of deaths in France due to the Covid-19')"
   ]
  },
  {
   "cell_type": "code",
   "execution_count": 472,
   "metadata": {},
   "outputs": [
    {
     "data": {
      "text/plain": [
       "0.2870014921831089"
      ]
     },
     "execution_count": 472,
     "metadata": {},
     "output_type": "execute_result"
    }
   ],
   "source": [
    "np.mean(temp_mapes)"
   ]
  },
  {
   "cell_type": "markdown",
   "metadata": {},
   "source": [
    "### Without smoothing"
   ]
  },
  {
   "cell_type": "code",
   "execution_count": 473,
   "metadata": {},
   "outputs": [],
   "source": [
    "#Number of infected for past two weeks\n",
    "X = pd.read_csv('data.csv').iloc[:,1:-2].values\n",
    "\n",
    "#Number of deaths\n",
    "y = pd.read_csv('data.csv').iloc[:,-2].values"
   ]
  },
  {
   "cell_type": "code",
   "execution_count": 493,
   "metadata": {},
   "outputs": [
    {
     "name": "stderr",
     "output_type": "stream",
     "text": [
      "\n",
      "\n",
      "\n",
      "\n",
      "\n",
      "\n",
      "\n",
      "\n",
      "\n",
      "\n",
      "  0%|          | 0/7 [00:00<?, ?it/s]\u001b[A\u001b[A\u001b[A\u001b[A\u001b[A\u001b[A\u001b[A\u001b[A\u001b[A\u001b[A\n",
      "\n",
      "\n",
      "\n",
      "\n",
      "\n",
      "\n",
      "\n",
      "\n",
      "\n",
      " 14%|█▍        | 1/7 [00:04<00:25,  4.22s/it]\u001b[A\u001b[A\u001b[A\u001b[A\u001b[A\u001b[A\u001b[A\u001b[A\u001b[A\u001b[A\n",
      "\n",
      "\n",
      "\n",
      "\n",
      "\n",
      "\n",
      "\n",
      "\n",
      "\n",
      " 29%|██▊       | 2/7 [00:08<00:21,  4.21s/it]\u001b[A\u001b[A\u001b[A\u001b[A\u001b[A\u001b[A\u001b[A\u001b[A\u001b[A\u001b[A\n",
      "\n",
      "\n",
      "\n",
      "\n",
      "\n",
      "\n",
      "\n",
      "\n",
      "\n",
      " 43%|████▎     | 3/7 [00:13<00:17,  4.46s/it]\u001b[A\u001b[A\u001b[A\u001b[A\u001b[A\u001b[A\u001b[A\u001b[A\u001b[A\u001b[A\n",
      "\n",
      "\n",
      "\n",
      "\n",
      "\n",
      "\n",
      "\n",
      "\n",
      "\n",
      " 57%|█████▋    | 4/7 [00:20<00:15,  5.31s/it]\u001b[A\u001b[A\u001b[A\u001b[A\u001b[A\u001b[A\u001b[A\u001b[A\u001b[A\u001b[A\n",
      "\n",
      "\n",
      "\n",
      "\n",
      "\n",
      "\n",
      "\n",
      "\n",
      "\n",
      " 71%|███████▏  | 5/7 [00:25<00:10,  5.11s/it]\u001b[A\u001b[A\u001b[A\u001b[A\u001b[A\u001b[A\u001b[A\u001b[A\u001b[A\u001b[A\n",
      "\n",
      "\n",
      "\n",
      "\n",
      "\n",
      "\n",
      "\n",
      "\n",
      "\n",
      " 86%|████████▌ | 6/7 [00:29<00:04,  4.93s/it]\u001b[A\u001b[A\u001b[A\u001b[A\u001b[A\u001b[A\u001b[A\u001b[A\u001b[A\u001b[A\n",
      "\n",
      "\n",
      "\n",
      "\n",
      "\n",
      "\n",
      "\n",
      "\n",
      "\n",
      "100%|██████████| 7/7 [00:33<00:00,  4.65s/it]\u001b[A\u001b[A\u001b[A\u001b[A\u001b[A\u001b[A\u001b[A\u001b[A\u001b[A\u001b[A"
     ]
    }
   ],
   "source": [
    "N = X.shape[1]\n",
    "loss=[]\n",
    "for tr in tqdm(training_poss):\n",
    "\n",
    "    splits = int(np.floor((X.shape[0] - tr)/7))\n",
    "\n",
    "    # list of the mape for a given split, this list is reinitialized for every K\n",
    "    temp_mapes = []\n",
    "    y_vals = []\n",
    "    indexes = []\n",
    "    y_preds = []\n",
    "    gammas = []\n",
    "    range_r = [0.00001,0.0001,0.001,0.01, 0.1, 1]\n",
    "    rs = []\n",
    "    for i in range(splits):\n",
    "\n",
    "        begin = 7*i\n",
    "        end = tr + 7*i\n",
    "\n",
    "        X_tr = X[begin:end,:]\n",
    "        y_tr = y[begin:end]\n",
    "\n",
    "        X_te = X[end:end+7,:]\n",
    "        y_te = y[end:end+7]\n",
    "\n",
    "        mape_per_r = []\n",
    "        indexes_temp = []\n",
    "        for r in range_r:\n",
    "\n",
    "            index = find_best_index(X_tr, X_te, y_tr, y_te, 'mape', N, r)\n",
    "            P, q, G, h, A, b = generate_params(X_tr, y_tr, index, N, r, 10e-15)\n",
    "            gamma = cvxopt_solve_qp(P, q, G, h, A,b)\n",
    "            y_pred = X_te@gamma\n",
    "            y_pred[y_pred < 1 ] = 1\n",
    "            y_pred = np.floor(y_pred)\n",
    "            mape_per_r.append(mape(y_te, y_pred))\n",
    "\n",
    "        r = range_r[np.argmin(mape_per_r)]\n",
    "        rs.append(r)\n",
    "        index = find_best_index(X_tr, X_te, y_tr, y_te, 'mape', N, r)\n",
    "        indexes.append(index)\n",
    "        #print('Best r for given split is', r)\n",
    "        P, q, G, h, A, b = generate_params(X_tr, y_tr, index, N, r, 10e-15)\n",
    "        gamma = cvxopt_solve_qp(P, q, G, h, A,b)\n",
    "        y_pred = X_te@gamma\n",
    "        y_pred[y_pred < 1 ] = 1\n",
    "        y_pred = np.floor(y_pred)\n",
    "        temp_mapes.append(mape(y_te, y_pred))\n",
    "        y_preds.append(y_pred)\n",
    "    loss.append(np.mean(temp_mapes))\n",
    "    \n",
    "y_preds = [item for sublist in y_preds for item in sublist]\n"
   ]
  },
  {
   "cell_type": "code",
   "execution_count": 494,
   "metadata": {},
   "outputs": [
    {
     "data": {
      "text/plain": [
       "[0.2706246404081284,\n",
       " 0.3036439209840047,\n",
       " 0.319083739219582,\n",
       " 0.3243152228853741,\n",
       " 0.32381104994662474,\n",
       " 0.28673336906903757,\n",
       " 0.2880309839560601]"
      ]
     },
     "execution_count": 494,
     "metadata": {},
     "output_type": "execute_result"
    }
   ],
   "source": [
    "loss"
   ]
  },
  {
   "cell_type": "code",
   "execution_count": 495,
   "metadata": {},
   "outputs": [
    {
     "data": {
      "text/plain": [
       "array([3, 4, 5, 6, 7, 8, 9])"
      ]
     },
     "execution_count": 495,
     "metadata": {},
     "output_type": "execute_result"
    }
   ],
   "source": [
    "training_poss"
   ]
  },
  {
   "cell_type": "code",
   "execution_count": 496,
   "metadata": {},
   "outputs": [],
   "source": [
    "tr = training_poss[np.argmin(loss)]\n",
    "\n",
    "loss = []\n",
    "\n",
    "N = X.shape[1]\n",
    "splits = int(np.floor((X.shape[0] - tr)/7))\n",
    "\n",
    "# list of the mape for a given split, this list is reinitialized for every K\n",
    "temp_mapes = []\n",
    "y_vals = []\n",
    "gammas = []\n",
    "y_preds = []\n",
    "\n",
    "for i in range(splits):\n",
    "\n",
    "    begin = 7*i\n",
    "    end = tr + 7*i\n",
    "\n",
    "    X_tr = X[begin:end,:]\n",
    "    y_tr = y[begin:end]\n",
    "\n",
    "    X_te = X[end:end+7,:]\n",
    "    y_te = y[end:end+7]\n",
    "        \n",
    "    mape_per_r = []\n",
    "    indexes_temp = []\n",
    "    for r in range_r:\n",
    "\n",
    "        index = find_best_index(X_tr, X_te, y_tr, y_te, 'mape', N, r)\n",
    "        P, q, G, h, A, b = generate_params(X_tr, y_tr, index, N, r, 10e-15)\n",
    "        gamma = cvxopt_solve_qp(P, q, G, h, A,b)\n",
    "        y_pred = X_te@gamma\n",
    "        y_pred[y_pred < 1 ] = 1\n",
    "        y_pred = np.floor(y_pred)\n",
    "        mape_per_r.append(mape(y_te, y_pred))\n",
    "        \n",
    "    r = range_r[np.argmin(mape_per_r)]\n",
    "    rs.append(r)\n",
    "    index = find_best_index(X_tr, X_te, y_tr, y_te, 'mape', N, r)\n",
    "    indexes.append(index)\n",
    "    #print('Best r for given split is', r)\n",
    "    P, q, G, h, A, b = generate_params(X_tr, y_tr, index, N, r, 10e-15)\n",
    "    gamma = cvxopt_solve_qp(P, q, G, h, A,b)\n",
    "    y_pred = X_te@gamma\n",
    "    y_pred[y_pred < 1 ] = 1\n",
    "    y_pred = np.floor(y_pred)\n",
    "    temp_mapes.append(mape(y_te, y_pred))\n",
    "    y_preds.append(y_pred)\n",
    "\n",
    "loss.append(np.mean(temp_mapes))\n"
   ]
  },
  {
   "cell_type": "code",
   "execution_count": 497,
   "metadata": {},
   "outputs": [],
   "source": [
    "y_preds = [item for sublist in y_preds for item in sublist]\n"
   ]
  },
  {
   "cell_type": "code",
   "execution_count": 498,
   "metadata": {},
   "outputs": [
    {
     "name": "stdout",
     "output_type": "stream",
     "text": [
      "The minimum loss of  0.2706246404081284  is obtained using  3 training days\n"
     ]
    }
   ],
   "source": [
    "print('The minimum loss of ', np.min(loss), ' is obtained using ', training_poss[np.argmin(loss)], 'training days') \n"
   ]
  },
  {
   "cell_type": "code",
   "execution_count": 499,
   "metadata": {},
   "outputs": [
    {
     "data": {
      "text/plain": [
       "<matplotlib.legend.Legend at 0x1a191474e0>"
      ]
     },
     "execution_count": 499,
     "metadata": {},
     "output_type": "execute_result"
    },
    {
     "data": {
      "image/png": "[encoded data removed]",
      "text/plain": [
       "<Figure size 432x288 with 1 Axes>"
      ]
     },
     "metadata": {
      "needs_background": "light"
     },
     "output_type": "display_data"
    }
   ],
   "source": [
    "plt.plot(np.append(y[:tr],y_preds), 'b', y, 'g')\n",
    "plt.xlabel('Day')\n",
    "plt.ylabel('Number of Deaths')\n",
    "plt.legend(['Predicted value','True value'])\n",
    "#plt.title('Daily number of deaths in France due to the Covid-19')"
   ]
  }
 ],
 "metadata": {
  "kernelspec": {
   "display_name": "Python 3",
   "language": "python",
   "name": "python3"
  },
  "language_info": {
   "codemirror_mode": {
    "name": "ipython",
    "version": 3
   },
   "file_extension": ".py",
   "mimetype": "text/x-python",
   "name": "python",
   "nbconvert_exporter": "python",
   "pygments_lexer": "ipython3",
   "version": "3.7.3"
  }
 },
 "nbformat": 4,
 "nbformat_minor": 2
}
